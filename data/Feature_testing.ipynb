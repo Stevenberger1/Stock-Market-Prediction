{
 "cells": [
  {
   "cell_type": "markdown",
   "id": "75ad8360",
   "metadata": {},
   "source": [
    "\n",
    "This notebook answers:\n",
    "\n",
    "1. Do new feature families (volatility, range-position, volume, candles, time-seasonality)\n",
    "   improve hourly direction prediction vs. momentum-only?\n",
    "2. Which specific columns contribute the most (held-out permutation importance)?\n"
   ]
  },
  {
   "cell_type": "markdown",
   "id": "2bbd7fd3",
   "metadata": {},
   "source": [
    "### Feature glossary\n",
    "\n",
    "| Feature                | Formula / window                 | Intuition |\n",
    "|------------------------|-----------------------------------|-----------|\n",
    "| **vol_6h**             | Std. dev. of 1-h returns, 6-hour window | Captures short-term volatility spikes that often precede breakouts. |\n",
    "| **vol_24h**            | Std. dev. of 1-h returns, 24 h window  | Detects high-vol vs. calm regimes over one day. |\n",
    "| **atr_14h**            | Mean of `(high-low)` over last 14 bars | A simpler Average True Range; bigger bars → more movement potential. |\n",
    "| **pos_24h**            | `(close − 24h low) / (24h high − 24h low)` | Where price sits inside its 24-hour range (0 = bottom, 1 = top). |\n",
    "| **boll_b**             | Bollinger %B on a 24-h SMA ±2 σ        | >1 means over-bought; <0 means over-sold relative to band. |\n",
    "| **vol_mean_24h**       | 24-h moving average of **Volume BTC**  | Baseline liquidity level. |\n",
    "| **vol_ratio**          | `Volume / vol_mean_24h`                | >1 = current bar has abnormally high volume (demand shock). |\n",
    "| **vol_pct_change**     | % change in volume vs. 6 bars ago      | Sudden volume jumps ahead of price moves. |\n",
    "| **obv**                | Cumulative Σ (sign(return) × Volume)   | On-Balance Volume; tracks whether volume flows with price. |\n",
    "| **body**               | `close − open`                         | Size / direction of candle body (positive = green bar). |\n",
    "| **upper_shadow**       | `high − max(open, close)`              | Buying rejection wick; long tails can signal reversals. |\n",
    "| **lower_shadow**       | `min(open, close) − low`               | Selling rejection wick. |\n",
    "| **hour_sin / hour_cos**| Sin/Cos of UTC hour (0-23)             | Encode intraday cycle (Asia, EU, US sessions). |\n",
    "| **dow**                | Day-of-week (0 = Mon … 6 = Sun)        | Weekend vs. weekday behaviour. |\n"
   ]
  },
  {
   "cell_type": "code",
   "execution_count": 2,
   "id": "5b544392",
   "metadata": {},
   "outputs": [
    {
     "name": "stdout",
     "output_type": "stream",
     "text": [
      "82,519 rows  2015-10-08 14:00:00 → 2025-03-27 23:00:00\n"
     ]
    }
   ],
   "source": [
    "# Cell 1 ▸ Imports & data load\n",
    "import pandas as pd, numpy as np\n",
    "from sklearn.ensemble import RandomForestClassifier\n",
    "from sklearn.model_selection import TimeSeriesSplit\n",
    "from sklearn.metrics import (\n",
    "    accuracy_score, precision_score, recall_score,\n",
    "    f1_score, roc_auc_score, confusion_matrix\n",
    ")\n",
    "from sklearn.inspection import permutation_importance\n",
    "\n",
    "CSV = r\"C:\\Users\\ADMIN\\Desktop\\Coding_projects\\stock_market_prediction\\Stock-Market-Prediction\\data\\processed\\gemini_btc_data_final_version.csv\"\n",
    "df  = (\n",
    "    pd.read_csv(CSV, parse_dates=[\"date\"])\n",
    "      .sort_values(\"date\")\n",
    "      .reset_index(drop=True)\n",
    ")\n",
    "\n",
    "print(f\"{len(df):,} rows  {df['date'].min()} → {df['date'].max()}\")\n"
   ]
  },
  {
   "cell_type": "code",
   "execution_count": 10,
   "id": "cebb35c1",
   "metadata": {},
   "outputs": [
    {
     "name": "stdout",
     "output_type": "stream",
     "text": [
      "Feature engineering safe-completed.  Rows left: 47903\n"
     ]
    }
   ],
   "source": [
    "# Cell 2 ▸ Safe feature-engineering (guard against div-by-zero, inf, NaN)\n",
    "EPS = 1e-9                     # tiny constant to avoid /0\n",
    "\n",
    "# --- Momentum -----------------------------------------------------\n",
    "df['roc_4h']  = df['close'].pct_change(4)\n",
    "df['roc_24h'] = df['close'].pct_change(24)\n",
    "df['roc_7d']  = df['close'].pct_change(24*7)\n",
    "df['roc_30d'] = df['close'].pct_change(24*30)\n",
    "\n",
    "# --- Volatility ---------------------------------------------------\n",
    "ret_1h = df['close'].pct_change()\n",
    "df['vol_6h']  = ret_1h.rolling(6).std()\n",
    "df['vol_24h'] = ret_1h.rolling(24).std()\n",
    "df['atr_14h'] = (df['high'] - df['low']).rolling(14).mean()\n",
    "\n",
    "# --- Range position ----------------------------------------------\n",
    "rng_hi = df['high'].rolling(24).max()\n",
    "rng_lo = df['low'] .rolling(24).min()\n",
    "rng    = (rng_hi - rng_lo).replace(0, EPS)     # avoid 0-range\n",
    "\n",
    "df['pos_24h'] = (df['close'] - rng_lo) / rng\n",
    "\n",
    "mid_24h = df['close'].rolling(24).mean()\n",
    "std_24h = df['close'].rolling(24).std().replace(0, EPS)\n",
    "df['boll_b'] = (df['close'] - (mid_24h - 2*std_24h)) / (4*std_24h)\n",
    "\n",
    "# --- Volume / liquidity ------------------------------------------\n",
    "df['vol_mean_24h']   = df['Volume BTC'].rolling(24).mean().replace(0, EPS)\n",
    "df['vol_ratio']      = df['Volume BTC'] / df['vol_mean_24h']\n",
    "df['vol_pct_change'] = df['Volume BTC'].pct_change(6)\n",
    "\n",
    "direction = np.sign(df['close'].diff()).fillna(0)\n",
    "df['obv'] = (direction * df['Volume BTC']).cumsum()\n",
    "\n",
    "# --- Candlestick shape -------------------------------------------\n",
    "df['body']          = df['close'] - df['open']\n",
    "df['upper_shadow']  = df['high'] - df[['close','open']].max(axis=1)\n",
    "df['lower_shadow']  = df[['close','open']].min(axis=1) - df['low']\n",
    "\n",
    "# --- Time-of-day / weekday ---------------------------------------\n",
    "df['hour'] = df['date'].dt.hour\n",
    "df['hour_sin'] = np.sin(2*np.pi*df['hour']/24)\n",
    "df['hour_cos'] = np.cos(2*np.pi*df['hour']/24)\n",
    "df['dow']  = df['date'].dt.dayofweek\n",
    "\n",
    "# --- Final clean-up: drop or impute all inf / NaN -----------------\n",
    "df = (\n",
    "    df.replace([np.inf, -np.inf], np.nan)   # turn inf → NaN\n",
    "      .dropna()                             # drop remaining NaNs\n",
    "      .reset_index(drop=True)\n",
    ")\n",
    "\n",
    "print(\"Feature engineering safe-completed.  Rows left:\", len(df))\n"
   ]
  },
  {
   "cell_type": "code",
   "execution_count": 12,
   "id": "91599767",
   "metadata": {},
   "outputs": [
    {
     "name": "stdout",
     "output_type": "stream",
     "text": [
      "Total rows after cleaning : 47903\n",
      "Any remaining NaN?        : False\n",
      "Any ±inf after cleaning?  : False\n"
     ]
    }
   ],
   "source": [
    "# Cell 2b ▸ sanity-check (numeric columns only)\n",
    "num = df.select_dtypes(include=[np.number]).values\n",
    "\n",
    "print(\"Total rows after cleaning :\", len(df))\n",
    "print(\"Any remaining NaN?        :\", df.isna().any().any())\n",
    "print(\"Any ±inf after cleaning?  :\", np.isinf(num).any())\n"
   ]
  },
  {
   "cell_type": "code",
   "execution_count": 6,
   "id": "cce0c9e1",
   "metadata": {},
   "outputs": [
    {
     "name": "stdout",
     "output_type": "stream",
     "text": [
      "Class balance:\n",
      " direction\n",
      "1.0    0.5\n",
      "0.0    0.5\n",
      "Name: proportion, dtype: float64\n"
     ]
    }
   ],
   "source": [
    "# Cell 3 ▸ Build quantile-based direction label (clearer than 1 % cutoff)\n",
    "ret_1h = df['close'].pct_change()\n",
    "up_thr, dn_thr = ret_1h.quantile([0.7, 0.3])\n",
    "df['direction'] = np.select(\n",
    "    [ret_1h >= up_thr, ret_1h <= dn_thr],\n",
    "    [1, 0],\n",
    "    default=np.nan\n",
    ")\n",
    "df = df.dropna(subset=['direction']).reset_index(drop=True)\n",
    "print(\"Class balance:\\n\", df['direction'].value_counts(normalize=True))\n"
   ]
  },
  {
   "cell_type": "code",
   "execution_count": 7,
   "id": "7a10c591",
   "metadata": {},
   "outputs": [],
   "source": [
    "# Cell 4 ▸ Feature-family dictionaries\n",
    "F_MOM   = ['roc_4h','roc_24h','roc_7d','roc_30d']\n",
    "F_VOL   = ['vol_6h','vol_24h','atr_14h']\n",
    "F_RNG   = ['pos_24h','boll_b']\n",
    "F_VLM   = ['vol_ratio','vol_pct_change','obv']\n",
    "F_CDL   = ['body','upper_shadow','lower_shadow']\n",
    "F_TIME  = ['hour_sin','hour_cos','dow']\n",
    "\n",
    "SETUPS = {\n",
    "    \"Momentum-only\"        : F_MOM,\n",
    "    \"Momentum+Volatility\"  : F_MOM + F_VOL,\n",
    "    \"Momentum+Range\"       : F_MOM + F_RNG,\n",
    "    \"Momentum+Volume\"      : F_MOM + F_VLM,\n",
    "    \"Momentum+Candles\"     : F_MOM + F_CDL,\n",
    "    \"Momentum+Time\"        : F_MOM + F_TIME,\n",
    "    \"ALL_FEATURES\"         : F_MOM + F_VOL + F_RNG + F_VLM + F_CDL + F_TIME,\n",
    "}\n"
   ]
  },
  {
   "cell_type": "code",
   "execution_count": 8,
   "id": "3c90b924",
   "metadata": {},
   "outputs": [],
   "source": [
    "# Cell 5 ▸ Evaluation helper (TimeSeriesSplit + held-out permutation importance)\n",
    "def evaluate(feature_list, label='direction', n_splits=5):\n",
    "    tscv = TimeSeriesSplit(n_splits=n_splits)\n",
    "    metrics, importances = [], []\n",
    "    \n",
    "    for fold,(train_idx, test_idx) in enumerate(tscv.split(df)):\n",
    "        X_train, y_train = df.loc[train_idx, feature_list], df.loc[train_idx, label]\n",
    "        X_test , y_test  = df.loc[test_idx , feature_list], df.loc[test_idx , label]\n",
    "\n",
    "        clf = RandomForestClassifier(\n",
    "            n_estimators=400, max_depth=None, n_jobs=-1, random_state=fold\n",
    "        ).fit(X_train, y_train)\n",
    "\n",
    "        y_pred = clf.predict(X_test)\n",
    "        y_prob = clf.predict_proba(X_test)[:,1]\n",
    "        \n",
    "        metrics.append({\n",
    "            \"accuracy\" : accuracy_score(y_test, y_pred),\n",
    "            \"precision\": precision_score(y_test, y_pred, zero_division=0),\n",
    "            \"recall\"   : recall_score(y_test, y_pred, zero_division=0),\n",
    "            \"f1\"       : f1_score(y_test, y_pred, zero_division=0),\n",
    "            \"roc_auc\"  : roc_auc_score(y_test, y_prob)\n",
    "        })\n",
    "        \n",
    "        imp = permutation_importance(\n",
    "            clf, X_test, y_test,\n",
    "            scoring=\"accuracy\", n_repeats=20, random_state=fold, n_jobs=-1\n",
    "        )\n",
    "        importances.append(pd.Series(imp.importances_mean, index=feature_list))\n",
    "    \n",
    "    metr_df = pd.DataFrame(metrics).mean().round(3)\n",
    "    imp_df  = pd.concat(importances, axis=1).mean(axis=1).sort_values(ascending=False)\n",
    "    return metr_df, imp_df\n"
   ]
  },
  {
   "cell_type": "code",
   "execution_count": 9,
   "id": "7c404890",
   "metadata": {},
   "outputs": [
    {
     "name": "stdout",
     "output_type": "stream",
     "text": [
      "▶ Evaluating: Momentum-only  (4 features)\n",
      "▶ Evaluating: Momentum+Volatility  (7 features)\n",
      "▶ Evaluating: Momentum+Range  (6 features)\n",
      "▶ Evaluating: Momentum+Volume  (7 features)\n"
     ]
    },
    {
     "ename": "ValueError",
     "evalue": "Input X contains infinity or a value too large for dtype('float32').",
     "output_type": "error",
     "traceback": [
      "\u001b[1;31m---------------------------------------------------------------------------\u001b[0m",
      "\u001b[1;31mValueError\u001b[0m                                Traceback (most recent call last)",
      "Cell \u001b[1;32mIn[9], line 5\u001b[0m\n\u001b[0;32m      3\u001b[0m \u001b[38;5;28;01mfor\u001b[39;00m name, feats \u001b[38;5;129;01min\u001b[39;00m SETUPS\u001b[38;5;241m.\u001b[39mitems():\n\u001b[0;32m      4\u001b[0m     \u001b[38;5;28mprint\u001b[39m(\u001b[38;5;124mf\u001b[39m\u001b[38;5;124m\"\u001b[39m\u001b[38;5;124m▶ Evaluating: \u001b[39m\u001b[38;5;132;01m{\u001b[39;00mname\u001b[38;5;132;01m}\u001b[39;00m\u001b[38;5;124m  (\u001b[39m\u001b[38;5;132;01m{\u001b[39;00m\u001b[38;5;28mlen\u001b[39m(feats)\u001b[38;5;132;01m}\u001b[39;00m\u001b[38;5;124m features)\u001b[39m\u001b[38;5;124m\"\u001b[39m)\n\u001b[1;32m----> 5\u001b[0m     res, imp \u001b[38;5;241m=\u001b[39m \u001b[43mevaluate\u001b[49m\u001b[43m(\u001b[49m\u001b[43mfeats\u001b[49m\u001b[43m)\u001b[49m\n\u001b[0;32m      6\u001b[0m     results[name] \u001b[38;5;241m=\u001b[39m res\n\u001b[0;32m      7\u001b[0m     imps[name]    \u001b[38;5;241m=\u001b[39m imp\n",
      "Cell \u001b[1;32mIn[8], line 12\u001b[0m, in \u001b[0;36mevaluate\u001b[1;34m(feature_list, label, n_splits)\u001b[0m\n\u001b[0;32m      7\u001b[0m X_train, y_train \u001b[38;5;241m=\u001b[39m df\u001b[38;5;241m.\u001b[39mloc[train_idx, feature_list], df\u001b[38;5;241m.\u001b[39mloc[train_idx, label]\n\u001b[0;32m      8\u001b[0m X_test , y_test  \u001b[38;5;241m=\u001b[39m df\u001b[38;5;241m.\u001b[39mloc[test_idx , feature_list], df\u001b[38;5;241m.\u001b[39mloc[test_idx , label]\n\u001b[0;32m     10\u001b[0m clf \u001b[38;5;241m=\u001b[39m \u001b[43mRandomForestClassifier\u001b[49m\u001b[43m(\u001b[49m\n\u001b[0;32m     11\u001b[0m \u001b[43m    \u001b[49m\u001b[43mn_estimators\u001b[49m\u001b[38;5;241;43m=\u001b[39;49m\u001b[38;5;241;43m400\u001b[39;49m\u001b[43m,\u001b[49m\u001b[43m \u001b[49m\u001b[43mmax_depth\u001b[49m\u001b[38;5;241;43m=\u001b[39;49m\u001b[38;5;28;43;01mNone\u001b[39;49;00m\u001b[43m,\u001b[49m\u001b[43m \u001b[49m\u001b[43mn_jobs\u001b[49m\u001b[38;5;241;43m=\u001b[39;49m\u001b[38;5;241;43m-\u001b[39;49m\u001b[38;5;241;43m1\u001b[39;49m\u001b[43m,\u001b[49m\u001b[43m \u001b[49m\u001b[43mrandom_state\u001b[49m\u001b[38;5;241;43m=\u001b[39;49m\u001b[43mfold\u001b[49m\n\u001b[1;32m---> 12\u001b[0m \u001b[43m\u001b[49m\u001b[43m)\u001b[49m\u001b[38;5;241;43m.\u001b[39;49m\u001b[43mfit\u001b[49m\u001b[43m(\u001b[49m\u001b[43mX_train\u001b[49m\u001b[43m,\u001b[49m\u001b[43m \u001b[49m\u001b[43my_train\u001b[49m\u001b[43m)\u001b[49m\n\u001b[0;32m     14\u001b[0m y_pred \u001b[38;5;241m=\u001b[39m clf\u001b[38;5;241m.\u001b[39mpredict(X_test)\n\u001b[0;32m     15\u001b[0m y_prob \u001b[38;5;241m=\u001b[39m clf\u001b[38;5;241m.\u001b[39mpredict_proba(X_test)[:,\u001b[38;5;241m1\u001b[39m]\n",
      "File \u001b[1;32mc:\\Users\\ADMIN\\AppData\\Local\\Programs\\Python\\Python310\\lib\\site-packages\\sklearn\\ensemble\\_forest.py:331\u001b[0m, in \u001b[0;36mBaseForest.fit\u001b[1;34m(self, X, y, sample_weight)\u001b[0m\n\u001b[0;32m    329\u001b[0m \u001b[38;5;28;01mif\u001b[39;00m issparse(y):\n\u001b[0;32m    330\u001b[0m     \u001b[38;5;28;01mraise\u001b[39;00m \u001b[38;5;167;01mValueError\u001b[39;00m(\u001b[38;5;124m\"\u001b[39m\u001b[38;5;124msparse multilabel-indicator for y is not supported.\u001b[39m\u001b[38;5;124m\"\u001b[39m)\n\u001b[1;32m--> 331\u001b[0m X, y \u001b[38;5;241m=\u001b[39m \u001b[38;5;28;43mself\u001b[39;49m\u001b[38;5;241;43m.\u001b[39;49m\u001b[43m_validate_data\u001b[49m\u001b[43m(\u001b[49m\n\u001b[0;32m    332\u001b[0m \u001b[43m    \u001b[49m\u001b[43mX\u001b[49m\u001b[43m,\u001b[49m\u001b[43m \u001b[49m\u001b[43my\u001b[49m\u001b[43m,\u001b[49m\u001b[43m \u001b[49m\u001b[43mmulti_output\u001b[49m\u001b[38;5;241;43m=\u001b[39;49m\u001b[38;5;28;43;01mTrue\u001b[39;49;00m\u001b[43m,\u001b[49m\u001b[43m \u001b[49m\u001b[43maccept_sparse\u001b[49m\u001b[38;5;241;43m=\u001b[39;49m\u001b[38;5;124;43m\"\u001b[39;49m\u001b[38;5;124;43mcsc\u001b[39;49m\u001b[38;5;124;43m\"\u001b[39;49m\u001b[43m,\u001b[49m\u001b[43m \u001b[49m\u001b[43mdtype\u001b[49m\u001b[38;5;241;43m=\u001b[39;49m\u001b[43mDTYPE\u001b[49m\n\u001b[0;32m    333\u001b[0m \u001b[43m\u001b[49m\u001b[43m)\u001b[49m\n\u001b[0;32m    334\u001b[0m \u001b[38;5;28;01mif\u001b[39;00m sample_weight \u001b[38;5;129;01mis\u001b[39;00m \u001b[38;5;129;01mnot\u001b[39;00m \u001b[38;5;28;01mNone\u001b[39;00m:\n\u001b[0;32m    335\u001b[0m     sample_weight \u001b[38;5;241m=\u001b[39m _check_sample_weight(sample_weight, X)\n",
      "File \u001b[1;32mc:\\Users\\ADMIN\\AppData\\Local\\Programs\\Python\\Python310\\lib\\site-packages\\sklearn\\base.py:596\u001b[0m, in \u001b[0;36mBaseEstimator._validate_data\u001b[1;34m(self, X, y, reset, validate_separately, **check_params)\u001b[0m\n\u001b[0;32m    594\u001b[0m         y \u001b[38;5;241m=\u001b[39m check_array(y, input_name\u001b[38;5;241m=\u001b[39m\u001b[38;5;124m\"\u001b[39m\u001b[38;5;124my\u001b[39m\u001b[38;5;124m\"\u001b[39m, \u001b[38;5;241m*\u001b[39m\u001b[38;5;241m*\u001b[39mcheck_y_params)\n\u001b[0;32m    595\u001b[0m     \u001b[38;5;28;01melse\u001b[39;00m:\n\u001b[1;32m--> 596\u001b[0m         X, y \u001b[38;5;241m=\u001b[39m check_X_y(X, y, \u001b[38;5;241m*\u001b[39m\u001b[38;5;241m*\u001b[39mcheck_params)\n\u001b[0;32m    597\u001b[0m     out \u001b[38;5;241m=\u001b[39m X, y\n\u001b[0;32m    599\u001b[0m \u001b[38;5;28;01mif\u001b[39;00m \u001b[38;5;129;01mnot\u001b[39;00m no_val_X \u001b[38;5;129;01mand\u001b[39;00m check_params\u001b[38;5;241m.\u001b[39mget(\u001b[38;5;124m\"\u001b[39m\u001b[38;5;124mensure_2d\u001b[39m\u001b[38;5;124m\"\u001b[39m, \u001b[38;5;28;01mTrue\u001b[39;00m):\n",
      "File \u001b[1;32mc:\\Users\\ADMIN\\AppData\\Local\\Programs\\Python\\Python310\\lib\\site-packages\\sklearn\\utils\\validation.py:1074\u001b[0m, in \u001b[0;36mcheck_X_y\u001b[1;34m(X, y, accept_sparse, accept_large_sparse, dtype, order, copy, force_all_finite, ensure_2d, allow_nd, multi_output, ensure_min_samples, ensure_min_features, y_numeric, estimator)\u001b[0m\n\u001b[0;32m   1069\u001b[0m         estimator_name \u001b[38;5;241m=\u001b[39m _check_estimator_name(estimator)\n\u001b[0;32m   1070\u001b[0m     \u001b[38;5;28;01mraise\u001b[39;00m \u001b[38;5;167;01mValueError\u001b[39;00m(\n\u001b[0;32m   1071\u001b[0m         \u001b[38;5;124mf\u001b[39m\u001b[38;5;124m\"\u001b[39m\u001b[38;5;132;01m{\u001b[39;00mestimator_name\u001b[38;5;132;01m}\u001b[39;00m\u001b[38;5;124m requires y to be passed, but the target y is None\u001b[39m\u001b[38;5;124m\"\u001b[39m\n\u001b[0;32m   1072\u001b[0m     )\n\u001b[1;32m-> 1074\u001b[0m X \u001b[38;5;241m=\u001b[39m \u001b[43mcheck_array\u001b[49m\u001b[43m(\u001b[49m\n\u001b[0;32m   1075\u001b[0m \u001b[43m    \u001b[49m\u001b[43mX\u001b[49m\u001b[43m,\u001b[49m\n\u001b[0;32m   1076\u001b[0m \u001b[43m    \u001b[49m\u001b[43maccept_sparse\u001b[49m\u001b[38;5;241;43m=\u001b[39;49m\u001b[43maccept_sparse\u001b[49m\u001b[43m,\u001b[49m\n\u001b[0;32m   1077\u001b[0m \u001b[43m    \u001b[49m\u001b[43maccept_large_sparse\u001b[49m\u001b[38;5;241;43m=\u001b[39;49m\u001b[43maccept_large_sparse\u001b[49m\u001b[43m,\u001b[49m\n\u001b[0;32m   1078\u001b[0m \u001b[43m    \u001b[49m\u001b[43mdtype\u001b[49m\u001b[38;5;241;43m=\u001b[39;49m\u001b[43mdtype\u001b[49m\u001b[43m,\u001b[49m\n\u001b[0;32m   1079\u001b[0m \u001b[43m    \u001b[49m\u001b[43morder\u001b[49m\u001b[38;5;241;43m=\u001b[39;49m\u001b[43morder\u001b[49m\u001b[43m,\u001b[49m\n\u001b[0;32m   1080\u001b[0m \u001b[43m    \u001b[49m\u001b[43mcopy\u001b[49m\u001b[38;5;241;43m=\u001b[39;49m\u001b[43mcopy\u001b[49m\u001b[43m,\u001b[49m\n\u001b[0;32m   1081\u001b[0m \u001b[43m    \u001b[49m\u001b[43mforce_all_finite\u001b[49m\u001b[38;5;241;43m=\u001b[39;49m\u001b[43mforce_all_finite\u001b[49m\u001b[43m,\u001b[49m\n\u001b[0;32m   1082\u001b[0m \u001b[43m    \u001b[49m\u001b[43mensure_2d\u001b[49m\u001b[38;5;241;43m=\u001b[39;49m\u001b[43mensure_2d\u001b[49m\u001b[43m,\u001b[49m\n\u001b[0;32m   1083\u001b[0m \u001b[43m    \u001b[49m\u001b[43mallow_nd\u001b[49m\u001b[38;5;241;43m=\u001b[39;49m\u001b[43mallow_nd\u001b[49m\u001b[43m,\u001b[49m\n\u001b[0;32m   1084\u001b[0m \u001b[43m    \u001b[49m\u001b[43mensure_min_samples\u001b[49m\u001b[38;5;241;43m=\u001b[39;49m\u001b[43mensure_min_samples\u001b[49m\u001b[43m,\u001b[49m\n\u001b[0;32m   1085\u001b[0m \u001b[43m    \u001b[49m\u001b[43mensure_min_features\u001b[49m\u001b[38;5;241;43m=\u001b[39;49m\u001b[43mensure_min_features\u001b[49m\u001b[43m,\u001b[49m\n\u001b[0;32m   1086\u001b[0m \u001b[43m    \u001b[49m\u001b[43mestimator\u001b[49m\u001b[38;5;241;43m=\u001b[39;49m\u001b[43mestimator\u001b[49m\u001b[43m,\u001b[49m\n\u001b[0;32m   1087\u001b[0m \u001b[43m    \u001b[49m\u001b[43minput_name\u001b[49m\u001b[38;5;241;43m=\u001b[39;49m\u001b[38;5;124;43m\"\u001b[39;49m\u001b[38;5;124;43mX\u001b[39;49m\u001b[38;5;124;43m\"\u001b[39;49m\u001b[43m,\u001b[49m\n\u001b[0;32m   1088\u001b[0m \u001b[43m\u001b[49m\u001b[43m)\u001b[49m\n\u001b[0;32m   1090\u001b[0m y \u001b[38;5;241m=\u001b[39m _check_y(y, multi_output\u001b[38;5;241m=\u001b[39mmulti_output, y_numeric\u001b[38;5;241m=\u001b[39my_numeric, estimator\u001b[38;5;241m=\u001b[39mestimator)\n\u001b[0;32m   1092\u001b[0m check_consistent_length(X, y)\n",
      "File \u001b[1;32mc:\\Users\\ADMIN\\AppData\\Local\\Programs\\Python\\Python310\\lib\\site-packages\\sklearn\\utils\\validation.py:899\u001b[0m, in \u001b[0;36mcheck_array\u001b[1;34m(array, accept_sparse, accept_large_sparse, dtype, order, copy, force_all_finite, ensure_2d, allow_nd, ensure_min_samples, ensure_min_features, estimator, input_name)\u001b[0m\n\u001b[0;32m    893\u001b[0m         \u001b[38;5;28;01mraise\u001b[39;00m \u001b[38;5;167;01mValueError\u001b[39;00m(\n\u001b[0;32m    894\u001b[0m             \u001b[38;5;124m\"\u001b[39m\u001b[38;5;124mFound array with dim \u001b[39m\u001b[38;5;132;01m%d\u001b[39;00m\u001b[38;5;124m. \u001b[39m\u001b[38;5;132;01m%s\u001b[39;00m\u001b[38;5;124m expected <= 2.\u001b[39m\u001b[38;5;124m\"\u001b[39m\n\u001b[0;32m    895\u001b[0m             \u001b[38;5;241m%\u001b[39m (array\u001b[38;5;241m.\u001b[39mndim, estimator_name)\n\u001b[0;32m    896\u001b[0m         )\n\u001b[0;32m    898\u001b[0m     \u001b[38;5;28;01mif\u001b[39;00m force_all_finite:\n\u001b[1;32m--> 899\u001b[0m         \u001b[43m_assert_all_finite\u001b[49m\u001b[43m(\u001b[49m\n\u001b[0;32m    900\u001b[0m \u001b[43m            \u001b[49m\u001b[43marray\u001b[49m\u001b[43m,\u001b[49m\n\u001b[0;32m    901\u001b[0m \u001b[43m            \u001b[49m\u001b[43minput_name\u001b[49m\u001b[38;5;241;43m=\u001b[39;49m\u001b[43minput_name\u001b[49m\u001b[43m,\u001b[49m\n\u001b[0;32m    902\u001b[0m \u001b[43m            \u001b[49m\u001b[43mestimator_name\u001b[49m\u001b[38;5;241;43m=\u001b[39;49m\u001b[43mestimator_name\u001b[49m\u001b[43m,\u001b[49m\n\u001b[0;32m    903\u001b[0m \u001b[43m            \u001b[49m\u001b[43mallow_nan\u001b[49m\u001b[38;5;241;43m=\u001b[39;49m\u001b[43mforce_all_finite\u001b[49m\u001b[43m \u001b[49m\u001b[38;5;241;43m==\u001b[39;49m\u001b[43m \u001b[49m\u001b[38;5;124;43m\"\u001b[39;49m\u001b[38;5;124;43mallow-nan\u001b[39;49m\u001b[38;5;124;43m\"\u001b[39;49m\u001b[43m,\u001b[49m\n\u001b[0;32m    904\u001b[0m \u001b[43m        \u001b[49m\u001b[43m)\u001b[49m\n\u001b[0;32m    906\u001b[0m \u001b[38;5;28;01mif\u001b[39;00m ensure_min_samples \u001b[38;5;241m>\u001b[39m \u001b[38;5;241m0\u001b[39m:\n\u001b[0;32m    907\u001b[0m     n_samples \u001b[38;5;241m=\u001b[39m _num_samples(array)\n",
      "File \u001b[1;32mc:\\Users\\ADMIN\\AppData\\Local\\Programs\\Python\\Python310\\lib\\site-packages\\sklearn\\utils\\validation.py:146\u001b[0m, in \u001b[0;36m_assert_all_finite\u001b[1;34m(X, allow_nan, msg_dtype, estimator_name, input_name)\u001b[0m\n\u001b[0;32m    124\u001b[0m         \u001b[38;5;28;01mif\u001b[39;00m (\n\u001b[0;32m    125\u001b[0m             \u001b[38;5;129;01mnot\u001b[39;00m allow_nan\n\u001b[0;32m    126\u001b[0m             \u001b[38;5;129;01mand\u001b[39;00m estimator_name\n\u001b[1;32m   (...)\u001b[0m\n\u001b[0;32m    130\u001b[0m             \u001b[38;5;66;03m# Improve the error message on how to handle missing values in\u001b[39;00m\n\u001b[0;32m    131\u001b[0m             \u001b[38;5;66;03m# scikit-learn.\u001b[39;00m\n\u001b[0;32m    132\u001b[0m             msg_err \u001b[38;5;241m+\u001b[39m\u001b[38;5;241m=\u001b[39m (\n\u001b[0;32m    133\u001b[0m                 \u001b[38;5;124mf\u001b[39m\u001b[38;5;124m\"\u001b[39m\u001b[38;5;130;01m\\n\u001b[39;00m\u001b[38;5;132;01m{\u001b[39;00mestimator_name\u001b[38;5;132;01m}\u001b[39;00m\u001b[38;5;124m does not accept missing values\u001b[39m\u001b[38;5;124m\"\u001b[39m\n\u001b[0;32m    134\u001b[0m                 \u001b[38;5;124m\"\u001b[39m\u001b[38;5;124m encoded as NaN natively. For supervised learning, you might want\u001b[39m\u001b[38;5;124m\"\u001b[39m\n\u001b[1;32m   (...)\u001b[0m\n\u001b[0;32m    144\u001b[0m                 \u001b[38;5;124m\"\u001b[39m\u001b[38;5;124m#estimators-that-handle-nan-values\u001b[39m\u001b[38;5;124m\"\u001b[39m\n\u001b[0;32m    145\u001b[0m             )\n\u001b[1;32m--> 146\u001b[0m         \u001b[38;5;28;01mraise\u001b[39;00m \u001b[38;5;167;01mValueError\u001b[39;00m(msg_err)\n\u001b[0;32m    148\u001b[0m \u001b[38;5;66;03m# for object dtype data, we only check for NaNs (GH-13254)\u001b[39;00m\n\u001b[0;32m    149\u001b[0m \u001b[38;5;28;01melif\u001b[39;00m X\u001b[38;5;241m.\u001b[39mdtype \u001b[38;5;241m==\u001b[39m np\u001b[38;5;241m.\u001b[39mdtype(\u001b[38;5;124m\"\u001b[39m\u001b[38;5;124mobject\u001b[39m\u001b[38;5;124m\"\u001b[39m) \u001b[38;5;129;01mand\u001b[39;00m \u001b[38;5;129;01mnot\u001b[39;00m allow_nan:\n",
      "\u001b[1;31mValueError\u001b[0m: Input X contains infinity or a value too large for dtype('float32')."
     ]
    }
   ],
   "source": [
    "# Cell 6 ▸ Run all setups and store results\n",
    "results, imps = {}, {}\n",
    "for name, feats in SETUPS.items():\n",
    "    print(f\"▶ Evaluating: {name}  ({len(feats)} features)\")\n",
    "    res, imp = evaluate(feats)\n",
    "    results[name] = res\n",
    "    imps[name]    = imp\n"
   ]
  },
  {
   "cell_type": "code",
   "execution_count": null,
   "id": "4e3ae7dd",
   "metadata": {},
   "outputs": [],
   "source": [
    "# Cell 7 ▸ Show metrics table (higher is better for all)\n",
    "metrics_df = pd.DataFrame(results).T.sort_values(\"roc_auc\", ascending=False)\n",
    "metrics_df\n"
   ]
  },
  {
   "cell_type": "code",
   "execution_count": null,
   "id": "c863aaf9",
   "metadata": {},
   "outputs": [],
   "source": [
    "# Cell 8 ▸ Display top-10 held-out importances for BEST setup\n",
    "best_name = metrics_df.index[0]\n",
    "print(f\"Top features for: {best_name}\\n\")\n",
    "imps[best_name].head(10)\n"
   ]
  }
 ],
 "metadata": {
  "kernelspec": {
   "display_name": "Python 3",
   "language": "python",
   "name": "python3"
  },
  "language_info": {
   "codemirror_mode": {
    "name": "ipython",
    "version": 3
   },
   "file_extension": ".py",
   "mimetype": "text/x-python",
   "name": "python",
   "nbconvert_exporter": "python",
   "pygments_lexer": "ipython3",
   "version": "3.10.6"
  }
 },
 "nbformat": 4,
 "nbformat_minor": 5
}
