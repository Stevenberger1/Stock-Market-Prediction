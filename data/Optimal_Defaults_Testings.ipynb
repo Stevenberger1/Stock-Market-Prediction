{
 "cells": [
  {
   "cell_type": "markdown",
   "id": "8a70daad",
   "metadata": {},
   "source": [
    "# In this notebook we will figure out which default paramters we would use, for exmaple  the years of the data and the horizons "
   ]
  }
 ],
 "metadata": {
  "language_info": {
   "name": "python"
  }
 },
 "nbformat": 4,
 "nbformat_minor": 5
}
