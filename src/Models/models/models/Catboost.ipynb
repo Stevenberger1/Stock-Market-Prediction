{
 "cells": [
  {
   "cell_type": "markdown",
   "id": "056a8158",
   "metadata": {},
   "source": [
    "# In this notebook we would train the catboost model"
   ]
  },
  {
   "cell_type": "code",
   "execution_count": null,
   "id": "046c4dad",
   "metadata": {},
   "outputs": [],
   "source": [
    "drop_catboost_data_driven = [\n",
    "    # Raw OHLC (massively correlated with close)\n",
    "    'open', 'high', 'low',\n",
    "    \n",
    "    # ATR components\n",
    "    'high_low', 'high_close', 'low_close',\n",
    "    \n",
    "    # Helper calculations  \n",
    "    'typical_price',  # 99.99% corr with close\n",
    "    'true_range',     # Captured in atr_14\n",
    "    'volume_mean_20', # Used in ratio\n",
    "    \n",
    "    # Highly correlated MAs (keep EMA_7, drop others)\n",
    "    'EMA_21',         # 99.99% corr with SMA_20\n",
    "    'SMA_20',         # 99.99% corr with vwap_24h  \n",
    "    'vwap_24h',       # Redundant with SMA_20\n",
    "    'close_4h',       # 99.99% corr with close\n",
    "    \n",
    "    # Bollinger components (keep bb_position, width)\n",
    "    'bollinger_upper', 'bollinger_lower',  # 99.98% corr with SMA_20\n",
    "    \n",
    "    # MACD components (keep histogram)\n",
    "    'MACD_line', 'MACD_signal',  # 95% corr, histogram captures key info\n",
    "    \n",
    "    # Support/resistance (99.85% corr with each other)\n",
    "    'resistance_level', 'support_level',  # Highly correlated\n",
    "    \n",
    "    # Zero-importance binary flags\n",
    "    'vol_spike_1_5x',           # 0 LightGBM splits\n",
    "    'near_upper_band', 'near_lower_band',  # 0 LightGBM splits\n",
    "    'break_upper_band', 'break_lower_band', # 0 LightGBM splits\n",
    "    'rsi_oversold',             # 0 LightGBM splits\n",
    "    'above_sma20',              # 0 LightGBM splits, derivable\n",
    "    'macd_positive',            # 0 LightGBM splits\n",
    "    'volume_breakout', 'volume_breakdown',  # 0 LightGBM splits\n",
    "    \n",
    "    # Highly correlated position flags\n",
    "    'above_sma50', 'ema7_above_ema21',  # 77% corr, derivable\n",
    "    \n",
    "    # Low-importance cross signals (keep best ones)\n",
    "    'ema_cross_down',           # Lower importance than ema_cross_up\n",
    "    \n",
    "    # Some oscillator extremes (keep the reversals)\n",
    "    'rsi_overbought', 'stoch_overbought', 'stoch_oversold',\n",
    "    'cci_overbought', 'cci_oversold',\n",
    "    \n",
    "    # Trend flags vs continuous values\n",
    "    'trending_market',          # Keep ADX value instead\n",
    "    \n",
    "    # All scenario features (very low importance)\n",
    "    'bullish_scenario_1', 'bullish_scenario_2', 'bullish_scenario_3',\n",
    "    'bullish_scenario_4', 'bullish_scenario_5', 'bullish_scenario_6',\n",
    "    'bearish_scenario_1', 'bearish_scenario_2', 'bearish_scenario_3',\n",
    "    'bearish_scenario_4', 'bearish_scenario_6',\n",
    "]"
   ]
  },
  {
   "cell_type": "code",
   "execution_count": null,
   "id": "b71ad4f5",
   "metadata": {},
   "outputs": [
    {
     "name": "stderr",
     "output_type": "stream",
     "text": [
      "[I 2025-06-12 11:10:22,340] A new study created in memory with name: no-name-28b17c07-ed34-4a61-bac9-7eaf66c6d443\n"
     ]
    },
    {
     "name": "stdout",
     "output_type": "stream",
     "text": [
      "🖥️ Platform: Windows — running in CPU‑safe mode\n",
      "📂 Loading data …\n",
      "✅ Data: 15,855 rows, 31 features after cleaning\n",
      "✅ Categorical columns: 0\n",
      "📊 Class balance 0/1: [7758 8097]\n",
      "🚀 Hyper‑parameter search …\n"
     ]
    },
    {
     "name": "stderr",
     "output_type": "stream",
     "text": [
      "  0%|          | 0/100 [00:00<?, ?it/s]"
     ]
    },
    {
     "name": "stdout",
     "output_type": "stream",
     "text": [
      "[Trial 0] Fold metrics – Precision: 0.545 | Recall: 0.581 | F1: 0.562\n",
      "[Trial 0] Fold metrics – Precision: 0.514 | Recall: 0.718 | F1: 0.599\n"
     ]
    },
    {
     "name": "stderr",
     "output_type": "stream",
     "text": [
      "Best trial: 0. Best value: 0.551707:   1%|          | 1/100 [00:03<05:19,  3.23s/it]"
     ]
    },
    {
     "name": "stdout",
     "output_type": "stream",
     "text": [
      "[Trial 0] Fold metrics – Precision: 0.537 | Recall: 0.664 | F1: 0.594\n",
      "[I 2025-06-12 11:10:25,568] Trial 0 finished with value: 0.5517073274365529 and parameters: {'iterations': 500, 'lr': 0.1435928598332891, 'depth': 7, 'l2': 9.782560294561476, 'rand_str': 1.312037280884873, 'min_data_leaf': 13, 'bootstrap': 'MVS'}. Best is trial 0 with value: 0.5517073274365529.\n",
      "[Trial 1] Fold metrics – Precision: 0.549 | Recall: 0.599 | F1: 0.573\n",
      "[Trial 1] Fold metrics – Precision: 0.526 | Recall: 0.713 | F1: 0.606\n"
     ]
    },
    {
     "name": "stderr",
     "output_type": "stream",
     "text": [
      "Best trial: 1. Best value: 0.554636:   2%|▏         | 2/100 [00:10<09:01,  5.52s/it]"
     ]
    },
    {
     "name": "stdout",
     "output_type": "stream",
     "text": [
      "[Trial 1] Fold metrics – Precision: 0.551 | Recall: 0.548 | F1: 0.549\n",
      "[I 2025-06-12 11:10:32,695] Trial 1 finished with value: 0.5546356803960565 and parameters: {'iterations': 767, 'lr': 0.022675984258454317, 'depth': 8, 'l2': 12.821754330405483, 'rand_str': 1.4246782213565523, 'min_data_leaf': 13, 'bootstrap': 'Bayesian', 'bagging_temp': 1.5798625466052894}. Best is trial 1 with value: 0.5546356803960565.\n",
      "[Trial 2] Fold metrics – Precision: 0.546 | Recall: 0.662 | F1: 0.599\n",
      "[Trial 2] Fold metrics – Precision: 0.522 | Recall: 0.735 | F1: 0.610\n"
     ]
    },
    {
     "name": "stderr",
     "output_type": "stream",
     "text": [
      "Best trial: 2. Best value: 0.56195:   3%|▎         | 3/100 [00:11<05:45,  3.57s/it] "
     ]
    },
    {
     "name": "stdout",
     "output_type": "stream",
     "text": [
      "[Trial 2] Fold metrics – Precision: 0.566 | Recall: 0.568 | F1: 0.567\n",
      "[I 2025-06-12 11:10:33,934] Trial 2 finished with value: 0.5619501676922632 and parameters: {'iterations': 433, 'lr': 0.09954087631390934, 'depth': 4, 'l2': 5.797880430957836, 'rand_str': 1.7327236865873834, 'min_data_leaf': 19, 'bootstrap': 'Bernoulli', 'subsample': 0.7777243706586128}. Best is trial 2 with value: 0.5619501676922632.\n",
      "[Trial 3] Fold metrics – Precision: 0.539 | Recall: 0.717 | F1: 0.615\n",
      "[Trial 3] Fold metrics – Precision: 0.512 | Recall: 0.758 | F1: 0.611\n"
     ]
    },
    {
     "name": "stderr",
     "output_type": "stream",
     "text": [
      "Best trial: 2. Best value: 0.56195:   4%|▍         | 4/100 [00:12<04:13,  2.64s/it]"
     ]
    },
    {
     "name": "stdout",
     "output_type": "stream",
     "text": [
      "[Trial 3] Fold metrics – Precision: 0.563 | Recall: 0.561 | F1: 0.562\n",
      "[I 2025-06-12 11:10:35,156] Trial 3 finished with value: 0.5588135822251431 and parameters: {'iterations': 237, 'lr': 0.098980830747187, 'depth': 4, 'l2': 2.8456707088086337, 'rand_str': 2.8977710745066663, 'min_data_leaf': 30, 'bootstrap': 'Bernoulli', 'subsample': 0.8052699079536471}. Best is trial 2 with value: 0.5619501676922632.\n",
      "[Trial 4] Fold metrics – Precision: 0.543 | Recall: 0.663 | F1: 0.597\n",
      "[Trial 4] Fold metrics – Precision: 0.513 | Recall: 0.768 | F1: 0.615\n"
     ]
    },
    {
     "name": "stderr",
     "output_type": "stream",
     "text": [
      "Best trial: 2. Best value: 0.56195:   5%|▌         | 5/100 [00:14<03:52,  2.45s/it]"
     ]
    },
    {
     "name": "stdout",
     "output_type": "stream",
     "text": [
      "[Trial 4] Fold metrics – Precision: 0.548 | Recall: 0.592 | F1: 0.569\n",
      "[I 2025-06-12 11:10:37,272] Trial 4 finished with value: 0.5563963249718736 and parameters: {'iterations': 552, 'lr': 0.03586497052982125, 'depth': 6, 'l2': 2.447050774497839, 'rand_str': 2.818640804157564, 'min_data_leaf': 15, 'bootstrap': 'Bernoulli', 'subsample': 0.7640130838029839}. Best is trial 2 with value: 0.5619501676922632.\n",
      "[Trial 5] Fold metrics – Precision: 0.547 | Recall: 0.574 | F1: 0.561\n",
      "[Trial 5] Fold metrics – Precision: 0.516 | Recall: 0.778 | F1: 0.620\n"
     ]
    },
    {
     "name": "stderr",
     "output_type": "stream",
     "text": [
      "Best trial: 2. Best value: 0.56195:   6%|▌         | 6/100 [00:17<04:09,  2.65s/it]"
     ]
    },
    {
     "name": "stdout",
     "output_type": "stream",
     "text": [
      "[Trial 5] Fold metrics – Precision: 0.545 | Recall: 0.601 | F1: 0.572\n",
      "[I 2025-06-12 11:10:40,319] Trial 5 finished with value: 0.5535276785355495 and parameters: {'iterations': 348, 'lr': 0.1460460016093926, 'depth': 7, 'l2': 14.213486240334458, 'rand_str': 2.789654700855298, 'min_data_leaf': 22, 'bootstrap': 'Bernoulli', 'subsample': 0.6135681866731614}. Best is trial 2 with value: 0.5619501676922632.\n",
      "[Trial 6] Fold metrics – Precision: 0.553 | Recall: 0.578 | F1: 0.566\n",
      "[Trial 6] Fold metrics – Precision: 0.503 | Recall: 0.784 | F1: 0.613\n"
     ]
    },
    {
     "name": "stderr",
     "output_type": "stream",
     "text": [
      "Best trial: 2. Best value: 0.56195:   7%|▋         | 7/100 [00:19<03:46,  2.43s/it]"
     ]
    },
    {
     "name": "stdout",
     "output_type": "stream",
     "text": [
      "[Trial 6] Fold metrics – Precision: 0.561 | Recall: 0.552 | F1: 0.557\n",
      "[I 2025-06-12 11:10:42,302] Trial 6 finished with value: 0.5531240661086622 and parameters: {'iterations': 460, 'lr': 0.07052804765963266, 'depth': 5, 'l2': 12.773587618975082, 'rand_str': 1.7135066533871786, 'min_data_leaf': 15, 'bootstrap': 'Bayesian', 'bagging_temp': 0.686376609199427}. Best is trial 2 with value: 0.5619501676922632.\n",
      "[Trial 7] Fold metrics – Precision: 0.538 | Recall: 0.623 | F1: 0.577\n",
      "[Trial 7] Fold metrics – Precision: 0.530 | Recall: 0.718 | F1: 0.610\n"
     ]
    },
    {
     "name": "stderr",
     "output_type": "stream",
     "text": [
      "Best trial: 2. Best value: 0.56195:   8%|▊         | 8/100 [00:22<03:41,  2.40s/it]"
     ]
    },
    {
     "name": "stdout",
     "output_type": "stream",
     "text": [
      "[Trial 7] Fold metrics – Precision: 0.535 | Recall: 0.684 | F1: 0.601\n",
      "[I 2025-06-12 11:10:44,641] Trial 7 finished with value: 0.5573015880447886 and parameters: {'iterations': 990, 'lr': 0.12039182000856548, 'depth': 4, 'l2': 2.071787522606831, 'rand_str': 2.6309228569096685, 'min_data_leaf': 24, 'bootstrap': 'MVS'}. Best is trial 2 with value: 0.5619501676922632.\n",
      "[Trial 8] Fold metrics – Precision: 0.534 | Recall: 0.728 | F1: 0.616\n",
      "[Trial 8] Fold metrics – Precision: 0.523 | Recall: 0.720 | F1: 0.606\n"
     ]
    },
    {
     "name": "stderr",
     "output_type": "stream",
     "text": [
      "Best trial: 2. Best value: 0.56195:   9%|▉         | 9/100 [00:32<07:11,  4.74s/it]"
     ]
    },
    {
     "name": "stdout",
     "output_type": "stream",
     "text": [
      "[Trial 8] Fold metrics – Precision: 0.566 | Recall: 0.505 | F1: 0.534\n",
      "[I 2025-06-12 11:10:54,528] Trial 8 finished with value: 0.556724432365112 and parameters: {'iterations': 487, 'lr': 0.03506297773826686, 'depth': 8, 'l2': 10.102875648758253, 'rand_str': 1.6617960497052984, 'min_data_leaf': 11, 'bootstrap': 'Bayesian', 'bagging_temp': 2.093893678388033}. Best is trial 2 with value: 0.5619501676922632.\n",
      "[Trial 9] Fold metrics – Precision: 0.548 | Recall: 0.668 | F1: 0.602\n",
      "[Trial 9] Fold metrics – Precision: 0.525 | Recall: 0.751 | F1: 0.618\n"
     ]
    },
    {
     "name": "stderr",
     "output_type": "stream",
     "text": [
      "Best trial: 9. Best value: 0.562586:  10%|█         | 10/100 [00:34<05:54,  3.94s/it]"
     ]
    },
    {
     "name": "stdout",
     "output_type": "stream",
     "text": [
      "[Trial 9] Fold metrics – Precision: 0.559 | Recall: 0.568 | F1: 0.563\n",
      "[I 2025-06-12 11:10:56,676] Trial 9 finished with value: 0.5625864041640566 and parameters: {'iterations': 910, 'lr': 0.08138794027105341, 'depth': 4, 'l2': 11.272182233898935, 'rand_str': 2.521570097233795, 'min_data_leaf': 21, 'bootstrap': 'Bernoulli', 'subsample': 0.7282623055075649}. Best is trial 9 with value: 0.5625864041640566.\n",
      "[Trial 10] Fold metrics – Precision: 0.544 | Recall: 0.681 | F1: 0.605\n",
      "[Trial 10] Fold metrics – Precision: 0.511 | Recall: 0.848 | F1: 0.638\n"
     ]
    },
    {
     "name": "stderr",
     "output_type": "stream",
     "text": [
      "Best trial: 9. Best value: 0.562586:  11%|█         | 11/100 [00:37<05:16,  3.56s/it]"
     ]
    },
    {
     "name": "stdout",
     "output_type": "stream",
     "text": [
      "[Trial 10] Fold metrics – Precision: 0.562 | Recall: 0.565 | F1: 0.563\n",
      "[I 2025-06-12 11:10:59,370] Trial 10 finished with value: 0.5614455286164585 and parameters: {'iterations': 769, 'lr': 0.065807087285632, 'depth': 5, 'l2': 6.850306131534887, 'rand_str': 2.3037331015563574, 'min_data_leaf': 28, 'bootstrap': 'Bernoulli', 'subsample': 0.644494882491665}. Best is trial 9 with value: 0.5625864041640566.\n",
      "[Trial 11] Fold metrics – Precision: 0.547 | Recall: 0.664 | F1: 0.599\n",
      "[Trial 11] Fold metrics – Precision: 0.530 | Recall: 0.714 | F1: 0.608\n"
     ]
    },
    {
     "name": "stderr",
     "output_type": "stream",
     "text": [
      "Best trial: 9. Best value: 0.562586:  12%|█▏        | 12/100 [00:39<04:46,  3.25s/it]"
     ]
    },
    {
     "name": "stdout",
     "output_type": "stream",
     "text": [
      "[Trial 11] Fold metrics – Precision: 0.555 | Recall: 0.562 | F1: 0.558\n",
      "[I 2025-06-12 11:11:01,917] Trial 11 finished with value: 0.5603646673108532 and parameters: {'iterations': 727, 'lr': 0.09498358995844303, 'depth': 4, 'l2': 6.385542042022537, 'rand_str': 2.170258639524419, 'min_data_leaf': 19, 'bootstrap': 'Bernoulli', 'subsample': 0.8806685628244275}. Best is trial 9 with value: 0.5625864041640566.\n",
      "[Trial 12] Fold metrics – Precision: 0.544 | Recall: 0.681 | F1: 0.605\n",
      "[Trial 12] Fold metrics – Precision: 0.506 | Recall: 0.828 | F1: 0.628\n"
     ]
    },
    {
     "name": "stderr",
     "output_type": "stream",
     "text": [
      "Best trial: 9. Best value: 0.562586:  13%|█▎        | 13/100 [00:42<04:29,  3.10s/it]"
     ]
    },
    {
     "name": "stdout",
     "output_type": "stream",
     "text": [
      "[Trial 12] Fold metrics – Precision: 0.559 | Recall: 0.574 | F1: 0.566\n",
      "[I 2025-06-12 11:11:04,675] Trial 12 finished with value: 0.5589256570050339 and parameters: {'iterations': 993, 'lr': 0.07201322385084936, 'depth': 5, 'l2': 5.6968088641735175, 'rand_str': 2.3994566430841013, 'min_data_leaf': 19, 'bootstrap': 'Bernoulli', 'subsample': 0.7060188414980881}. Best is trial 9 with value: 0.5625864041640566.\n",
      "[Trial 13] Fold metrics – Precision: 0.549 | Recall: 0.652 | F1: 0.596\n",
      "[Trial 13] Fold metrics – Precision: 0.530 | Recall: 0.738 | F1: 0.617\n"
     ]
    },
    {
     "name": "stderr",
     "output_type": "stream",
     "text": [
      "Best trial: 9. Best value: 0.562586:  14%|█▍        | 14/100 [00:44<04:05,  2.85s/it]"
     ]
    },
    {
     "name": "stdout",
     "output_type": "stream",
     "text": [
      "[Trial 13] Fold metrics – Precision: 0.555 | Recall: 0.578 | F1: 0.566\n",
      "[I 2025-06-12 11:11:06,952] Trial 13 finished with value: 0.5623889837435304 and parameters: {'iterations': 632, 'lr': 0.1179191712234414, 'depth': 4, 'l2': 8.553268982782875, 'rand_str': 1.878834381233934, 'min_data_leaf': 24, 'bootstrap': 'Bernoulli', 'subsample': 0.7250773824982502}. Best is trial 9 with value: 0.5625864041640566.\n",
      "[Trial 14] Fold metrics – Precision: 0.551 | Recall: 0.637 | F1: 0.591\n",
      "[Trial 14] Fold metrics – Precision: 0.522 | Recall: 0.748 | F1: 0.615\n"
     ]
    },
    {
     "name": "stderr",
     "output_type": "stream",
     "text": [
      "Best trial: 9. Best value: 0.562586:  15%|█▌        | 15/100 [00:47<03:59,  2.82s/it]"
     ]
    },
    {
     "name": "stdout",
     "output_type": "stream",
     "text": [
      "[Trial 14] Fold metrics – Precision: 0.550 | Recall: 0.576 | F1: 0.563\n",
      "[I 2025-06-12 11:11:09,684] Trial 14 finished with value: 0.5589161654776199 and parameters: {'iterations': 667, 'lr': 0.12156246854518325, 'depth': 5, 'l2': 10.380757908485112, 'rand_str': 1.0262806314356168, 'min_data_leaf': 25, 'bootstrap': 'Bernoulli', 'subsample': 0.6999068077639297}. Best is trial 9 with value: 0.5625864041640566.\n",
      "[Trial 15] Fold metrics – Precision: 0.548 | Recall: 0.557 | F1: 0.553\n",
      "[Trial 15] Fold metrics – Precision: 0.513 | Recall: 0.741 | F1: 0.606\n"
     ]
    },
    {
     "name": "stderr",
     "output_type": "stream",
     "text": [
      "Best trial: 9. Best value: 0.562586:  16%|█▌        | 16/100 [00:51<04:31,  3.24s/it]"
     ]
    },
    {
     "name": "stdout",
     "output_type": "stream",
     "text": [
      "[Trial 15] Fold metrics – Precision: 0.547 | Recall: 0.619 | F1: 0.581\n",
      "[I 2025-06-12 11:11:13,900] Trial 15 finished with value: 0.55235741649078 and parameters: {'iterations': 884, 'lr': 0.11875873081206059, 'depth': 6, 'l2': 8.295759945755048, 'rand_str': 1.9888895727723297, 'min_data_leaf': 26, 'bootstrap': 'MVS'}. Best is trial 9 with value: 0.5625864041640566.\n",
      "[Trial 16] Fold metrics – Precision: 0.549 | Recall: 0.667 | F1: 0.602\n",
      "[Trial 16] Fold metrics – Precision: 0.521 | Recall: 0.759 | F1: 0.618\n"
     ]
    },
    {
     "name": "stderr",
     "output_type": "stream",
     "text": [
      "Best trial: 9. Best value: 0.562586:  17%|█▋        | 17/100 [00:53<04:03,  2.94s/it]"
     ]
    },
    {
     "name": "stdout",
     "output_type": "stream",
     "text": [
      "[Trial 16] Fold metrics – Precision: 0.561 | Recall: 0.572 | F1: 0.566\n",
      "[I 2025-06-12 11:11:16,136] Trial 16 finished with value: 0.5625702505842114 and parameters: {'iterations': 836, 'lr': 0.061791385133628564, 'depth': 4, 'l2': 11.498284706012234, 'rand_str': 2.0023976158682975, 'min_data_leaf': 22, 'bootstrap': 'Bernoulli', 'subsample': 0.7035800473184166}. Best is trial 9 with value: 0.5625864041640566.\n",
      "[Trial 17] Fold metrics – Precision: 0.553 | Recall: 0.557 | F1: 0.555\n",
      "[Trial 17] Fold metrics – Precision: 0.518 | Recall: 0.732 | F1: 0.607\n"
     ]
    },
    {
     "name": "stderr",
     "output_type": "stream",
     "text": [
      "Best trial: 9. Best value: 0.562586:  18%|█▊        | 18/100 [00:57<04:29,  3.28s/it]"
     ]
    },
    {
     "name": "stdout",
     "output_type": "stream",
     "text": [
      "[Trial 17] Fold metrics – Precision: 0.553 | Recall: 0.586 | F1: 0.569\n",
      "[I 2025-06-12 11:11:20,222] Trial 17 finished with value: 0.5544660014844727 and parameters: {'iterations': 864, 'lr': 0.05453276301120475, 'depth': 6, 'l2': 11.927554701168951, 'rand_str': 2.503829906270678, 'min_data_leaf': 21, 'bootstrap': 'Bernoulli', 'subsample': 0.6738569345465305}. Best is trial 9 with value: 0.5625864041640566.\n",
      "[Trial 18] Fold metrics – Precision: 0.543 | Recall: 0.641 | F1: 0.588\n",
      "[Trial 18] Fold metrics – Precision: 0.507 | Recall: 0.828 | F1: 0.628\n"
     ]
    },
    {
     "name": "stderr",
     "output_type": "stream",
     "text": [
      "Best trial: 9. Best value: 0.562586:  19%|█▉        | 19/100 [01:00<04:14,  3.14s/it]"
     ]
    },
    {
     "name": "stdout",
     "output_type": "stream",
     "text": [
      "[Trial 18] Fold metrics – Precision: 0.563 | Recall: 0.557 | F1: 0.560\n",
      "[I 2025-06-12 11:11:23,033] Trial 18 finished with value: 0.5569846793433383 and parameters: {'iterations': 878, 'lr': 0.0546175701768629, 'depth': 5, 'l2': 14.340964315369071, 'rand_str': 2.252957827103233, 'min_data_leaf': 17, 'bootstrap': 'Bayesian', 'bagging_temp': 2.9969897708839963}. Best is trial 9 with value: 0.5625864041640566.\n",
      "[Trial 19] Fold metrics – Precision: 0.547 | Recall: 0.609 | F1: 0.576\n",
      "[Trial 19] Fold metrics – Precision: 0.518 | Recall: 0.749 | F1: 0.613\n"
     ]
    },
    {
     "name": "stderr",
     "output_type": "stream",
     "text": [
      "Best trial: 9. Best value: 0.562586:  20%|██        | 20/100 [01:02<03:50,  2.88s/it]"
     ]
    },
    {
     "name": "stdout",
     "output_type": "stream",
     "text": [
      "[Trial 19] Fold metrics – Precision: 0.562 | Recall: 0.565 | F1: 0.564\n",
      "[I 2025-06-12 11:11:25,304] Trial 19 finished with value: 0.5579859154394458 and parameters: {'iterations': 832, 'lr': 0.08839343092297679, 'depth': 4, 'l2': 11.945185321172795, 'rand_str': 2.0963792041577842, 'min_data_leaf': 22, 'bootstrap': 'MVS'}. Best is trial 9 with value: 0.5625864041640566.\n",
      "[Trial 20] Fold metrics – Precision: 0.543 | Recall: 0.663 | F1: 0.597\n",
      "[Trial 20] Fold metrics – Precision: 0.525 | Recall: 0.719 | F1: 0.607\n"
     ]
    },
    {
     "name": "stderr",
     "output_type": "stream",
     "text": [
      "Best trial: 9. Best value: 0.562586:  21%|██        | 21/100 [01:07<04:21,  3.31s/it]"
     ]
    },
    {
     "name": "stdout",
     "output_type": "stream",
     "text": [
      "[Trial 20] Fold metrics – Precision: 0.549 | Recall: 0.570 | F1: 0.559\n",
      "[I 2025-06-12 11:11:29,623] Trial 20 finished with value: 0.5570623643050803 and parameters: {'iterations': 937, 'lr': 0.07989816355419879, 'depth': 6, 'l2': 11.099053633522672, 'rand_str': 2.5588564046233575, 'min_data_leaf': 27, 'bootstrap': 'Bernoulli', 'subsample': 0.8221551092136461}. Best is trial 9 with value: 0.5625864041640566.\n",
      "[Trial 21] Fold metrics – Precision: 0.549 | Recall: 0.667 | F1: 0.602\n",
      "[Trial 21] Fold metrics – Precision: 0.523 | Recall: 0.763 | F1: 0.621\n"
     ]
    },
    {
     "name": "stderr",
     "output_type": "stream",
     "text": [
      "Best trial: 21. Best value: 0.564796:  22%|██▏       | 22/100 [01:09<03:53,  3.00s/it]"
     ]
    },
    {
     "name": "stdout",
     "output_type": "stream",
     "text": [
      "[Trial 21] Fold metrics – Precision: 0.562 | Recall: 0.590 | F1: 0.576\n",
      "[I 2025-06-12 11:11:31,893] Trial 21 finished with value: 0.5647956379516194 and parameters: {'iterations': 625, 'lr': 0.05874728888241147, 'depth': 4, 'l2': 8.594264745023331, 'rand_str': 1.925231957936014, 'min_data_leaf': 23, 'bootstrap': 'Bernoulli', 'subsample': 0.7275822825284761}. Best is trial 21 with value: 0.5647956379516194.\n",
      "[Trial 22] Fold metrics – Precision: 0.549 | Recall: 0.667 | F1: 0.602\n",
      "[Trial 22] Fold metrics – Precision: 0.528 | Recall: 0.745 | F1: 0.618\n"
     ]
    },
    {
     "name": "stderr",
     "output_type": "stream",
     "text": [
      "Best trial: 22. Best value: 0.565504:  23%|██▎       | 23/100 [01:11<03:32,  2.76s/it]"
     ]
    },
    {
     "name": "stdout",
     "output_type": "stream",
     "text": [
      "[Trial 22] Fold metrics – Precision: 0.562 | Recall: 0.590 | F1: 0.576\n",
      "[I 2025-06-12 11:11:34,103] Trial 22 finished with value: 0.5655043606922715 and parameters: {'iterations': 697, 'lr': 0.05307592822927969, 'depth': 4, 'l2': 8.625798314956667, 'rand_str': 1.9161178234306955, 'min_data_leaf': 23, 'bootstrap': 'Bernoulli', 'subsample': 0.7365237906217537}. Best is trial 22 with value: 0.5655043606922715.\n",
      "[Trial 23] Fold metrics – Precision: 0.544 | Recall: 0.681 | F1: 0.605\n",
      "[Trial 23] Fold metrics – Precision: 0.510 | Recall: 0.823 | F1: 0.630\n"
     ]
    },
    {
     "name": "stderr",
     "output_type": "stream",
     "text": [
      "Best trial: 22. Best value: 0.565504:  24%|██▍       | 24/100 [01:14<03:29,  2.76s/it]"
     ]
    },
    {
     "name": "stdout",
     "output_type": "stream",
     "text": [
      "[Trial 23] Fold metrics – Precision: 0.553 | Recall: 0.592 | F1: 0.572\n",
      "[I 2025-06-12 11:11:36,849] Trial 23 finished with value: 0.5596574710054881 and parameters: {'iterations': 592, 'lr': 0.045338558365569215, 'depth': 5, 'l2': 8.483880149164419, 'rand_str': 1.914834670069054, 'min_data_leaf': 24, 'bootstrap': 'Bernoulli', 'subsample': 0.7411892767254703}. Best is trial 22 with value: 0.5655043606922715.\n",
      "[Trial 24] Fold metrics – Precision: 0.539 | Recall: 0.717 | F1: 0.615\n",
      "[Trial 24] Fold metrics – Precision: 0.525 | Recall: 0.729 | F1: 0.611\n"
     ]
    },
    {
     "name": "stderr",
     "output_type": "stream",
     "text": [
      "Best trial: 22. Best value: 0.565504:  25%|██▌       | 25/100 [01:16<03:16,  2.62s/it]"
     ]
    },
    {
     "name": "stdout",
     "output_type": "stream",
     "text": [
      "[Trial 24] Fold metrics – Precision: 0.558 | Recall: 0.566 | F1: 0.562\n",
      "[I 2025-06-12 11:11:39,150] Trial 24 finished with value: 0.560952897181201 and parameters: {'iterations': 719, 'lr': 0.04773517191424417, 'depth': 4, 'l2': 7.34762696343794, 'rand_str': 1.4814155222205103, 'min_data_leaf': 17, 'bootstrap': 'Bernoulli', 'subsample': 0.7563313076714752}. Best is trial 22 with value: 0.5655043606922715.\n",
      "[Trial 25] Fold metrics – Precision: 0.550 | Recall: 0.639 | F1: 0.591\n",
      "[Trial 25] Fold metrics – Precision: 0.512 | Recall: 0.827 | F1: 0.632\n"
     ]
    },
    {
     "name": "stderr",
     "output_type": "stream",
     "text": [
      "Best trial: 22. Best value: 0.565504:  26%|██▌       | 26/100 [01:19<03:18,  2.68s/it]"
     ]
    },
    {
     "name": "stdout",
     "output_type": "stream",
     "text": [
      "[Trial 25] Fold metrics – Precision: 0.562 | Recall: 0.565 | F1: 0.564\n",
      "[I 2025-06-12 11:11:41,982] Trial 25 finished with value: 0.5609517822803681 and parameters: {'iterations': 653, 'lr': 0.07333356115699105, 'depth': 5, 'l2': 9.692260483049132, 'rand_str': 1.804018448559455, 'min_data_leaf': 20, 'bootstrap': 'Bernoulli', 'subsample': 0.6708045610921853}. Best is trial 22 with value: 0.5655043606922715.\n",
      "[Trial 26] Fold metrics – Precision: 0.546 | Recall: 0.664 | F1: 0.600\n",
      "[Trial 26] Fold metrics – Precision: 0.525 | Recall: 0.715 | F1: 0.605\n"
     ]
    },
    {
     "name": "stderr",
     "output_type": "stream",
     "text": [
      "Best trial: 22. Best value: 0.565504:  27%|██▋       | 27/100 [01:22<03:20,  2.74s/it]"
     ]
    },
    {
     "name": "stdout",
     "output_type": "stream",
     "text": [
      "[Trial 26] Fold metrics – Precision: 0.570 | Recall: 0.517 | F1: 0.542\n",
      "[I 2025-06-12 11:11:44,853] Trial 26 finished with value: 0.5595878043377541 and parameters: {'iterations': 566, 'lr': 0.08410481345664976, 'depth': 4, 'l2': 4.092250697622816, 'rand_str': 1.5839399517476442, 'min_data_leaf': 29, 'bootstrap': 'Bernoulli', 'subsample': 0.7916608877826562}. Best is trial 22 with value: 0.5655043606922715.\n",
      "[Trial 27] Fold metrics – Precision: 0.547 | Recall: 0.574 | F1: 0.561\n",
      "[Trial 27] Fold metrics – Precision: 0.515 | Recall: 0.732 | F1: 0.605\n"
     ]
    },
    {
     "name": "stderr",
     "output_type": "stream",
     "text": [
      "Best trial: 22. Best value: 0.565504:  28%|██▊       | 28/100 [01:28<04:17,  3.57s/it]"
     ]
    },
    {
     "name": "stdout",
     "output_type": "stream",
     "text": [
      "[Trial 27] Fold metrics – Precision: 0.551 | Recall: 0.549 | F1: 0.550\n",
      "[I 2025-06-12 11:11:50,371] Trial 27 finished with value: 0.5501920887574082 and parameters: {'iterations': 698, 'lr': 0.024078443412759776, 'depth': 7, 'l2': 7.711199141797209, 'rand_str': 2.1388748201585948, 'min_data_leaf': 23, 'bootstrap': 'Bernoulli', 'subsample': 0.8408451459752495}. Best is trial 22 with value: 0.5655043606922715.\n",
      "[Trial 28] Fold metrics – Precision: 0.524 | Recall: 0.684 | F1: 0.593\n",
      "[Trial 28] Fold metrics – Precision: 0.503 | Recall: 0.784 | F1: 0.613\n"
     ]
    },
    {
     "name": "stderr",
     "output_type": "stream",
     "text": [
      "Best trial: 22. Best value: 0.565504:  29%|██▉       | 29/100 [01:30<03:59,  3.37s/it]"
     ]
    },
    {
     "name": "stdout",
     "output_type": "stream",
     "text": [
      "[Trial 28] Fold metrics – Precision: 0.559 | Recall: 0.509 | F1: 0.533\n",
      "[I 2025-06-12 11:11:53,257] Trial 28 finished with value: 0.5466175561171939 and parameters: {'iterations': 394, 'lr': 0.058564820165705515, 'depth': 5, 'l2': 9.14437667050203, 'rand_str': 2.386552444677471, 'min_data_leaf': 26, 'bootstrap': 'Bayesian', 'bagging_temp': 0.8453697931659703}. Best is trial 22 with value: 0.5655043606922715.\n",
      "[Trial 29] Fold metrics – Precision: 0.541 | Recall: 0.601 | F1: 0.569\n",
      "[Trial 29] Fold metrics – Precision: 0.523 | Recall: 0.712 | F1: 0.603\n"
     ]
    },
    {
     "name": "stderr",
     "output_type": "stream",
     "text": [
      "Best trial: 22. Best value: 0.565504:  30%|███       | 30/100 [01:36<04:47,  4.11s/it]"
     ]
    },
    {
     "name": "stdout",
     "output_type": "stream",
     "text": [
      "[Trial 29] Fold metrics – Precision: 0.537 | Recall: 0.664 | F1: 0.594\n",
      "[I 2025-06-12 11:11:59,098] Trial 29 finished with value: 0.5543342896470836 and parameters: {'iterations': 787, 'lr': 0.10728620251224479, 'depth': 7, 'l2': 4.373720303872149, 'rand_str': 1.190320379089986, 'min_data_leaf': 21, 'bootstrap': 'MVS'}. Best is trial 22 with value: 0.5655043606922715.\n",
      "[Trial 30] Fold metrics – Precision: 0.552 | Recall: 0.617 | F1: 0.583\n",
      "[Trial 30] Fold metrics – Precision: 0.518 | Recall: 0.736 | F1: 0.608\n"
     ]
    },
    {
     "name": "stderr",
     "output_type": "stream",
     "text": [
      "Best trial: 22. Best value: 0.565504:  31%|███       | 31/100 [01:39<04:10,  3.64s/it]"
     ]
    },
    {
     "name": "stdout",
     "output_type": "stream",
     "text": [
      "[Trial 30] Fold metrics – Precision: 0.535 | Recall: 0.684 | F1: 0.601\n",
      "[I 2025-06-12 11:12:01,635] Trial 30 finished with value: 0.5580514078406461 and parameters: {'iterations': 934, 'lr': 0.04142740643850309, 'depth': 4, 'l2': 10.415020641869793, 'rand_str': 2.6733672343901955, 'min_data_leaf': 17, 'bootstrap': 'MVS'}. Best is trial 22 with value: 0.5655043606922715.\n",
      "[Trial 31] Fold metrics – Precision: 0.549 | Recall: 0.667 | F1: 0.602\n",
      "[Trial 31] Fold metrics – Precision: 0.518 | Recall: 0.774 | F1: 0.620\n"
     ]
    },
    {
     "name": "stderr",
     "output_type": "stream",
     "text": [
      "Best trial: 22. Best value: 0.565504:  32%|███▏      | 32/100 [01:41<03:37,  3.20s/it]"
     ]
    },
    {
     "name": "stdout",
     "output_type": "stream",
     "text": [
      "[Trial 31] Fold metrics – Precision: 0.554 | Recall: 0.586 | F1: 0.569\n",
      "[I 2025-06-12 11:12:03,822] Trial 31 finished with value: 0.5611305922028585 and parameters: {'iterations': 827, 'lr': 0.060162494621904254, 'depth': 4, 'l2': 11.325769604081383, 'rand_str': 1.9992674651634352, 'min_data_leaf': 22, 'bootstrap': 'Bernoulli', 'subsample': 0.7209951832056909}. Best is trial 22 with value: 0.5655043606922715.\n",
      "[Trial 32] Fold metrics – Precision: 0.539 | Recall: 0.717 | F1: 0.615\n",
      "[Trial 32] Fold metrics – Precision: 0.521 | Recall: 0.719 | F1: 0.604\n"
     ]
    },
    {
     "name": "stderr",
     "output_type": "stream",
     "text": [
      "Best trial: 22. Best value: 0.565504:  33%|███▎      | 33/100 [01:43<03:13,  2.89s/it]"
     ]
    },
    {
     "name": "stdout",
     "output_type": "stream",
     "text": [
      "[Trial 32] Fold metrics – Precision: 0.555 | Recall: 0.565 | F1: 0.560\n",
      "[I 2025-06-12 11:12:05,980] Trial 32 finished with value: 0.5584235280097528 and parameters: {'iterations': 933, 'lr': 0.0777942794202706, 'depth': 4, 'l2': 13.259126736273638, 'rand_str': 1.3746090092642924, 'min_data_leaf': 23, 'bootstrap': 'Bernoulli', 'subsample': 0.6852951466343287}. Best is trial 22 with value: 0.5655043606922715.\n",
      "[Trial 33] Fold metrics – Precision: 0.539 | Recall: 0.717 | F1: 0.615\n",
      "[Trial 33] Fold metrics – Precision: 0.526 | Recall: 0.723 | F1: 0.609\n"
     ]
    },
    {
     "name": "stderr",
     "output_type": "stream",
     "text": [
      "Best trial: 22. Best value: 0.565504:  34%|███▍      | 34/100 [01:45<02:57,  2.69s/it]"
     ]
    },
    {
     "name": "stdout",
     "output_type": "stream",
     "text": [
      "[Trial 33] Fold metrics – Precision: 0.546 | Recall: 0.619 | F1: 0.580\n",
      "[I 2025-06-12 11:12:08,218] Trial 33 finished with value: 0.5606511983603438 and parameters: {'iterations': 536, 'lr': 0.06386780511387181, 'depth': 4, 'l2': 9.42733674827222, 'rand_str': 1.5507116105090262, 'min_data_leaf': 20, 'bootstrap': 'Bernoulli', 'subsample': 0.7377188814708178}. Best is trial 22 with value: 0.5655043606922715.\n",
      "[Trial 34] Fold metrics – Precision: 0.549 | Recall: 0.667 | F1: 0.602\n",
      "[Trial 34] Fold metrics – Precision: 0.521 | Recall: 0.719 | F1: 0.604\n"
     ]
    },
    {
     "name": "stderr",
     "output_type": "stream",
     "text": [
      "Best trial: 22. Best value: 0.565504:  35%|███▌      | 35/100 [01:48<02:44,  2.53s/it]"
     ]
    },
    {
     "name": "stdout",
     "output_type": "stream",
     "text": [
      "[Trial 34] Fold metrics – Precision: 0.558 | Recall: 0.578 | F1: 0.568\n",
      "[I 2025-06-12 11:12:10,381] Trial 34 finished with value: 0.5607202583697343 and parameters: {'iterations': 797, 'lr': 0.05044161514585033, 'depth': 4, 'l2': 11.015796167643524, 'rand_str': 1.7844225481169156, 'min_data_leaf': 25, 'bootstrap': 'Bernoulli', 'subsample': 0.709066427169277}. Best is trial 22 with value: 0.5655043606922715.\n",
      "[Trial 35] Fold metrics – Precision: 0.538 | Recall: 0.707 | F1: 0.611\n",
      "[Trial 35] Fold metrics – Precision: 0.524 | Recall: 0.747 | F1: 0.616\n"
     ]
    },
    {
     "name": "stderr",
     "output_type": "stream",
     "text": [
      "Best trial: 22. Best value: 0.565504:  36%|███▌      | 36/100 [01:50<02:37,  2.46s/it]"
     ]
    },
    {
     "name": "stdout",
     "output_type": "stream",
     "text": [
      "[Trial 35] Fold metrics – Precision: 0.562 | Recall: 0.587 | F1: 0.574\n",
      "[I 2025-06-12 11:12:12,652] Trial 35 finished with value: 0.5629083633676235 and parameters: {'iterations': 621, 'lr': 0.033756991755374714, 'depth': 4, 'l2': 12.977478540926173, 'rand_str': 2.058560862981183, 'min_data_leaf': 20, 'bootstrap': 'Bernoulli', 'subsample': 0.750613817369306}. Best is trial 22 with value: 0.5655043606922715.\n",
      "[Trial 36] Fold metrics – Precision: 0.548 | Recall: 0.564 | F1: 0.556\n",
      "[Trial 36] Fold metrics – Precision: 0.520 | Recall: 0.731 | F1: 0.608\n"
     ]
    },
    {
     "name": "stderr",
     "output_type": "stream",
     "text": [
      "Best trial: 22. Best value: 0.565504:  37%|███▋      | 37/100 [01:59<04:34,  4.35s/it]"
     ]
    },
    {
     "name": "stdout",
     "output_type": "stream",
     "text": [
      "[Trial 36] Fold metrics – Precision: 0.559 | Recall: 0.566 | F1: 0.562\n",
      "[I 2025-06-12 11:12:21,437] Trial 36 finished with value: 0.5544715780299129 and parameters: {'iterations': 611, 'lr': 0.028733964132530924, 'depth': 8, 'l2': 12.968339946595691, 'rand_str': 1.8893927706698521, 'min_data_leaf': 18, 'bootstrap': 'Bernoulli', 'subsample': 0.7537842631499281}. Best is trial 22 with value: 0.5655043606922715.\n",
      "[Trial 37] Fold metrics – Precision: 0.544 | Recall: 0.681 | F1: 0.605\n",
      "[Trial 37] Fold metrics – Precision: 0.511 | Recall: 0.833 | F1: 0.633\n"
     ]
    },
    {
     "name": "stderr",
     "output_type": "stream",
     "text": [
      "Best trial: 22. Best value: 0.565504:  38%|███▊      | 38/100 [02:01<03:59,  3.86s/it]"
     ]
    },
    {
     "name": "stdout",
     "output_type": "stream",
     "text": [
      "[Trial 37] Fold metrics – Precision: 0.560 | Recall: 0.561 | F1: 0.560\n",
      "[I 2025-06-12 11:12:24,158] Trial 37 finished with value: 0.5600695551437941 and parameters: {'iterations': 277, 'lr': 0.03821337708499175, 'depth': 5, 'l2': 12.295894351505916, 'rand_str': 2.2285796390429016, 'min_data_leaf': 21, 'bootstrap': 'Bernoulli', 'subsample': 0.7718229936345373}. Best is trial 22 with value: 0.5655043606922715.\n",
      "[Trial 38] Fold metrics – Precision: 0.548 | Recall: 0.601 | F1: 0.573\n",
      "[Trial 38] Fold metrics – Precision: 0.517 | Recall: 0.756 | F1: 0.614\n"
     ]
    },
    {
     "name": "stderr",
     "output_type": "stream",
     "text": [
      "Best trial: 22. Best value: 0.565504:  39%|███▉      | 39/100 [02:04<03:28,  3.41s/it]"
     ]
    },
    {
     "name": "stdout",
     "output_type": "stream",
     "text": [
      "[Trial 38] Fold metrics – Precision: 0.543 | Recall: 0.594 | F1: 0.567\n",
      "[I 2025-06-12 11:12:26,508] Trial 38 finished with value: 0.55395074322871 and parameters: {'iterations': 530, 'lr': 0.029650941538025454, 'depth': 4, 'l2': 13.661797708756673, 'rand_str': 2.935792120251455, 'min_data_leaf': 14, 'bootstrap': 'Bayesian', 'bagging_temp': 2.7462186019424157}. Best is trial 22 with value: 0.5655043606922715.\n",
      "[Trial 39] Fold metrics – Precision: 0.549 | Recall: 0.669 | F1: 0.603\n",
      "[Trial 39] Fold metrics – Precision: 0.523 | Recall: 0.752 | F1: 0.617\n"
     ]
    },
    {
     "name": "stderr",
     "output_type": "stream",
     "text": [
      "Best trial: 22. Best value: 0.565504:  40%|████      | 40/100 [02:06<03:05,  3.09s/it]"
     ]
    },
    {
     "name": "stdout",
     "output_type": "stream",
     "text": [
      "[Trial 39] Fold metrics – Precision: 0.555 | Recall: 0.599 | F1: 0.576\n",
      "[I 2025-06-12 11:12:28,848] Trial 39 finished with value: 0.5631384526408266 and parameters: {'iterations': 679, 'lr': 0.020346834966046612, 'depth': 4, 'l2': 13.752352846901136, 'rand_str': 2.065197958624937, 'min_data_leaf': 19, 'bootstrap': 'Bernoulli', 'subsample': 0.7322966821882076}. Best is trial 22 with value: 0.5655043606922715.\n",
      "[Trial 40] Fold metrics – Precision: 0.544 | Recall: 0.681 | F1: 0.605\n",
      "[Trial 40] Fold metrics – Precision: 0.508 | Recall: 0.824 | F1: 0.629\n"
     ]
    },
    {
     "name": "stderr",
     "output_type": "stream",
     "text": [
      "Best trial: 22. Best value: 0.565504:  41%|████      | 41/100 [02:09<02:56,  3.00s/it]"
     ]
    },
    {
     "name": "stdout",
     "output_type": "stream",
     "text": [
      "[Trial 40] Fold metrics – Precision: 0.559 | Recall: 0.571 | F1: 0.565\n",
      "[I 2025-06-12 11:12:31,635] Trial 40 finished with value: 0.5596383521076382 and parameters: {'iterations': 668, 'lr': 0.02406855431399353, 'depth': 5, 'l2': 14.758963146140276, 'rand_str': 2.0541010366912196, 'min_data_leaf': 16, 'bootstrap': 'Bernoulli', 'subsample': 0.7921360724696977}. Best is trial 22 with value: 0.5655043606922715.\n",
      "[Trial 41] Fold metrics – Precision: 0.538 | Recall: 0.707 | F1: 0.611\n",
      "[Trial 41] Fold metrics – Precision: 0.525 | Recall: 0.750 | F1: 0.618\n"
     ]
    },
    {
     "name": "stderr",
     "output_type": "stream",
     "text": [
      "Best trial: 22. Best value: 0.565504:  42%|████▏     | 42/100 [02:11<02:39,  2.75s/it]"
     ]
    },
    {
     "name": "stdout",
     "output_type": "stream",
     "text": [
      "[Trial 41] Fold metrics – Precision: 0.536 | Recall: 0.697 | F1: 0.606\n",
      "[I 2025-06-12 11:12:33,811] Trial 41 finished with value: 0.5616936470958444 and parameters: {'iterations': 742, 'lr': 0.021222710046461576, 'depth': 4, 'l2': 13.83745245181025, 'rand_str': 2.4291625574001503, 'min_data_leaf': 19, 'bootstrap': 'Bernoulli', 'subsample': 0.7374984733191795}. Best is trial 22 with value: 0.5655043606922715.\n",
      "[Trial 42] Fold metrics – Precision: 0.550 | Recall: 0.669 | F1: 0.604\n",
      "[Trial 42] Fold metrics – Precision: 0.526 | Recall: 0.721 | F1: 0.608\n"
     ]
    },
    {
     "name": "stderr",
     "output_type": "stream",
     "text": [
      "Best trial: 22. Best value: 0.565504:  43%|████▎     | 43/100 [02:13<02:30,  2.64s/it]"
     ]
    },
    {
     "name": "stdout",
     "output_type": "stream",
     "text": [
      "[Trial 42] Fold metrics – Precision: 0.546 | Recall: 0.619 | F1: 0.580\n",
      "[I 2025-06-12 11:12:36,175] Trial 42 finished with value: 0.5617064562777648 and parameters: {'iterations': 591, 'lr': 0.034444581345000745, 'depth': 4, 'l2': 14.927959938194618, 'rand_str': 1.6639252627063896, 'min_data_leaf': 23, 'bootstrap': 'Bernoulli', 'subsample': 0.7338572425171875}. Best is trial 22 with value: 0.5655043606922715.\n",
      "[Trial 43] Fold metrics – Precision: 0.539 | Recall: 0.717 | F1: 0.615\n",
      "[Trial 43] Fold metrics – Precision: 0.525 | Recall: 0.760 | F1: 0.621\n"
     ]
    },
    {
     "name": "stderr",
     "output_type": "stream",
     "text": [
      "Best trial: 22. Best value: 0.565504:  44%|████▍     | 44/100 [02:16<02:20,  2.51s/it]"
     ]
    },
    {
     "name": "stdout",
     "output_type": "stream",
     "text": [
      "[Trial 43] Fold metrics – Precision: 0.536 | Recall: 0.697 | F1: 0.606\n",
      "[I 2025-06-12 11:12:38,376] Trial 43 finished with value: 0.5629363648239711 and parameters: {'iterations': 683, 'lr': 0.04304321773202563, 'depth': 4, 'l2': 12.555495688003719, 'rand_str': 2.778037803783163, 'min_data_leaf': 18, 'bootstrap': 'Bernoulli', 'subsample': 0.7774776609307122}. Best is trial 22 with value: 0.5655043606922715.\n",
      "[Trial 44] Fold metrics – Precision: 0.538 | Recall: 0.659 | F1: 0.592\n",
      "[Trial 44] Fold metrics – Precision: 0.515 | Recall: 0.754 | F1: 0.612\n"
     ]
    },
    {
     "name": "stderr",
     "output_type": "stream",
     "text": [
      "Best trial: 22. Best value: 0.565504:  45%|████▌     | 45/100 [02:18<02:13,  2.43s/it]"
     ]
    },
    {
     "name": "stdout",
     "output_type": "stream",
     "text": [
      "[Trial 44] Fold metrics – Precision: 0.536 | Recall: 0.697 | F1: 0.606\n",
      "[I 2025-06-12 11:12:40,647] Trial 44 finished with value: 0.5569164210109132 and parameters: {'iterations': 700, 'lr': 0.04309317727460815, 'depth': 4, 'l2': 12.815838624888581, 'rand_str': 2.9948920240449737, 'min_data_leaf': 12, 'bootstrap': 'Bernoulli', 'subsample': 0.7763145114662607}. Best is trial 22 with value: 0.5655043606922715.\n",
      "[Trial 45] Fold metrics – Precision: 0.549 | Recall: 0.639 | F1: 0.591\n",
      "[Trial 45] Fold metrics – Precision: 0.512 | Recall: 0.795 | F1: 0.622\n"
     ]
    },
    {
     "name": "stderr",
     "output_type": "stream",
     "text": [
      "Best trial: 22. Best value: 0.565504:  46%|████▌     | 46/100 [02:19<01:57,  2.18s/it]"
     ]
    },
    {
     "name": "stdout",
     "output_type": "stream",
     "text": [
      "[Trial 45] Fold metrics – Precision: 0.555 | Recall: 0.571 | F1: 0.563\n",
      "[I 2025-06-12 11:12:42,232] Trial 45 finished with value: 0.5581549657308279 and parameters: {'iterations': 632, 'lr': 0.032459766872748645, 'depth': 4, 'l2': 12.387992196308256, 'rand_str': 2.824193238617712, 'min_data_leaf': 18, 'bootstrap': 'Bayesian', 'bagging_temp': 1.5287909989622088}. Best is trial 22 with value: 0.5655043606922715.\n",
      "[Trial 46] Fold metrics – Precision: 0.544 | Recall: 0.681 | F1: 0.605\n",
      "[Trial 46] Fold metrics – Precision: 0.510 | Recall: 0.833 | F1: 0.632\n"
     ]
    },
    {
     "name": "stderr",
     "output_type": "stream",
     "text": [
      "Best trial: 22. Best value: 0.565504:  47%|████▋     | 47/100 [02:21<01:45,  1.99s/it]"
     ]
    },
    {
     "name": "stdout",
     "output_type": "stream",
     "text": [
      "[Trial 46] Fold metrics – Precision: 0.558 | Recall: 0.575 | F1: 0.566\n",
      "[I 2025-06-12 11:12:43,768] Trial 46 finished with value: 0.5601726091985015 and parameters: {'iterations': 457, 'lr': 0.04059737378427843, 'depth': 5, 'l2': 13.46349354645074, 'rand_str': 2.2989248323989666, 'min_data_leaf': 15, 'bootstrap': 'Bernoulli', 'subsample': 0.7944470684274794}. Best is trial 22 with value: 0.5655043606922715.\n",
      "[Trial 47] Fold metrics – Precision: 0.538 | Recall: 0.707 | F1: 0.611\n",
      "[Trial 47] Fold metrics – Precision: 0.525 | Recall: 0.747 | F1: 0.616\n"
     ]
    },
    {
     "name": "stderr",
     "output_type": "stream",
     "text": [
      "Best trial: 22. Best value: 0.565504:  48%|████▊     | 48/100 [02:22<01:31,  1.77s/it]"
     ]
    },
    {
     "name": "stdout",
     "output_type": "stream",
     "text": [
      "[Trial 47] Fold metrics – Precision: 0.555 | Recall: 0.559 | F1: 0.557\n",
      "[I 2025-06-12 11:12:45,027] Trial 47 finished with value: 0.5596376910538016 and parameters: {'iterations': 508, 'lr': 0.050320790526224256, 'depth': 4, 'l2': 5.850060935291788, 'rand_str': 2.183696582578306, 'min_data_leaf': 18, 'bootstrap': 'Bernoulli', 'subsample': 0.8186828777064658}. Best is trial 22 with value: 0.5655043606922715.\n",
      "[Trial 48] Fold metrics – Precision: 0.541 | Recall: 0.623 | F1: 0.579\n",
      "[Trial 48] Fold metrics – Precision: 0.521 | Recall: 0.733 | F1: 0.609\n"
     ]
    },
    {
     "name": "stderr",
     "output_type": "stream",
     "text": [
      "Best trial: 22. Best value: 0.565504:  49%|████▉     | 49/100 [02:23<01:23,  1.63s/it]"
     ]
    },
    {
     "name": "stdout",
     "output_type": "stream",
     "text": [
      "[Trial 48] Fold metrics – Precision: 0.554 | Recall: 0.553 | F1: 0.554\n",
      "[I 2025-06-12 11:12:46,331] Trial 48 finished with value: 0.5543314397673761 and parameters: {'iterations': 745, 'lr': 0.028735838118295314, 'depth': 4, 'l2': 14.41082008701643, 'rand_str': 1.8020125431513607, 'min_data_leaf': 20, 'bootstrap': 'MVS'}. Best is trial 22 with value: 0.5655043606922715.\n",
      "[Trial 49] Fold metrics – Precision: 0.544 | Recall: 0.681 | F1: 0.605\n",
      "[Trial 49] Fold metrics – Precision: 0.510 | Recall: 0.834 | F1: 0.633\n"
     ]
    },
    {
     "name": "stderr",
     "output_type": "stream",
     "text": [
      "Best trial: 22. Best value: 0.565504:  50%|█████     | 50/100 [02:25<01:20,  1.61s/it]"
     ]
    },
    {
     "name": "stdout",
     "output_type": "stream",
     "text": [
      "[Trial 49] Fold metrics – Precision: 0.563 | Recall: 0.572 | F1: 0.568\n",
      "[I 2025-06-12 11:12:47,890] Trial 49 finished with value: 0.5615382461993512 and parameters: {'iterations': 671, 'lr': 0.020284936704297298, 'depth': 5, 'l2': 10.618335981068658, 'rand_str': 2.6967920265095398, 'min_data_leaf': 20, 'bootstrap': 'Bernoulli', 'subsample': 0.7611287075485007}. Best is trial 22 with value: 0.5655043606922715.\n",
      "[Trial 50] Fold metrics – Precision: 0.538 | Recall: 0.707 | F1: 0.611\n",
      "[Trial 50] Fold metrics – Precision: 0.524 | Recall: 0.747 | F1: 0.616\n"
     ]
    },
    {
     "name": "stderr",
     "output_type": "stream",
     "text": [
      "Best trial: 22. Best value: 0.565504:  51%|█████     | 51/100 [02:26<01:13,  1.51s/it]"
     ]
    },
    {
     "name": "stdout",
     "output_type": "stream",
     "text": [
      "[Trial 50] Fold metrics – Precision: 0.561 | Recall: 0.585 | F1: 0.573\n",
      "[I 2025-06-12 11:12:49,166] Trial 50 finished with value: 0.5627062056522516 and parameters: {'iterations': 576, 'lr': 0.05492884542289908, 'depth': 4, 'l2': 7.756068226840636, 'rand_str': 1.9082039254960201, 'min_data_leaf': 16, 'bootstrap': 'Bernoulli', 'subsample': 0.7532330570587863}. Best is trial 22 with value: 0.5655043606922715.\n",
      "[Trial 51] Fold metrics – Precision: 0.539 | Recall: 0.707 | F1: 0.611\n",
      "[Trial 51] Fold metrics – Precision: 0.520 | Recall: 0.745 | F1: 0.612\n"
     ]
    },
    {
     "name": "stderr",
     "output_type": "stream",
     "text": [
      "Best trial: 22. Best value: 0.565504:  52%|█████▏    | 52/100 [02:28<01:08,  1.43s/it]"
     ]
    },
    {
     "name": "stdout",
     "output_type": "stream",
     "text": [
      "[Trial 51] Fold metrics – Precision: 0.561 | Recall: 0.585 | F1: 0.573\n",
      "[I 2025-06-12 11:12:50,402] Trial 51 finished with value: 0.5616278426042256 and parameters: {'iterations': 568, 'lr': 0.06965908603570983, 'depth': 4, 'l2': 8.8496678460271, 'rand_str': 1.9291803277374304, 'min_data_leaf': 10, 'bootstrap': 'Bernoulli', 'subsample': 0.7528952413743029}. Best is trial 22 with value: 0.5655043606922715.\n",
      "[Trial 52] Fold metrics – Precision: 0.548 | Recall: 0.666 | F1: 0.601\n",
      "[Trial 52] Fold metrics – Precision: 0.525 | Recall: 0.742 | F1: 0.615\n"
     ]
    },
    {
     "name": "stderr",
     "output_type": "stream",
     "text": [
      "Best trial: 22. Best value: 0.565504:  53%|█████▎    | 53/100 [02:29<01:04,  1.38s/it]"
     ]
    },
    {
     "name": "stdout",
     "output_type": "stream",
     "text": [
      "[Trial 52] Fold metrics – Precision: 0.561 | Recall: 0.564 | F1: 0.563\n",
      "[I 2025-06-12 11:12:51,663] Trial 52 finished with value: 0.5624479710608274 and parameters: {'iterations': 606, 'lr': 0.05546261101338423, 'depth': 4, 'l2': 7.48852583139573, 'rand_str': 1.8492749143635356, 'min_data_leaf': 16, 'bootstrap': 'Bernoulli', 'subsample': 0.776958652714735}. Best is trial 22 with value: 0.5655043606922715.\n",
      "[Trial 53] Fold metrics – Precision: 0.550 | Recall: 0.669 | F1: 0.604\n",
      "[Trial 53] Fold metrics – Precision: 0.521 | Recall: 0.719 | F1: 0.604\n"
     ]
    },
    {
     "name": "stderr",
     "output_type": "stream",
     "text": [
      "Best trial: 22. Best value: 0.565504:  54%|█████▍    | 54/100 [02:30<01:01,  1.34s/it]"
     ]
    },
    {
     "name": "stdout",
     "output_type": "stream",
     "text": [
      "[Trial 53] Fold metrics – Precision: 0.565 | Recall: 0.594 | F1: 0.579\n",
      "[I 2025-06-12 11:12:52,928] Trial 53 finished with value: 0.5638379836789992 and parameters: {'iterations': 637, 'lr': 0.035671612771177995, 'depth': 4, 'l2': 8.079433096935066, 'rand_str': 1.7339338804777007, 'min_data_leaf': 14, 'bootstrap': 'Bernoulli', 'subsample': 0.7223730517623818}. Best is trial 22 with value: 0.5655043606922715.\n",
      "[Trial 54] Fold metrics – Precision: 0.550 | Recall: 0.669 | F1: 0.604\n",
      "[Trial 54] Fold metrics – Precision: 0.528 | Recall: 0.737 | F1: 0.615\n"
     ]
    },
    {
     "name": "stderr",
     "output_type": "stream",
     "text": [
      "Best trial: 22. Best value: 0.565504:  55%|█████▌    | 55/100 [02:31<00:59,  1.31s/it]"
     ]
    },
    {
     "name": "stdout",
     "output_type": "stream",
     "text": [
      "[Trial 54] Fold metrics – Precision: 0.557 | Recall: 0.571 | F1: 0.564\n",
      "[I 2025-06-12 11:12:54,172] Trial 54 finished with value: 0.5630966430879473 and parameters: {'iterations': 632, 'lr': 0.035144891267128345, 'depth': 4, 'l2': 6.489802684741546, 'rand_str': 1.684970724115755, 'min_data_leaf': 13, 'bootstrap': 'Bernoulli', 'subsample': 0.7147121803375743}. Best is trial 22 with value: 0.5655043606922715.\n",
      "[Trial 55] Fold metrics – Precision: 0.544 | Recall: 0.681 | F1: 0.605\n",
      "[Trial 55] Fold metrics – Precision: 0.510 | Recall: 0.802 | F1: 0.624\n"
     ]
    },
    {
     "name": "stderr",
     "output_type": "stream",
     "text": [
      "Best trial: 22. Best value: 0.565504:  56%|█████▌    | 56/100 [02:33<01:00,  1.37s/it]"
     ]
    },
    {
     "name": "stdout",
     "output_type": "stream",
     "text": [
      "[Trial 55] Fold metrics – Precision: 0.559 | Recall: 0.571 | F1: 0.565\n",
      "[I 2025-06-12 11:12:55,686] Trial 55 finished with value: 0.5593774259983785 and parameters: {'iterations': 698, 'lr': 0.13649172003675045, 'depth': 5, 'l2': 6.757301555789935, 'rand_str': 1.7166067174200335, 'min_data_leaf': 14, 'bootstrap': 'Bernoulli', 'subsample': 0.7163876540459992}. Best is trial 22 with value: 0.5655043606922715.\n",
      "[Trial 56] Fold metrics – Precision: 0.537 | Recall: 0.714 | F1: 0.613\n",
      "[Trial 56] Fold metrics – Precision: 0.521 | Recall: 0.719 | F1: 0.604\n"
     ]
    },
    {
     "name": "stderr",
     "output_type": "stream",
     "text": [
      "Best trial: 22. Best value: 0.565504:  57%|█████▋    | 57/100 [02:34<00:57,  1.34s/it]"
     ]
    },
    {
     "name": "stdout",
     "output_type": "stream",
     "text": [
      "[Trial 56] Fold metrics – Precision: 0.557 | Recall: 0.576 | F1: 0.566\n",
      "[I 2025-06-12 11:12:56,959] Trial 56 finished with value: 0.5589065091482179 and parameters: {'iterations': 654, 'lr': 0.03929921139379955, 'depth': 4, 'l2': 4.882114457484134, 'rand_str': 1.6053860518782437, 'min_data_leaf': 12, 'bootstrap': 'Bernoulli', 'subsample': 0.6867071253922443}. Best is trial 22 with value: 0.5655043606922715.\n",
      "[Trial 57] Fold metrics – Precision: 0.543 | Recall: 0.715 | F1: 0.617\n",
      "[Trial 57] Fold metrics – Precision: 0.516 | Recall: 0.807 | F1: 0.629\n"
     ]
    },
    {
     "name": "stderr",
     "output_type": "stream",
     "text": [
      "Best trial: 22. Best value: 0.565504:  58%|█████▊    | 58/100 [02:35<00:55,  1.32s/it]"
     ]
    },
    {
     "name": "stdout",
     "output_type": "stream",
     "text": [
      "[Trial 57] Fold metrics – Precision: 0.552 | Recall: 0.634 | F1: 0.590\n",
      "[I 2025-06-12 11:12:58,227] Trial 57 finished with value: 0.5641785616333514 and parameters: {'iterations': 763, 'lr': 0.04563393175332064, 'depth': 4, 'l2': 5.629181221838124, 'rand_str': 1.2915802799684024, 'min_data_leaf': 14, 'bootstrap': 'Bayesian', 'bagging_temp': 2.2171824555502404}. Best is trial 22 with value: 0.5655043606922715.\n",
      "[Trial 58] Fold metrics – Precision: 0.557 | Recall: 0.551 | F1: 0.554\n",
      "[Trial 58] Fold metrics – Precision: 0.508 | Recall: 0.826 | F1: 0.629\n"
     ]
    },
    {
     "name": "stderr",
     "output_type": "stream",
     "text": [
      "Best trial: 22. Best value: 0.565504:  59%|█████▉    | 59/100 [02:38<01:04,  1.56s/it]"
     ]
    },
    {
     "name": "stdout",
     "output_type": "stream",
     "text": [
      "[Trial 58] Fold metrics – Precision: 0.545 | Recall: 0.571 | F1: 0.557\n",
      "[I 2025-06-12 11:13:00,361] Trial 58 finished with value: 0.5518591115247702 and parameters: {'iterations': 754, 'lr': 0.026554601528461362, 'depth': 6, 'l2': 3.190655882526795, 'rand_str': 1.190988516068951, 'min_data_leaf': 14, 'bootstrap': 'Bayesian', 'bagging_temp': 2.2380798714514887}. Best is trial 22 with value: 0.5655043606922715.\n",
      "[Trial 59] Fold metrics – Precision: 0.543 | Recall: 0.715 | F1: 0.617\n",
      "[Trial 59] Fold metrics – Precision: 0.522 | Recall: 0.787 | F1: 0.628\n"
     ]
    },
    {
     "name": "stderr",
     "output_type": "stream",
     "text": [
      "Best trial: 22. Best value: 0.565504:  60%|██████    | 60/100 [02:39<00:58,  1.47s/it]"
     ]
    },
    {
     "name": "stdout",
     "output_type": "stream",
     "text": [
      "[Trial 59] Fold metrics – Precision: 0.547 | Recall: 0.598 | F1: 0.571\n",
      "[I 2025-06-12 11:13:01,605] Trial 59 finished with value: 0.5620884986907934 and parameters: {'iterations': 722, 'lr': 0.04789956113115266, 'depth': 4, 'l2': 5.931290094908261, 'rand_str': 1.4721158750103314, 'min_data_leaf': 13, 'bootstrap': 'Bayesian', 'bagging_temp': 2.3587563127941213}. Best is trial 22 with value: 0.5655043606922715.\n",
      "[Trial 60] Fold metrics – Precision: 0.541 | Recall: 0.761 | F1: 0.632\n",
      "[Trial 60] Fold metrics – Precision: 0.514 | Recall: 0.739 | F1: 0.606\n"
     ]
    },
    {
     "name": "stderr",
     "output_type": "stream",
     "text": [
      "Best trial: 22. Best value: 0.565504:  61%|██████    | 61/100 [02:40<00:58,  1.50s/it]"
     ]
    },
    {
     "name": "stdout",
     "output_type": "stream",
     "text": [
      "[Trial 60] Fold metrics – Precision: 0.560 | Recall: 0.529 | F1: 0.544\n",
      "[I 2025-06-12 11:13:03,174] Trial 60 finished with value: 0.5584324512407453 and parameters: {'iterations': 802, 'lr': 0.03722499677957938, 'depth': 5, 'l2': 6.976115666862765, 'rand_str': 1.2306265186293952, 'min_data_leaf': 11, 'bootstrap': 'Bayesian', 'bagging_temp': 1.2337867706181695}. Best is trial 22 with value: 0.5655043606922715.\n",
      "[Trial 61] Fold metrics – Precision: 0.549 | Recall: 0.646 | F1: 0.594\n",
      "[Trial 61] Fold metrics – Precision: 0.512 | Recall: 0.807 | F1: 0.627\n"
     ]
    },
    {
     "name": "stderr",
     "output_type": "stream",
     "text": [
      "Best trial: 22. Best value: 0.565504:  62%|██████▏   | 62/100 [02:42<00:54,  1.42s/it]"
     ]
    },
    {
     "name": "stdout",
     "output_type": "stream",
     "text": [
      "[Trial 61] Fold metrics – Precision: 0.556 | Recall: 0.591 | F1: 0.573\n",
      "[I 2025-06-12 11:13:04,426] Trial 61 finished with value: 0.5602763344628626 and parameters: {'iterations': 693, 'lr': 0.04504455697701836, 'depth': 4, 'l2': 4.889228853190531, 'rand_str': 1.1084006906539197, 'min_data_leaf': 13, 'bootstrap': 'Bayesian', 'bagging_temp': 1.9272356803332187}. Best is trial 22 with value: 0.5655043606922715.\n",
      "[Trial 62] Fold metrics – Precision: 0.543 | Recall: 0.715 | F1: 0.617\n",
      "[Trial 62] Fold metrics – Precision: 0.510 | Recall: 0.809 | F1: 0.625\n"
     ]
    },
    {
     "name": "stderr",
     "output_type": "stream",
     "text": [
      "Best trial: 22. Best value: 0.565504:  63%|██████▎   | 63/100 [02:43<00:50,  1.37s/it]"
     ]
    },
    {
     "name": "stdout",
     "output_type": "stream",
     "text": [
      "[Trial 62] Fold metrics – Precision: 0.553 | Recall: 0.598 | F1: 0.575\n",
      "[I 2025-06-12 11:13:05,679] Trial 62 finished with value: 0.5605692474454513 and parameters: {'iterations': 643, 'lr': 0.03166816781858435, 'depth': 4, 'l2': 6.375074448964654, 'rand_str': 1.339613751836066, 'min_data_leaf': 15, 'bootstrap': 'Bayesian', 'bagging_temp': 2.5519439371619823}. Best is trial 22 with value: 0.5655043606922715.\n",
      "[Trial 63] Fold metrics – Precision: 0.539 | Recall: 0.717 | F1: 0.615\n",
      "[Trial 63] Fold metrics – Precision: 0.518 | Recall: 0.776 | F1: 0.621\n"
     ]
    },
    {
     "name": "stderr",
     "output_type": "stream",
     "text": [
      "Best trial: 22. Best value: 0.565504:  64%|██████▍   | 64/100 [02:44<00:47,  1.33s/it]"
     ]
    },
    {
     "name": "stdout",
     "output_type": "stream",
     "text": [
      "[Trial 63] Fold metrics – Precision: 0.546 | Recall: 0.619 | F1: 0.580\n",
      "[I 2025-06-12 11:13:06,904] Trial 63 finished with value: 0.5600363067354402 and parameters: {'iterations': 678, 'lr': 0.05148045262306782, 'depth': 4, 'l2': 8.304524654777083, 'rand_str': 1.772437371931168, 'min_data_leaf': 11, 'bootstrap': 'Bernoulli', 'subsample': 0.6909492081191618}. Best is trial 22 with value: 0.5655043606922715.\n",
      "[Trial 64] Fold metrics – Precision: 0.541 | Recall: 0.602 | F1: 0.570\n",
      "[Trial 64] Fold metrics – Precision: 0.514 | Recall: 0.792 | F1: 0.623\n"
     ]
    },
    {
     "name": "stderr",
     "output_type": "stream",
     "text": [
      "Best trial: 22. Best value: 0.565504:  65%|██████▌   | 65/100 [02:45<00:46,  1.32s/it]"
     ]
    },
    {
     "name": "stdout",
     "output_type": "stream",
     "text": [
      "[Trial 64] Fold metrics – Precision: 0.560 | Recall: 0.564 | F1: 0.562\n",
      "[I 2025-06-12 11:13:08,191] Trial 64 finished with value: 0.5549432292122111 and parameters: {'iterations': 764, 'lr': 0.04401601346808335, 'depth': 4, 'l2': 5.189839989744668, 'rand_str': 1.6393524795495589, 'min_data_leaf': 12, 'bootstrap': 'MVS'}. Best is trial 22 with value: 0.5655043606922715.\n",
      "[Trial 65] Fold metrics – Precision: 0.548 | Recall: 0.606 | F1: 0.575\n",
      "[Trial 65] Fold metrics – Precision: 0.521 | Recall: 0.719 | F1: 0.604\n"
     ]
    },
    {
     "name": "stderr",
     "output_type": "stream",
     "text": [
      "Best trial: 22. Best value: 0.565504:  66%|██████▌   | 66/100 [02:47<00:43,  1.29s/it]"
     ]
    },
    {
     "name": "stdout",
     "output_type": "stream",
     "text": [
      "[Trial 65] Fold metrics – Precision: 0.561 | Recall: 0.558 | F1: 0.559\n",
      "[I 2025-06-12 11:13:09,411] Trial 65 finished with value: 0.556721259644623 and parameters: {'iterations': 719, 'lr': 0.06641621555898616, 'depth': 4, 'l2': 7.98141852854611, 'rand_str': 1.498626546166936, 'min_data_leaf': 24, 'bootstrap': 'Bernoulli', 'subsample': 0.6520307465037648}. Best is trial 22 with value: 0.5655043606922715.\n",
      "[Trial 66] Fold metrics – Precision: 0.550 | Recall: 0.669 | F1: 0.604\n",
      "[Trial 66] Fold metrics – Precision: 0.519 | Recall: 0.732 | F1: 0.608\n"
     ]
    },
    {
     "name": "stderr",
     "output_type": "stream",
     "text": [
      "Best trial: 22. Best value: 0.565504:  67%|██████▋   | 67/100 [02:48<00:42,  1.29s/it]"
     ]
    },
    {
     "name": "stdout",
     "output_type": "stream",
     "text": [
      "[Trial 66] Fold metrics – Precision: 0.562 | Recall: 0.589 | F1: 0.575\n",
      "[I 2025-06-12 11:13:10,708] Trial 66 finished with value: 0.5628084838656132 and parameters: {'iterations': 634, 'lr': 0.03590178982335925, 'depth': 4, 'l2': 9.860110251607157, 'rand_str': 1.9680368933611923, 'min_data_leaf': 14, 'bootstrap': 'Bernoulli', 'subsample': 0.7299161795768209}. Best is trial 22 with value: 0.5655043606922715.\n",
      "[Trial 67] Fold metrics – Precision: 0.549 | Recall: 0.669 | F1: 0.603\n",
      "[Trial 67] Fold metrics – Precision: 0.524 | Recall: 0.723 | F1: 0.608\n"
     ]
    },
    {
     "name": "stderr",
     "output_type": "stream",
     "text": [
      "Best trial: 22. Best value: 0.565504:  68%|██████▊   | 68/100 [02:49<00:41,  1.29s/it]"
     ]
    },
    {
     "name": "stdout",
     "output_type": "stream",
     "text": [
      "[Trial 67] Fold metrics – Precision: 0.556 | Recall: 0.573 | F1: 0.564\n",
      "[I 2025-06-12 11:13:12,004] Trial 67 finished with value: 0.561056480028384 and parameters: {'iterations': 773, 'lr': 0.026649163933535416, 'depth': 4, 'l2': 8.945506769588143, 'rand_str': 1.7277088321721523, 'min_data_leaf': 19, 'bootstrap': 'Bernoulli', 'subsample': 0.7148852233518469}. Best is trial 22 with value: 0.5655043606922715.\n",
      "[Trial 68] Fold metrics – Precision: 0.541 | Recall: 0.761 | F1: 0.632\n",
      "[Trial 68] Fold metrics – Precision: 0.521 | Recall: 0.703 | F1: 0.598\n"
     ]
    },
    {
     "name": "stderr",
     "output_type": "stream",
     "text": [
      "Best trial: 22. Best value: 0.565504:  69%|██████▉   | 69/100 [02:51<00:44,  1.45s/it]"
     ]
    },
    {
     "name": "stdout",
     "output_type": "stream",
     "text": [
      "[Trial 68] Fold metrics – Precision: 0.564 | Recall: 0.528 | F1: 0.546\n",
      "[I 2025-06-12 11:13:13,815] Trial 68 finished with value: 0.5599564512957335 and parameters: {'iterations': 604, 'lr': 0.058816501401748295, 'depth': 5, 'l2': 6.450366030323647, 'rand_str': 1.2900518453375411, 'min_data_leaf': 25, 'bootstrap': 'Bayesian', 'bagging_temp': 1.176983834791933}. Best is trial 22 with value: 0.5655043606922715.\n",
      "[Trial 69] Fold metrics – Precision: 0.545 | Recall: 0.675 | F1: 0.603\n",
      "[Trial 69] Fold metrics – Precision: 0.521 | Recall: 0.725 | F1: 0.606\n"
     ]
    },
    {
     "name": "stderr",
     "output_type": "stream",
     "text": [
      "Best trial: 22. Best value: 0.565504:  70%|███████   | 70/100 [02:52<00:41,  1.40s/it]"
     ]
    },
    {
     "name": "stdout",
     "output_type": "stream",
     "text": [
      "[Trial 69] Fold metrics – Precision: 0.563 | Recall: 0.591 | F1: 0.577\n",
      "[I 2025-06-12 11:13:15,094] Trial 69 finished with value: 0.5624839367756086 and parameters: {'iterations': 544, 'lr': 0.047841414038309986, 'depth': 4, 'l2': 7.146425158021573, 'rand_str': 2.1112679044654383, 'min_data_leaf': 10, 'bootstrap': 'Bernoulli', 'subsample': 0.6148764062728892}. Best is trial 22 with value: 0.5655043606922715.\n",
      "[Trial 70] Fold metrics – Precision: 0.539 | Recall: 0.717 | F1: 0.615\n",
      "[Trial 70] Fold metrics – Precision: 0.521 | Recall: 0.719 | F1: 0.604\n"
     ]
    },
    {
     "name": "stderr",
     "output_type": "stream",
     "text": [
      "Best trial: 22. Best value: 0.565504:  71%|███████   | 71/100 [02:53<00:39,  1.35s/it]"
     ]
    },
    {
     "name": "stdout",
     "output_type": "stream",
     "text": [
      "[Trial 70] Fold metrics – Precision: 0.556 | Recall: 0.549 | F1: 0.553\n",
      "[I 2025-06-12 11:13:16,326] Trial 70 finished with value: 0.5575743852488457 and parameters: {'iterations': 681, 'lr': 0.042171452856665174, 'depth': 4, 'l2': 4.046812910532715, 'rand_str': 1.0557251627750182, 'min_data_leaf': 13, 'bootstrap': 'Bernoulli', 'subsample': 0.6998210581070075}. Best is trial 22 with value: 0.5655043606922715.\n",
      "[Trial 71] Fold metrics – Precision: 0.539 | Recall: 0.717 | F1: 0.615\n",
      "[Trial 71] Fold metrics – Precision: 0.522 | Recall: 0.734 | F1: 0.610\n"
     ]
    },
    {
     "name": "stderr",
     "output_type": "stream",
     "text": [
      "Best trial: 22. Best value: 0.565504:  72%|███████▏  | 72/100 [02:55<00:37,  1.33s/it]"
     ]
    },
    {
     "name": "stdout",
     "output_type": "stream",
     "text": [
      "[Trial 71] Fold metrics – Precision: 0.562 | Recall: 0.587 | F1: 0.574\n",
      "[I 2025-06-12 11:13:17,627] Trial 71 finished with value: 0.5624075627229413 and parameters: {'iterations': 623, 'lr': 0.03305518590007829, 'depth': 4, 'l2': 13.93257563108671, 'rand_str': 2.0266882872692156, 'min_data_leaf': 21, 'bootstrap': 'Bernoulli', 'subsample': 0.7400216933473563}. Best is trial 22 with value: 0.5655043606922715.\n",
      "[Trial 72] Fold metrics – Precision: 0.548 | Recall: 0.667 | F1: 0.602\n",
      "[Trial 72] Fold metrics – Precision: 0.528 | Recall: 0.743 | F1: 0.617\n"
     ]
    },
    {
     "name": "stderr",
     "output_type": "stream",
     "text": [
      "Best trial: 22. Best value: 0.565504:  73%|███████▎  | 73/100 [02:56<00:35,  1.32s/it]"
     ]
    },
    {
     "name": "stdout",
     "output_type": "stream",
     "text": [
      "[Trial 72] Fold metrics – Precision: 0.559 | Recall: 0.570 | F1: 0.565\n",
      "[I 2025-06-12 11:13:18,930] Trial 72 finished with value: 0.5632782877284268 and parameters: {'iterations': 656, 'lr': 0.037103400209772416, 'depth': 4, 'l2': 11.823834745856564, 'rand_str': 1.843672735602565, 'min_data_leaf': 22, 'bootstrap': 'Bernoulli', 'subsample': 0.7664691307677706}. Best is trial 22 with value: 0.5655043606922715.\n",
      "[Trial 73] Fold metrics – Precision: 0.549 | Recall: 0.669 | F1: 0.603\n",
      "[Trial 73] Fold metrics – Precision: 0.529 | Recall: 0.736 | F1: 0.616\n"
     ]
    },
    {
     "name": "stderr",
     "output_type": "stream",
     "text": [
      "Best trial: 22. Best value: 0.565504:  74%|███████▍  | 74/100 [02:57<00:33,  1.31s/it]"
     ]
    },
    {
     "name": "stdout",
     "output_type": "stream",
     "text": [
      "[Trial 73] Fold metrics – Precision: 0.558 | Recall: 0.592 | F1: 0.574\n",
      "[I 2025-06-12 11:13:20,197] Trial 73 finished with value: 0.5648918901619278 and parameters: {'iterations': 649, 'lr': 0.024421356483576424, 'depth': 4, 'l2': 11.788492530962955, 'rand_str': 1.8357264315461386, 'min_data_leaf': 22, 'bootstrap': 'Bernoulli', 'subsample': 0.7250562968464499}. Best is trial 22 with value: 0.5655043606922715.\n",
      "[Trial 74] Fold metrics – Precision: 0.547 | Recall: 0.574 | F1: 0.561\n",
      "[Trial 74] Fold metrics – Precision: 0.511 | Recall: 0.781 | F1: 0.618\n"
     ]
    },
    {
     "name": "stderr",
     "output_type": "stream",
     "text": [
      "Best trial: 22. Best value: 0.565504:  75%|███████▌  | 75/100 [03:00<00:45,  1.83s/it]"
     ]
    },
    {
     "name": "stdout",
     "output_type": "stream",
     "text": [
      "[Trial 74] Fold metrics – Precision: 0.545 | Recall: 0.601 | F1: 0.572\n",
      "[I 2025-06-12 11:13:23,239] Trial 74 finished with value: 0.5522702962633894 and parameters: {'iterations': 586, 'lr': 0.02399231887031712, 'depth': 7, 'l2': 11.578514527330636, 'rand_str': 1.8476256298699163, 'min_data_leaf': 22, 'bootstrap': 'Bernoulli', 'subsample': 0.7229020128472113}. Best is trial 22 with value: 0.5655043606922715.\n",
      "[Trial 75] Fold metrics – Precision: 0.549 | Recall: 0.669 | F1: 0.603\n",
      "[Trial 75] Fold metrics – Precision: 0.520 | Recall: 0.727 | F1: 0.606\n"
     ]
    },
    {
     "name": "stderr",
     "output_type": "stream",
     "text": [
      "Best trial: 22. Best value: 0.565504:  76%|███████▌  | 76/100 [03:02<00:39,  1.67s/it]"
     ]
    },
    {
     "name": "stdout",
     "output_type": "stream",
     "text": [
      "[Trial 75] Fold metrics – Precision: 0.557 | Recall: 0.578 | F1: 0.568\n",
      "[I 2025-06-12 11:13:24,525] Trial 75 finished with value: 0.5608477326361254 and parameters: {'iterations': 655, 'lr': 0.026361687605118693, 'depth': 4, 'l2': 9.36332291610559, 'rand_str': 1.959979355785722, 'min_data_leaf': 23, 'bootstrap': 'Bernoulli', 'subsample': 0.7028397310042447}. Best is trial 22 with value: 0.5655043606922715.\n",
      "[Trial 76] Fold metrics – Precision: 0.542 | Recall: 0.603 | F1: 0.571\n",
      "[Trial 76] Fold metrics – Precision: 0.509 | Recall: 0.798 | F1: 0.622\n"
     ]
    },
    {
     "name": "stderr",
     "output_type": "stream",
     "text": [
      "Best trial: 22. Best value: 0.565504:  77%|███████▋  | 77/100 [03:03<00:36,  1.57s/it]"
     ]
    },
    {
     "name": "stdout",
     "output_type": "stream",
     "text": [
      "[Trial 76] Fold metrics – Precision: 0.565 | Recall: 0.545 | F1: 0.554\n",
      "[I 2025-06-12 11:13:25,888] Trial 76 finished with value: 0.5540794650209595 and parameters: {'iterations': 722, 'lr': 0.020055206239302913, 'depth': 4, 'l2': 5.388867909153998, 'rand_str': 1.6569144146363777, 'min_data_leaf': 23, 'bootstrap': 'MVS'}. Best is trial 22 with value: 0.5655043606922715.\n",
      "[Trial 77] Fold metrics – Precision: 0.550 | Recall: 0.576 | F1: 0.563\n",
      "[Trial 77] Fold metrics – Precision: 0.521 | Recall: 0.719 | F1: 0.604\n"
     ]
    },
    {
     "name": "stderr",
     "output_type": "stream",
     "text": [
      "Best trial: 22. Best value: 0.565504:  78%|███████▊  | 78/100 [03:04<00:32,  1.47s/it]"
     ]
    },
    {
     "name": "stdout",
     "output_type": "stream",
     "text": [
      "[Trial 77] Fold metrics – Precision: 0.557 | Recall: 0.584 | F1: 0.570\n",
      "[I 2025-06-12 11:13:27,130] Trial 77 finished with value: 0.5562475761758203 and parameters: {'iterations': 202, 'lr': 0.03801650924561572, 'depth': 4, 'l2': 10.201443115381734, 'rand_str': 1.8590005343412916, 'min_data_leaf': 24, 'bootstrap': 'Bernoulli', 'subsample': 0.6676309077806724}. Best is trial 22 with value: 0.5655043606922715.\n",
      "[Trial 78] Fold metrics – Precision: 0.547 | Recall: 0.601 | F1: 0.572\n",
      "[Trial 78] Fold metrics – Precision: 0.526 | Recall: 0.676 | F1: 0.592\n"
     ]
    },
    {
     "name": "stderr",
     "output_type": "stream",
     "text": [
      "Best trial: 22. Best value: 0.565504:  79%|███████▉  | 79/100 [03:09<00:54,  2.57s/it]"
     ]
    },
    {
     "name": "stdout",
     "output_type": "stream",
     "text": [
      "[Trial 78] Fold metrics – Precision: 0.555 | Recall: 0.560 | F1: 0.558\n",
      "[I 2025-06-12 11:13:32,267] Trial 78 finished with value: 0.5543810338084492 and parameters: {'iterations': 648, 'lr': 0.08936313678279152, 'depth': 8, 'l2': 6.1588282841143895, 'rand_str': 1.5377723868427973, 'min_data_leaf': 22, 'bootstrap': 'Bernoulli', 'subsample': 0.7215536026893545}. Best is trial 22 with value: 0.5655043606922715.\n",
      "[Trial 79] Fold metrics – Precision: 0.543 | Recall: 0.663 | F1: 0.597\n",
      "[Trial 79] Fold metrics – Precision: 0.513 | Recall: 0.768 | F1: 0.615\n"
     ]
    },
    {
     "name": "stderr",
     "output_type": "stream",
     "text": [
      "Best trial: 22. Best value: 0.565504:  80%|████████  | 80/100 [03:11<00:48,  2.42s/it]"
     ]
    },
    {
     "name": "stdout",
     "output_type": "stream",
     "text": [
      "[Trial 79] Fold metrics – Precision: 0.557 | Recall: 0.579 | F1: 0.568\n",
      "[I 2025-06-12 11:13:34,334] Trial 79 finished with value: 0.558122364177957 and parameters: {'iterations': 817, 'lr': 0.03108928898150446, 'depth': 6, 'l2': 11.946238202161403, 'rand_str': 1.7594295667853324, 'min_data_leaf': 26, 'bootstrap': 'Bernoulli', 'subsample': 0.7674450373226456}. Best is trial 22 with value: 0.5655043606922715.\n",
      "[Trial 80] Fold metrics – Precision: 0.538 | Recall: 0.707 | F1: 0.611\n",
      "[Trial 80] Fold metrics – Precision: 0.524 | Recall: 0.740 | F1: 0.613\n"
     ]
    },
    {
     "name": "stderr",
     "output_type": "stream",
     "text": [
      "Best trial: 22. Best value: 0.565504:  81%|████████  | 81/100 [03:13<00:39,  2.07s/it]"
     ]
    },
    {
     "name": "stdout",
     "output_type": "stream",
     "text": [
      "[Trial 80] Fold metrics – Precision: 0.556 | Recall: 0.581 | F1: 0.568\n",
      "[I 2025-06-12 11:13:35,597] Trial 80 finished with value: 0.560823337613186 and parameters: {'iterations': 553, 'lr': 0.05235172176337049, 'depth': 4, 'l2': 10.690775439223296, 'rand_str': 2.0774347986935044, 'min_data_leaf': 24, 'bootstrap': 'Bernoulli', 'subsample': 0.7437147708630916}. Best is trial 22 with value: 0.5655043606922715.\n",
      "[Trial 81] Fold metrics – Precision: 0.548 | Recall: 0.667 | F1: 0.602\n",
      "[Trial 81] Fold metrics – Precision: 0.528 | Recall: 0.713 | F1: 0.607\n"
     ]
    },
    {
     "name": "stderr",
     "output_type": "stream",
     "text": [
      "Best trial: 22. Best value: 0.565504:  82%|████████▏ | 82/100 [03:14<00:32,  1.83s/it]"
     ]
    },
    {
     "name": "stdout",
     "output_type": "stream",
     "text": [
      "[Trial 81] Fold metrics – Precision: 0.552 | Recall: 0.571 | F1: 0.561\n",
      "[I 2025-06-12 11:13:36,848] Trial 81 finished with value: 0.5602643313757951 and parameters: {'iterations': 690, 'lr': 0.03556717681495053, 'depth': 4, 'l2': 12.439277844907247, 'rand_str': 1.8279829748870182, 'min_data_leaf': 23, 'bootstrap': 'Bernoulli', 'subsample': 0.8851311574854035}. Best is trial 22 with value: 0.5655043606922715.\n",
      "[Trial 82] Fold metrics – Precision: 0.539 | Recall: 0.717 | F1: 0.615\n",
      "[Trial 82] Fold metrics – Precision: 0.521 | Recall: 0.719 | F1: 0.604\n"
     ]
    },
    {
     "name": "stderr",
     "output_type": "stream",
     "text": [
      "Best trial: 22. Best value: 0.565504:  83%|████████▎ | 83/100 [03:15<00:28,  1.65s/it]"
     ]
    },
    {
     "name": "stdout",
     "output_type": "stream",
     "text": [
      "[Trial 82] Fold metrics – Precision: 0.560 | Recall: 0.549 | F1: 0.555\n",
      "[I 2025-06-12 11:13:38,088] Trial 82 finished with value: 0.5588071663202023 and parameters: {'iterations': 737, 'lr': 0.04419197424548242, 'depth': 4, 'l2': 13.261152081909051, 'rand_str': 1.4130721923480707, 'min_data_leaf': 21, 'bootstrap': 'Bernoulli', 'subsample': 0.7638212345568647}. Best is trial 22 with value: 0.5655043606922715.\n",
      "[Trial 83] Fold metrics – Precision: 0.548 | Recall: 0.666 | F1: 0.601\n",
      "[Trial 83] Fold metrics – Precision: 0.517 | Recall: 0.776 | F1: 0.621\n"
     ]
    },
    {
     "name": "stderr",
     "output_type": "stream",
     "text": [
      "Best trial: 22. Best value: 0.565504:  84%|████████▍ | 84/100 [03:16<00:24,  1.52s/it]"
     ]
    },
    {
     "name": "stdout",
     "output_type": "stream",
     "text": [
      "[Trial 83] Fold metrics – Precision: 0.557 | Recall: 0.590 | F1: 0.573\n",
      "[I 2025-06-12 11:13:39,315] Trial 83 finished with value: 0.5616607530492798 and parameters: {'iterations': 664, 'lr': 0.04713076843027249, 'depth': 4, 'l2': 11.86002003372992, 'rand_str': 1.7008501248255283, 'min_data_leaf': 22, 'bootstrap': 'Bernoulli', 'subsample': 0.7868073250172155}. Best is trial 22 with value: 0.5655043606922715.\n",
      "[Trial 84] Fold metrics – Precision: 0.549 | Recall: 0.668 | F1: 0.603\n",
      "[Trial 84] Fold metrics – Precision: 0.523 | Recall: 0.725 | F1: 0.607\n"
     ]
    },
    {
     "name": "stderr",
     "output_type": "stream",
     "text": [
      "Best trial: 22. Best value: 0.565504:  85%|████████▌ | 85/100 [03:18<00:21,  1.45s/it]"
     ]
    },
    {
     "name": "stdout",
     "output_type": "stream",
     "text": [
      "[Trial 84] Fold metrics – Precision: 0.560 | Recall: 0.571 | F1: 0.565\n",
      "[I 2025-06-12 11:13:40,587] Trial 84 finished with value: 0.561614551824414 and parameters: {'iterations': 619, 'lr': 0.04030878817546291, 'depth': 4, 'l2': 8.123053720178586, 'rand_str': 1.9325424023798299, 'min_data_leaf': 18, 'bootstrap': 'Bernoulli', 'subsample': 0.8064321287511278}. Best is trial 22 with value: 0.5655043606922715.\n",
      "[Trial 85] Fold metrics – Precision: 0.550 | Recall: 0.669 | F1: 0.604\n",
      "[Trial 85] Fold metrics – Precision: 0.522 | Recall: 0.723 | F1: 0.606\n"
     ]
    },
    {
     "name": "stderr",
     "output_type": "stream",
     "text": [
      "Best trial: 22. Best value: 0.565504:  86%|████████▌ | 86/100 [03:19<00:19,  1.39s/it]"
     ]
    },
    {
     "name": "stdout",
     "output_type": "stream",
     "text": [
      "[Trial 85] Fold metrics – Precision: 0.546 | Recall: 0.619 | F1: 0.580\n",
      "[I 2025-06-12 11:13:41,828] Trial 85 finished with value: 0.5605013171543094 and parameters: {'iterations': 708, 'lr': 0.028828046537198844, 'depth': 4, 'l2': 14.176059270479477, 'rand_str': 1.5881898951998021, 'min_data_leaf': 21, 'bootstrap': 'Bernoulli', 'subsample': 0.7299332687148482}. Best is trial 22 with value: 0.5655043606922715.\n",
      "[Trial 86] Fold metrics – Precision: 0.539 | Recall: 0.717 | F1: 0.615\n",
      "[Trial 86] Fold metrics – Precision: 0.521 | Recall: 0.764 | F1: 0.620\n"
     ]
    },
    {
     "name": "stderr",
     "output_type": "stream",
     "text": [
      "Best trial: 22. Best value: 0.565504:  87%|████████▋ | 87/100 [03:20<00:17,  1.36s/it]"
     ]
    },
    {
     "name": "stdout",
     "output_type": "stream",
     "text": [
      "[Trial 86] Fold metrics – Precision: 0.536 | Recall: 0.697 | F1: 0.606\n",
      "[I 2025-06-12 11:13:43,111] Trial 86 finished with value: 0.5617593329048655 and parameters: {'iterations': 777, 'lr': 0.02447288135450005, 'depth': 4, 'l2': 8.73147125046105, 'rand_str': 2.6002332535945514, 'min_data_leaf': 17, 'bootstrap': 'Bernoulli', 'subsample': 0.7084148490394236}. Best is trial 22 with value: 0.5655043606922715.\n",
      "[Trial 87] Fold metrics – Precision: 0.550 | Recall: 0.705 | F1: 0.618\n",
      "[Trial 87] Fold metrics – Precision: 0.519 | Recall: 0.751 | F1: 0.614\n"
     ]
    },
    {
     "name": "stderr",
     "output_type": "stream",
     "text": [
      "Best trial: 22. Best value: 0.565504:  88%|████████▊ | 88/100 [03:22<00:17,  1.43s/it]"
     ]
    },
    {
     "name": "stdout",
     "output_type": "stream",
     "text": [
      "[Trial 87] Fold metrics – Precision: 0.562 | Recall: 0.540 | F1: 0.551\n",
      "[I 2025-06-12 11:13:44,715] Trial 87 finished with value: 0.5620286771441642 and parameters: {'iterations': 508, 'lr': 0.03574058222830822, 'depth': 5, 'l2': 12.737432670974083, 'rand_str': 2.1955529468185455, 'min_data_leaf': 19, 'bootstrap': 'Bayesian', 'bagging_temp': 1.7957969859135476}. Best is trial 22 with value: 0.5655043606922715.\n",
      "[Trial 88] Fold metrics – Precision: 0.539 | Recall: 0.707 | F1: 0.611\n",
      "[Trial 88] Fold metrics – Precision: 0.521 | Recall: 0.740 | F1: 0.611\n"
     ]
    },
    {
     "name": "stderr",
     "output_type": "stream",
     "text": [
      "Best trial: 22. Best value: 0.565504:  89%|████████▉ | 89/100 [03:23<00:15,  1.37s/it]"
     ]
    },
    {
     "name": "stdout",
     "output_type": "stream",
     "text": [
      "[Trial 88] Fold metrics – Precision: 0.561 | Recall: 0.584 | F1: 0.572\n",
      "[I 2025-06-12 11:13:45,959] Trial 88 finished with value: 0.5614482356323421 and parameters: {'iterations': 590, 'lr': 0.10685497281392778, 'depth': 4, 'l2': 9.578112418151914, 'rand_str': 2.001662516984461, 'min_data_leaf': 15, 'bootstrap': 'Bernoulli', 'subsample': 0.7456130510193696}. Best is trial 22 with value: 0.5655043606922715.\n",
      "[Trial 89] Fold metrics – Precision: 0.539 | Recall: 0.614 | F1: 0.574\n",
      "[Trial 89] Fold metrics – Precision: 0.515 | Recall: 0.805 | F1: 0.628\n"
     ]
    },
    {
     "name": "stderr",
     "output_type": "stream",
     "text": [
      "Best trial: 22. Best value: 0.565504:  90%|█████████ | 90/100 [03:24<00:13,  1.35s/it]"
     ]
    },
    {
     "name": "stdout",
     "output_type": "stream",
     "text": [
      "[Trial 89] Fold metrics – Precision: 0.560 | Recall: 0.553 | F1: 0.557\n",
      "[I 2025-06-12 11:13:47,261] Trial 89 finished with value: 0.5554067197067495 and parameters: {'iterations': 633, 'lr': 0.06263057065863112, 'depth': 4, 'l2': 7.479148590429354, 'rand_str': 1.877012265717196, 'min_data_leaf': 20, 'bootstrap': 'MVS'}. Best is trial 22 with value: 0.5655043606922715.\n",
      "[Trial 90] Fold metrics – Precision: 0.539 | Recall: 0.717 | F1: 0.615\n",
      "[Trial 90] Fold metrics – Precision: 0.527 | Recall: 0.727 | F1: 0.611\n"
     ]
    },
    {
     "name": "stderr",
     "output_type": "stream",
     "text": [
      "Best trial: 22. Best value: 0.565504:  91%|█████████ | 91/100 [03:26<00:11,  1.31s/it]"
     ]
    },
    {
     "name": "stdout",
     "output_type": "stream",
     "text": [
      "[Trial 90] Fold metrics – Precision: 0.566 | Recall: 0.552 | F1: 0.559\n",
      "[I 2025-06-12 11:13:48,458] Trial 90 finished with value: 0.5626291560135491 and parameters: {'iterations': 851, 'lr': 0.05589556359158724, 'depth': 4, 'l2': 11.116885429251306, 'rand_str': 2.4489985121801245, 'min_data_leaf': 25, 'bootstrap': 'Bernoulli', 'subsample': 0.8525508049455583}. Best is trial 22 with value: 0.5655043606922715.\n",
      "[Trial 91] Fold metrics – Precision: 0.538 | Recall: 0.707 | F1: 0.611\n",
      "[Trial 91] Fold metrics – Precision: 0.528 | Recall: 0.722 | F1: 0.610\n"
     ]
    },
    {
     "name": "stderr",
     "output_type": "stream",
     "text": [
      "Best trial: 22. Best value: 0.565504:  92%|█████████▏| 92/100 [03:27<00:10,  1.29s/it]"
     ]
    },
    {
     "name": "stdout",
     "output_type": "stream",
     "text": [
      "[Trial 91] Fold metrics – Precision: 0.559 | Recall: 0.595 | F1: 0.576\n",
      "[I 2025-06-12 11:13:49,702] Trial 91 finished with value: 0.562815864469528 and parameters: {'iterations': 618, 'lr': 0.03300228003903208, 'depth': 4, 'l2': 13.239274311102369, 'rand_str': 2.0564383386193605, 'min_data_leaf': 21, 'bootstrap': 'Bernoulli', 'subsample': 0.7474475473468705}. Best is trial 22 with value: 0.5655043606922715.\n",
      "[Trial 92] Fold metrics – Precision: 0.539 | Recall: 0.717 | F1: 0.615\n",
      "[Trial 92] Fold metrics – Precision: 0.521 | Recall: 0.754 | F1: 0.616\n"
     ]
    },
    {
     "name": "stderr",
     "output_type": "stream",
     "text": [
      "Best trial: 22. Best value: 0.565504:  93%|█████████▎| 93/100 [03:28<00:08,  1.27s/it]"
     ]
    },
    {
     "name": "stdout",
     "output_type": "stream",
     "text": [
      "[Trial 92] Fold metrics – Precision: 0.536 | Recall: 0.697 | F1: 0.606\n",
      "[I 2025-06-12 11:13:50,927] Trial 92 finished with value: 0.561316175021251 and parameters: {'iterations': 678, 'lr': 0.03932773102834559, 'depth': 4, 'l2': 12.468006172092728, 'rand_str': 2.331272968629163, 'min_data_leaf': 20, 'bootstrap': 'Bernoulli', 'subsample': 0.7311265272216669}. Best is trial 22 with value: 0.5655043606922715.\n",
      "[Trial 93] Fold metrics – Precision: 0.539 | Recall: 0.717 | F1: 0.615\n",
      "[Trial 93] Fold metrics – Precision: 0.521 | Recall: 0.747 | F1: 0.614\n"
     ]
    },
    {
     "name": "stderr",
     "output_type": "stream",
     "text": [
      "Best trial: 22. Best value: 0.565504:  94%|█████████▍| 94/100 [03:29<00:07,  1.28s/it]"
     ]
    },
    {
     "name": "stdout",
     "output_type": "stream",
     "text": [
      "[Trial 93] Fold metrics – Precision: 0.559 | Recall: 0.570 | F1: 0.564\n",
      "[I 2025-06-12 11:13:52,223] Trial 93 finished with value: 0.5608594861444881 and parameters: {'iterations': 647, 'lr': 0.030260309173024698, 'depth': 4, 'l2': 13.037862622750469, 'rand_str': 2.123979884219749, 'min_data_leaf': 22, 'bootstrap': 'Bernoulli', 'subsample': 0.7833408272414075}. Best is trial 22 with value: 0.5655043606922715.\n",
      "[Trial 94] Fold metrics – Precision: 0.538 | Recall: 0.707 | F1: 0.611\n",
      "[Trial 94] Fold metrics – Precision: 0.521 | Recall: 0.786 | F1: 0.627\n"
     ]
    },
    {
     "name": "stderr",
     "output_type": "stream",
     "text": [
      "Best trial: 22. Best value: 0.565504:  95%|█████████▌| 95/100 [03:31<00:06,  1.26s/it]"
     ]
    },
    {
     "name": "stdout",
     "output_type": "stream",
     "text": [
      "[Trial 94] Fold metrics – Precision: 0.536 | Recall: 0.697 | F1: 0.606\n",
      "[I 2025-06-12 11:13:53,460] Trial 94 finished with value: 0.5617876257324067 and parameters: {'iterations': 707, 'lr': 0.041726272734742706, 'depth': 4, 'l2': 12.164048231431373, 'rand_str': 2.770634772427937, 'min_data_leaf': 23, 'bootstrap': 'Bernoulli', 'subsample': 0.7584278690442804}. Best is trial 22 with value: 0.5655043606922715.\n",
      "[Trial 95] Fold metrics – Precision: 0.549 | Recall: 0.669 | F1: 0.603\n",
      "[Trial 95] Fold metrics – Precision: 0.523 | Recall: 0.718 | F1: 0.605\n"
     ]
    },
    {
     "name": "stderr",
     "output_type": "stream",
     "text": [
      "Best trial: 22. Best value: 0.565504:  96%|█████████▌| 96/100 [03:32<00:05,  1.31s/it]"
     ]
    },
    {
     "name": "stdout",
     "output_type": "stream",
     "text": [
      "[Trial 95] Fold metrics – Precision: 0.565 | Recall: 0.571 | F1: 0.568\n",
      "[I 2025-06-12 11:13:54,877] Trial 95 finished with value: 0.5629811488777609 and parameters: {'iterations': 560, 'lr': 0.022978096868083022, 'depth': 4, 'l2': 13.566458465026738, 'rand_str': 1.8163396753801868, 'min_data_leaf': 19, 'bootstrap': 'Bernoulli', 'subsample': 0.7173125594290354}. Best is trial 22 with value: 0.5655043606922715.\n",
      "[Trial 96] Fold metrics – Precision: 0.549 | Recall: 0.669 | F1: 0.603\n",
      "[Trial 96] Fold metrics – Precision: 0.518 | Recall: 0.779 | F1: 0.622\n"
     ]
    },
    {
     "name": "stderr",
     "output_type": "stream",
     "text": [
      "Best trial: 22. Best value: 0.565504:  97%|█████████▋| 97/100 [03:33<00:03,  1.30s/it]"
     ]
    },
    {
     "name": "stdout",
     "output_type": "stream",
     "text": [
      "[Trial 96] Fold metrics – Precision: 0.556 | Recall: 0.573 | F1: 0.564\n",
      "[I 2025-06-12 11:13:56,150] Trial 96 finished with value: 0.5612713224895142 and parameters: {'iterations': 562, 'lr': 0.02590344522217556, 'depth': 4, 'l2': 14.421910760708155, 'rand_str': 1.7913645169468206, 'min_data_leaf': 18, 'bootstrap': 'Bernoulli', 'subsample': 0.6944086333382221}. Best is trial 22 with value: 0.5655043606922715.\n",
      "[Trial 97] Fold metrics – Precision: 0.544 | Recall: 0.613 | F1: 0.576\n",
      "[Trial 97] Fold metrics – Precision: 0.520 | Recall: 0.781 | F1: 0.625\n"
     ]
    },
    {
     "name": "stderr",
     "output_type": "stream",
     "text": [
      "Best trial: 22. Best value: 0.565504:  98%|█████████▊| 98/100 [03:35<00:02,  1.38s/it]"
     ]
    },
    {
     "name": "stdout",
     "output_type": "stream",
     "text": [
      "[Trial 97] Fold metrics – Precision: 0.537 | Recall: 0.619 | F1: 0.575\n",
      "[I 2025-06-12 11:13:57,733] Trial 97 finished with value: 0.5552397669248152 and parameters: {'iterations': 521, 'lr': 0.02827569211243937, 'depth': 5, 'l2': 14.02557036395605, 'rand_str': 1.6980364890928383, 'min_data_leaf': 19, 'bootstrap': 'Bayesian', 'bagging_temp': 2.6029017832621983}. Best is trial 22 with value: 0.5655043606922715.\n",
      "[Trial 98] Fold metrics – Precision: 0.549 | Recall: 0.669 | F1: 0.603\n",
      "[Trial 98] Fold metrics – Precision: 0.527 | Recall: 0.740 | F1: 0.615\n"
     ]
    },
    {
     "name": "stderr",
     "output_type": "stream",
     "text": [
      "Best trial: 98. Best value: 0.566487:  99%|█████████▉| 99/100 [03:36<00:01,  1.34s/it]"
     ]
    },
    {
     "name": "stdout",
     "output_type": "stream",
     "text": [
      "[Trial 98] Fold metrics – Precision: 0.565 | Recall: 0.596 | F1: 0.580\n",
      "[I 2025-06-12 11:13:58,976] Trial 98 finished with value: 0.5664871124720557 and parameters: {'iterations': 752, 'lr': 0.020691023226819216, 'depth': 4, 'l2': 13.683470245201063, 'rand_str': 1.7369638634616382, 'min_data_leaf': 17, 'bootstrap': 'Bernoulli', 'subsample': 0.715299484815648}. Best is trial 98 with value: 0.5664871124720557.\n",
      "[Trial 99] Fold metrics – Precision: 0.547 | Recall: 0.574 | F1: 0.561\n",
      "[Trial 99] Fold metrics – Precision: 0.511 | Recall: 0.781 | F1: 0.618\n"
     ]
    },
    {
     "name": "stderr",
     "output_type": "stream",
     "text": [
      "Best trial: 98. Best value: 0.566487: 100%|██████████| 100/100 [03:39<00:00,  2.20s/it]"
     ]
    },
    {
     "name": "stdout",
     "output_type": "stream",
     "text": [
      "[Trial 99] Fold metrics – Precision: 0.545 | Recall: 0.601 | F1: 0.572\n",
      "[I 2025-06-12 11:14:01,982] Trial 99 finished with value: 0.5522702962633894 and parameters: {'iterations': 737, 'lr': 0.021200075185411518, 'depth': 7, 'l2': 13.619680830900808, 'rand_str': 1.9388636570956166, 'min_data_leaf': 17, 'bootstrap': 'Bernoulli', 'subsample': 0.7127557257063355}. Best is trial 98 with value: 0.5664871124720557.\n",
      "🏆 Best trial value: 0.5664871124720557\n",
      "🔧 Training final model …\n",
      "0:\tlearn: 0.5552593\ttest: 0.5676988\tbest: 0.5676988 (0)\ttotal: 3.3ms\tremaining: 2.48s\n"
     ]
    },
    {
     "name": "stderr",
     "output_type": "stream",
     "text": [
      "\n"
     ]
    },
    {
     "name": "stdout",
     "output_type": "stream",
     "text": [
      "100:\tlearn: 0.5716047\ttest: 0.5072318\tbest: 0.5676988 (0)\ttotal: 293ms\tremaining: 1.89s\n",
      "Stopped by overfitting detector  (150 iterations wait)\n",
      "\n",
      "bestTest = 0.5676988464\n",
      "bestIteration = 0\n",
      "\n",
      "Shrink model to first 1 iterations.\n",
      "✅ Final model trained\n",
      "📊 Evaluating …\n",
      "════════════════════════════════════════════════════════════\n",
      "AUC‑ROC     : 0.5581\n",
      "F1@0.5      : 0.5677\n",
      "F0.5@0.5    : 0.5696\n",
      "Best F0.5   : 0.5774  (thr = 0.10)\n",
      "════════════════════════════════════════════════════════════\n",
      "💾 Saving artefacts …\n",
      "✅ Files saved to C:\\Users\\ADMIN\\Desktop\\Coding_projects\\stock_market_prediction\\Stock-Market-Prediction\\src\\Models\\models\\models\\catboost_f05_results\n"
     ]
    }
   ],
   "source": [
    "# =============================================================\n",
    "#  Stable CatBoost F0.5 Optimizer (Windows‑friendly, CPU default)\n",
    "#  – avoids Bayesian‑bootstrap \"subsample\" crash\n",
    "#  – safe pos_weight bounds when classes ~balanced\n",
    "# =============================================================\n",
    "\n",
    "import os, gc, time, random, warnings, joblib, platform\n",
    "from pathlib import Path\n",
    "\n",
    "import numpy as np\n",
    "import pandas as pd\n",
    "from catboost import CatBoostClassifier, Pool\n",
    "from sklearn.metrics import (\n",
    "    accuracy_score, precision_score, recall_score,\n",
    "    f1_score, roc_auc_score\n",
    ")\n",
    "from sklearn.model_selection import TimeSeriesSplit\n",
    "import optuna\n",
    "\n",
    "# ─── GLOBAL CONFIG ────────────────────────────────────────────\n",
    "CSV_PATH     = Path(r\"C:\\Users\\ADMIN\\Desktop\\Coding_projects\\stock_market_prediction\\Stock-Market-Prediction\\data\\processed\\gemini_btc_with_features_4h.csv\")\n",
    "VAL_FRAC     = 0.20              # fraction held out for final test\n",
    "N_TRIALS     = 100               # hyper‑parameter trials\n",
    "EARLY_STOP   = 150               # CatBoost early stopping\n",
    "CV_FOLDS     = 3                 # chronological folds\n",
    "FIXED_THRESH = 0.50              # threshold used inside CV\n",
    "BETA         = 0.5               # F‑beta focus (precision‑heavy)\n",
    "SEED         = 42\n",
    "\n",
    "# ─── REPRODUCIBILITY ─────────────────────────────────────────\n",
    "os.environ[\"PYTHONHASHSEED\"] = str(SEED)\n",
    "np.random.seed(SEED)\n",
    "random.seed(SEED)\n",
    "warnings.filterwarnings(\"ignore\")\n",
    "\n",
    "print(f\"🖥️ Platform: {platform.system()} — running in CPU‑safe mode\")\n",
    "\n",
    "# ─── HELPERS ─────────────────────────────────────────────────\n",
    "\n",
    "def fbeta_score_fixed(y_true, y_pred, beta: float = BETA, zero_division: float = 0.0):\n",
    "    \"\"\"Compute F‑beta where precision is weighted β<1 heavier (β=0.5).\"\"\"\n",
    "    p = precision_score(y_true, y_pred, zero_division=0)\n",
    "    r = recall_score(y_true, y_pred, zero_division=0)\n",
    "    if p == 0 and r == 0:\n",
    "        return zero_division\n",
    "    beta2 = beta ** 2\n",
    "    return (1 + beta2) * p * r / (beta2 * p + r + 1e-9)\n",
    "\n",
    "def cleanup_memory():\n",
    "    gc.collect()\n",
    "\n",
    "# ─── LOAD & PREPARE DATA ─────────────────────────────────────\n",
    "print(\"📂 Loading data …\")\n",
    "\n",
    "df = pd.read_csv(CSV_PATH, index_col=0, parse_dates=True)\n",
    "df = df[df.index >= \"2018-01-01\"]\n",
    "if \"target\" not in df.columns:\n",
    "    raise ValueError(\"Column 'target' not found in dataset\")\n",
    "\n",
    "# feature leakage prevention — drop highly correlated / helper cols\n",
    "DROP_COLS = [\n",
    "    \"open\", \"high\", \"low\", \"high_low\", \"high_close\", \"low_close\",\n",
    "    \"typical_price\", \"true_range\", \"volume_mean_20\", \"EMA_21\", \"SMA_20\",\n",
    "    \"vwap_24h\", \"close_4h\", \"bollinger_upper\", \"bollinger_lower\",\n",
    "    \"MACD_line\", \"MACD_signal\", \"resistance_level\", \"support_level\",\n",
    "    \"vol_spike_1_5x\", \"near_upper_band\", \"near_lower_band\",\n",
    "    \"break_upper_band\", \"break_lower_band\", \"rsi_oversold\", \"above_sma20\",\n",
    "    \"macd_positive\", \"volume_breakout\", \"volume_breakdown\", \"above_sma50\",\n",
    "    \"ema7_above_ema21\", \"ema_cross_down\", \"rsi_overbought\",\n",
    "    \"stoch_overbought\", \"stoch_oversold\", \"cci_overbought\", \"cci_oversold\",\n",
    "    \"trending_market\", \"bullish_scenario_1\", \"bullish_scenario_2\",\n",
    "    \"bullish_scenario_3\", \"bullish_scenario_4\", \"bullish_scenario_5\",\n",
    "    \"bullish_scenario_6\", \"bearish_scenario_1\", \"bearish_scenario_2\",\n",
    "    \"bearish_scenario_3\", \"bearish_scenario_4\", \"bearish_scenario_6\",\n",
    "    \"close\",\n",
    "]\n",
    "df.drop(columns=[c for c in DROP_COLS if c in df.columns], inplace=True)\n",
    "df.dropna(inplace=True)\n",
    "print(f\"✅ Data: {len(df):,} rows, {df.shape[1]-1} features after cleaning\")\n",
    "\n",
    "X = df.drop(columns=\"target\")\n",
    "y = df[\"target\"].astype(int)\n",
    "cat_cols = X.select_dtypes(include=[\"object\", \"category\"]).columns.tolist()\n",
    "cat_indices = [X.columns.get_loc(c) for c in cat_cols]\n",
    "print(f\"✅ Categorical columns: {len(cat_cols)}\")\n",
    "\n",
    "class_counts = np.bincount(y)\n",
    "print(f\"📊 Class balance 0/1: {class_counts}\")\n",
    "\n",
    "# ─── OPTUNA OBJECTIVE ───────────────────────────────────────\n",
    "\n",
    "def objective(trial: optuna.Trial) -> float:\n",
    "    # ----- balanced class weight upper bound (never <1) -------\n",
    "    raw_pw = len(y) / max(1, 2 * class_counts[1])\n",
    "    upper_pw = min(8.0, max(1.0, raw_pw))  # always ≥1\n",
    "\n",
    "    # sample pos_weight only if useful\n",
    "    if upper_pw > 1.0:\n",
    "        pos_w = trial.suggest_float(\"pos_weight\", 1.0, upper_pw)\n",
    "        class_w = [1.0, pos_w]\n",
    "    else:\n",
    "        class_w = [1.0, 1.0]\n",
    "\n",
    "    params = {\n",
    "        \"iterations\": trial.suggest_int(\"iterations\", 200, 1000),\n",
    "        \"learning_rate\": trial.suggest_float(\"lr\", 0.02, 0.15),\n",
    "        \"depth\": trial.suggest_int(\"depth\", 4, 8),\n",
    "        \"l2_leaf_reg\": trial.suggest_float(\"l2\", 2.0, 15.0),\n",
    "        \"random_strength\": trial.suggest_float(\"rand_str\", 1.0, 3.0),\n",
    "        \"min_data_in_leaf\": trial.suggest_int(\"min_data_leaf\", 10, 30),\n",
    "        \"class_weights\": class_w,\n",
    "        \"bootstrap_type\": trial.suggest_categorical(\"bootstrap\", [\"Bernoulli\", \"MVS\", \"Bayesian\"]),\n",
    "        \"eval_metric\": \"F1\",\n",
    "        \"loss_function\": \"Logloss\",\n",
    "        \"random_seed\": SEED,\n",
    "        \"task_type\": \"CPU\",\n",
    "        \"thread_count\": 4,\n",
    "        \"early_stopping_rounds\": EARLY_STOP,\n",
    "        \"verbose\": False,\n",
    "    }\n",
    "\n",
    "    # conditional hyper‑params --------------------------------\n",
    "    if params[\"bootstrap_type\"] == \"Bernoulli\":\n",
    "        params[\"subsample\"] = trial.suggest_float(\"subsample\", 0.6, 0.9)\n",
    "    elif params[\"bootstrap_type\"] == \"Bayesian\":\n",
    "        params[\"bagging_temperature\"] = trial.suggest_float(\"bagging_temp\", 0.5, 3.0)\n",
    "    # MVS does not need extra knobs and must not have \"subsample\"\n",
    "\n",
    "    splitter = TimeSeriesSplit(n_splits=CV_FOLDS)\n",
    "    scores = []\n",
    "\n",
    "    for tr_idx, val_idx in splitter.split(X):\n",
    "        X_tr, X_val = X.iloc[tr_idx], X.iloc[val_idx]\n",
    "        y_tr, y_val = y.iloc[tr_idx], y.iloc[val_idx]\n",
    "\n",
    "        if y_val.nunique() < 2:\n",
    "            continue\n",
    "\n",
    "        model = CatBoostClassifier(**params)\n",
    "        model.fit(Pool(X_tr, y_tr, cat_features=cat_indices or None),\n",
    "                  eval_set=Pool(X_val, y_val, cat_features=cat_indices or None))\n",
    "\n",
    "        y_pred = (model.predict_proba(X_val)[:, 1] >= FIXED_THRESH).astype(int)\n",
    "        scores.append(fbeta_score_fixed(y_val, y_pred))\n",
    "        # ─── Optional metrics per trial fold ─────\n",
    "        prec = precision_score(y_val, y_pred, zero_division=0)\n",
    "        rec  = recall_score(y_val, y_pred, zero_division=0)\n",
    "        f1   = f1_score(y_val, y_pred, zero_division=0)\n",
    "\n",
    "        print(f\"[Trial {trial.number}] Fold metrics – Precision: {prec:.3f} | Recall: {rec:.3f} | F1: {f1:.3f}\")\n",
    "\n",
    "        del model\n",
    "        cleanup_memory()\n",
    "\n",
    "    return float(np.mean(scores)) if scores else 0.0\n",
    "\n",
    "# ─── RUN OPTIMISATION ───────────────────────────────────────\n",
    "print(\"🚀 Hyper‑parameter search …\")\n",
    "\n",
    "study = optuna.create_study(direction=\"maximize\",\n",
    "                           sampler=optuna.samplers.TPESampler(seed=SEED))\n",
    "study.optimize(objective, n_trials=N_TRIALS, timeout=None, show_progress_bar=True)\n",
    "\n",
    "print(\"🏆 Best trial value:\", study.best_value)\n",
    "\n",
    "# ─── TRAIN FINAL MODEL ──────────────────────────────────────\n",
    "print(\"🔧 Training final model …\")\n",
    "\n",
    "cut = int(len(df) * (1 - VAL_FRAC))\n",
    "X_train, y_train = X.iloc[:cut], y.iloc[:cut]\n",
    "X_test,  y_test  = X.iloc[cut:], y.iloc[cut:]\n",
    "\n",
    "best_params = {\n",
    "    \"iterations\": study.best_params.get(\"iterations\", 500),\n",
    "    \"learning_rate\": study.best_params.get(\"lr\", 0.05),\n",
    "    \"depth\": study.best_params.get(\"depth\", 6),\n",
    "    \"l2_leaf_reg\": study.best_params.get(\"l2\", 5.0),\n",
    "    \"min_data_in_leaf\": study.best_params.get(\"min_data_leaf\", 15),\n",
    "    \"random_strength\": study.best_params.get(\"rand_str\", 1.5),\n",
    "    \"class_weights\": [1.0, study.best_params.get(\"pos_weight\", 1.0)],\n",
    "    \"bootstrap_type\": study.best_params.get(\"bootstrap\", \"Bernoulli\"),\n",
    "    \"eval_metric\": \"F1\",\n",
    "    \"loss_function\": \"Logloss\",\n",
    "    \"random_seed\": SEED,\n",
    "    \"early_stopping_rounds\": EARLY_STOP,\n",
    "    \"task_type\": \"CPU\",\n",
    "    \"thread_count\": 4,\n",
    "    \"verbose\": 100,\n",
    "}\n",
    "\n",
    "if best_params[\"bootstrap_type\"] == \"Bernoulli\":\n",
    "    best_params[\"subsample\"] = study.best_params.get(\"subsample\", 0.8)\n",
    "elif best_params[\"bootstrap_type\"] == \"Bayesian\":\n",
    "    best_params[\"bagging_temperature\"] = study.best_params.get(\"bagging_temp\", 1.0)\n",
    "\n",
    "final_model = CatBoostClassifier(**best_params)\n",
    "final_model.fit(Pool(X_train, y_train, cat_features=cat_indices or None),\n",
    "                eval_set=Pool(X_test, y_test, cat_features=cat_indices or None))\n",
    "print(\"✅ Final model trained\")\n",
    "\n",
    "# ─── EVALUATE ───────────────────────────────────────────────\n",
    "print(\"📊 Evaluating …\")\n",
    "\n",
    "y_proba = final_model.predict_proba(X_test)[:, 1]\n",
    "y_pred_fixed = (y_proba >= FIXED_THRESH).astype(int)\n",
    "\n",
    "auc_fixed = roc_auc_score(y_test, y_proba)\n",
    "f1_fixed  = f1_score(y_test, y_pred_fixed)\n",
    "f05_fixed = fbeta_score_fixed(y_test, y_pred_fixed)\n",
    "\n",
    "# Threshold sweep for best F0.5\n",
    "thrs = np.linspace(0.1, 0.9, 17)\n",
    "best_thr, best_f05 = FIXED_THRESH, f05_fixed\n",
    "for thr in thrs:\n",
    "    pred = (y_proba >= thr).astype(int)\n",
    "    f05 = fbeta_score_fixed(y_test, pred)\n",
    "    if f05 > best_f05:\n",
    "        best_f05, best_thr = f05, thr\n",
    "\n",
    "y_pred_opt = (y_proba >= best_thr).astype(int)\n",
    "\n",
    "print(\"═\"*60)\n",
    "print(f\"AUC‑ROC     : {auc_fixed:.4f}\")\n",
    "print(f\"F1@0.5      : {f1_fixed:.4f}\")\n",
    "print(f\"F0.5@0.5    : {f05_fixed:.4f}\")\n",
    "print(f\"Best F0.5   : {best_f05:.4f}  (thr = {best_thr:.2f})\")\n",
    "print(\"═\"*60)\n",
    "\n",
    "# ─── SAVE ARTEFACTS ─────────────────────────────────────────\n",
    "print(\"💾 Saving artefacts …\")\n",
    "\n",
    "out_dir = Path(\"catboost_f05_results\")\n",
    "out_dir.mkdir(exist_ok=True)\n",
    "\n",
    "joblib.dump(study, out_dir / \"optuna_study.pkl\")\n",
    "final_model.save_model(str(out_dir / \"catboost_final.cbm\"))\n",
    "\n",
    "pd.DataFrame({\n",
    "    \"probability\": y_proba,\n",
    "    \"pred_fixed\": y_pred_fixed,\n",
    "    \"pred_optimal\": y_pred_opt,\n",
    "    \"actual\": y_test.values,\n",
    "}).to_csv(out_dir / \"predictions.csv\")\n",
    "]\n",
    "print(f\"✅ Files saved to {out_dir.resolve()}\")\n"
   ]
  },
  {
   "cell_type": "code",
   "execution_count": 15,
   "id": "cfe1a639",
   "metadata": {},
   "outputs": [
    {
     "name": "stdout",
     "output_type": "stream",
     "text": [
      "🚀 MULTI-TRIAL CATBOOST EVALUATION\n",
      "📊 Testing 10 top configurations on validation data\n",
      "================================================================================\n",
      "✅ Data shape: (15855, 31)\n",
      "✅ Class distribution: [7758 8097]\n",
      "✅ Categorical features: 0\n",
      "✅ Train size: 12,684\n",
      "✅ Validation size: 3,171\n",
      "\n",
      "================================================================================\n",
      "EVALUATING TOP TRIAL CONFIGURATIONS\n",
      "================================================================================\n",
      "\n",
      "🔬 [1/10] Trial_98_Best_Overall\n",
      "   Expected CV: P=0.565, R=0.596, F1=0.580, F0.5=0.567\n",
      "   ⏱️ Training time: 2.0s\n",
      "   📊 Val @ 0.5   : P=0.558, R=0.588, F1=0.572, F0.5=0.563\n",
      "   🎯 Val @ 0.10  : P=0.522, R=1.000, F1=0.686, F0.5=0.577\n",
      "   ✅ AUC: 0.549, Accuracy: 0.522\n",
      "\n",
      "🔬 [2/10] Trial_22_High_Precision\n",
      "   Expected CV: P=0.562, R=0.590, F1=0.576, F0.5=0.566\n",
      "   ⏱️ Training time: 1.9s\n",
      "   📊 Val @ 0.5   : P=0.546, R=0.612, F1=0.577, F0.5=0.558\n",
      "   🎯 Val @ 0.10  : P=0.522, R=1.000, F1=0.686, F0.5=0.577\n",
      "   ✅ AUC: 0.545, Accuracy: 0.522\n",
      "\n",
      "🔬 [3/10] Trial_73_Balanced\n",
      "   Expected CV: P=0.558, R=0.592, F1=0.574, F0.5=0.565\n",
      "   ⏱️ Training time: 1.8s\n",
      "   📊 Val @ 0.5   : P=0.546, R=0.612, F1=0.577, F0.5=0.558\n",
      "   🎯 Val @ 0.10  : P=0.522, R=1.000, F1=0.686, F0.5=0.577\n",
      "   ✅ AUC: 0.545, Accuracy: 0.522\n",
      "\n",
      "🔬 [4/10] Trial_57_High_F1\n",
      "   Expected CV: P=0.552, R=0.634, F1=0.590, F0.5=0.564\n",
      "   ⏱️ Training time: 2.0s\n",
      "   📊 Val @ 0.5   : P=0.575, R=0.495, F1=0.532, F0.5=0.557\n",
      "   🎯 Val @ 0.10  : P=0.522, R=1.000, F1=0.686, F0.5=0.577\n",
      "   ✅ AUC: 0.548, Accuracy: 0.522\n",
      "\n",
      "🔬 [5/10] Trial_53_Top_Precision\n",
      "   Expected CV: P=0.565, R=0.594, F1=0.579, F0.5=0.564\n",
      "   ⏱️ Training time: 1.8s\n",
      "   📊 Val @ 0.5   : P=0.546, R=0.612, F1=0.577, F0.5=0.558\n",
      "   🎯 Val @ 0.10  : P=0.522, R=1.000, F1=0.686, F0.5=0.577\n",
      "   ✅ AUC: 0.545, Accuracy: 0.522\n",
      "\n",
      "🔬 [6/10] Trial_90_Max_Precision\n",
      "   Expected CV: P=0.566, R=0.552, F1=0.559, F0.5=0.563\n",
      "   ⏱️ Training time: 1.8s\n",
      "   📊 Val @ 0.5   : P=0.546, R=0.612, F1=0.577, F0.5=0.558\n",
      "   🎯 Val @ 0.10  : P=0.522, R=1.000, F1=0.686, F0.5=0.577\n",
      "   ✅ AUC: 0.545, Accuracy: 0.522\n",
      "\n",
      "🔬 [7/10] Trial_35_Conservative\n",
      "   Expected CV: P=0.562, R=0.587, F1=0.574, F0.5=0.563\n",
      "   ⏱️ Training time: 1.8s\n",
      "   📊 Val @ 0.5   : P=0.546, R=0.612, F1=0.577, F0.5=0.558\n",
      "   🎯 Val @ 0.10  : P=0.522, R=1.000, F1=0.686, F0.5=0.577\n",
      "   ✅ AUC: 0.545, Accuracy: 0.522\n",
      "\n",
      "🔬 [8/10] Trial_43_High_Recall\n",
      "   Expected CV: P=0.536, R=0.697, F1=0.606, F0.5=0.563\n",
      "   ⏱️ Training time: 1.9s\n",
      "   📊 Val @ 0.5   : P=0.546, R=0.612, F1=0.577, F0.5=0.558\n",
      "   🎯 Val @ 0.10  : P=0.522, R=1.000, F1=0.686, F0.5=0.577\n",
      "   ✅ AUC: 0.545, Accuracy: 0.522\n",
      "\n",
      "🔬 [9/10] Trial_54_Stable\n",
      "   Expected CV: P=0.557, R=0.571, F1=0.564, F0.5=0.563\n",
      "   ⏱️ Training time: 1.8s\n",
      "   📊 Val @ 0.5   : P=0.546, R=0.612, F1=0.577, F0.5=0.558\n",
      "   🎯 Val @ 0.10  : P=0.522, R=1.000, F1=0.686, F0.5=0.577\n",
      "   ✅ AUC: 0.545, Accuracy: 0.522\n",
      "\n",
      "🔬 [10/10] Trial_66_Alternative\n",
      "   Expected CV: P=0.562, R=0.589, F1=0.575, F0.5=0.563\n",
      "   ⏱️ Training time: 1.8s\n",
      "   📊 Val @ 0.5   : P=0.546, R=0.612, F1=0.577, F0.5=0.558\n",
      "   🎯 Val @ 0.10  : P=0.522, R=1.000, F1=0.686, F0.5=0.577\n",
      "   ✅ AUC: 0.545, Accuracy: 0.522\n",
      "\n",
      "================================================================================\n",
      "FINAL RESULTS SUMMARY\n",
      "================================================================================\n",
      "\n",
      "🏆 RANKING BY VALIDATION F0.5 SCORE:\n",
      "------------------------------------------------------------------------------------------------------------------------\n",
      "Rank Trial                     Val F0.5 Val Prec  Val Rec  Val F1  Thresh  CV F0.5 Δ F0.5 \n",
      "------------------------------------------------------------------------------------------------------------------------\n",
      "1    Trial_98_Best_Overall     0.577    0.522     1.000    0.686   0.10    0.567   +0.011\n",
      "2    Trial_22_High_Precision   0.577    0.522     1.000    0.686   0.10    0.566   +0.012\n",
      "3    Trial_73_Balanced         0.577    0.522     1.000    0.686   0.10    0.565   +0.013\n",
      "4    Trial_57_High_F1          0.577    0.522     1.000    0.686   0.10    0.564   +0.013\n",
      "5    Trial_53_Top_Precision    0.577    0.522     1.000    0.686   0.10    0.564   +0.014\n",
      "6    Trial_90_Max_Precision    0.577    0.522     1.000    0.686   0.10    0.563   +0.015\n",
      "7    Trial_35_Conservative     0.577    0.522     1.000    0.686   0.10    0.563   +0.015\n",
      "8    Trial_43_High_Recall      0.577    0.522     1.000    0.686   0.10    0.563   +0.015\n",
      "9    Trial_54_Stable           0.577    0.522     1.000    0.686   0.10    0.563   +0.014\n",
      "10   Trial_66_Alternative      0.577    0.522     1.000    0.686   0.10    0.563   +0.015\n",
      "------------------------------------------------------------------------------------------------------------------------\n",
      "\n",
      "🥇 BEST MODEL: Trial_98_Best_Overall\n",
      "   📈 Validation F0.5: 0.5774\n",
      "   🎯 Optimal threshold: 0.100\n",
      "   📊 Precision: 0.522\n",
      "   📊 Recall: 1.000\n",
      "   📊 F1 Score: 0.686\n",
      "   📊 Accuracy: 0.522\n",
      "   📊 AUC-ROC: 0.549\n",
      "\n",
      "📊 CV vs VALIDATION COMPARISON:\n",
      "   Average CV F0.5: 0.564\n",
      "   Average Val F0.5: 0.577\n",
      "   Overall difference: +0.013\n",
      "\n",
      "💾 Best model predictions saved: C:\\Users\\ADMIN\\Desktop\\Coding_projects\\stock_market_prediction\\Stock-Market-Prediction\\src\\Models\\models\\models\\catboost_best_trial_predictions.csv\n",
      "📁 Detailed results saved: C:\\Users\\ADMIN\\Desktop\\Coding_projects\\stock_market_prediction\\Stock-Market-Prediction\\src\\Models\\models\\models\\multi_trial_results.pkl\n",
      "\n",
      "🎉 EVALUATION COMPLETED!\n",
      "✅ 10 out of 10 trials completed successfully\n"
     ]
    }
   ],
   "source": [
    "# =============================================================\n",
    "#  MULTI-TRIAL CATBOOST EVALUATOR - Top 10 Configurations\n",
    "#  Tests all top performing parameter sets on validation data\n",
    "# =============================================================\n",
    "import os, random, warnings, joblib, time\n",
    "from pathlib import Path\n",
    "\n",
    "import numpy as np\n",
    "import pandas as pd\n",
    "from catboost import CatBoostClassifier, Pool\n",
    "from sklearn.metrics import (accuracy_score, precision_recall_fscore_support,\n",
    "                             fbeta_score, roc_auc_score, precision_score, \n",
    "                             recall_score, f1_score)\n",
    "\n",
    "# ─── GLOBAL SEED ─────────────────────────────────────────────\n",
    "SEED = 42\n",
    "os.environ[\"PYTHONHASHSEED\"] = str(SEED)\n",
    "np.random.seed(SEED)\n",
    "random.seed(SEED)\n",
    "warnings.filterwarnings(\"ignore\")\n",
    "\n",
    "# ─── CONFIG ─────────────────────────────────────────────────\n",
    "CSV_PATH   = Path(r\"C:\\Users\\ADMIN\\Desktop\\Coding_projects\\stock_market_prediction\\Stock-Market-Prediction\\data\\processed\\gemini_btc_with_features_4h.csv\")\n",
    "DROP_COLS  = [\n",
    "    # Raw OHLC (massively correlated with close)\n",
    "    'open', 'high', 'low',\n",
    "    # ATR components\n",
    "    'high_low', 'high_close', 'low_close',\n",
    "    # Helper calculations  \n",
    "    'typical_price', 'true_range', 'volume_mean_20',\n",
    "    # Highly correlated MAs\n",
    "    'EMA_21', 'SMA_20', 'vwap_24h', 'close_4h',\n",
    "    # Bollinger components\n",
    "    'bollinger_upper', 'bollinger_lower',\n",
    "    # MACD components\n",
    "    'MACD_line', 'MACD_signal',\n",
    "    # Support/resistance\n",
    "    'resistance_level', 'support_level',\n",
    "    # Zero-importance binary flags\n",
    "    'vol_spike_1_5x', 'near_upper_band', 'near_lower_band',\n",
    "    'break_upper_band', 'break_lower_band', 'rsi_oversold',\n",
    "    'above_sma20', 'macd_positive', 'volume_breakout', 'volume_breakdown',\n",
    "    # Highly correlated position flags\n",
    "    'above_sma50', 'ema7_above_ema21',\n",
    "    # Low-importance cross signals\n",
    "    'ema_cross_down',\n",
    "    # Oscillator extremes\n",
    "    'rsi_overbought', 'stoch_overbought', 'stoch_oversold',\n",
    "    'cci_overbought', 'cci_oversold',\n",
    "    # Trend flags\n",
    "    'trending_market',\n",
    "    # All scenario features\n",
    "    'bullish_scenario_1', 'bullish_scenario_2', 'bullish_scenario_3',\n",
    "    'bullish_scenario_4', 'bullish_scenario_5', 'bullish_scenario_6',\n",
    "    'bearish_scenario_1', 'bearish_scenario_2', 'bearish_scenario_3',\n",
    "    'bearish_scenario_4', 'bearish_scenario_6',\n",
    "    'close'  # Target leakage prevention\n",
    "]\n",
    "VAL_FRAC   = 0.20\n",
    "BETA       = 0.5  # F0.5 score (precision-weighted)\n",
    "SAVE_DIR   = Path(r\"C:\\Users\\ADMIN\\Desktop\\Coding_projects\\stock_market_prediction\\Stock-Market-Prediction\\src\\Models\\models\\models\")\n",
    "\n",
    "# ─── TOP 10 TRIAL CONFIGURATIONS FROM OPTIMIZATION RESULTS ──\n",
    "TOP_TRIALS = [\n",
    "    {\n",
    "        \"name\": \"Trial_98_Best_Overall\",\n",
    "        \"trial\": 98,\n",
    "        \"iterations\": 752,\n",
    "        \"lr\": 0.020691023226819216,\n",
    "        \"depth\": 4,\n",
    "        \"l2\": 13.683470245201063,\n",
    "        \"rand_str\": 1.7369638634616382,\n",
    "        \"min_data_leaf\": 17,\n",
    "        \"bootstrap\": \"Bernoulli\",\n",
    "        \"subsample\": 0.715299484815648,\n",
    "        \"cv_f05\": 0.5665,\n",
    "        \"cv_precision\": 0.565,\n",
    "        \"cv_recall\": 0.596,\n",
    "        \"cv_f1\": 0.580\n",
    "    },\n",
    "    {\n",
    "        \"name\": \"Trial_22_High_Precision\", \n",
    "        \"trial\": 22,\n",
    "        \"iterations\": 697,\n",
    "        \"lr\": 0.05307592822927969,\n",
    "        \"depth\": 4,\n",
    "        \"l2\": 8.625798314956667,\n",
    "        \"rand_str\": 1.9161178234306955,\n",
    "        \"min_data_leaf\": 23,\n",
    "        \"bootstrap\": \"Bernoulli\",\n",
    "        \"subsample\": 0.7365237906217537,\n",
    "        \"cv_f05\": 0.5655,\n",
    "        \"cv_precision\": 0.562,\n",
    "        \"cv_recall\": 0.590,\n",
    "        \"cv_f1\": 0.576\n",
    "    },\n",
    "    {\n",
    "        \"name\": \"Trial_73_Balanced\",\n",
    "        \"trial\": 73,\n",
    "        \"iterations\": 649,\n",
    "        \"lr\": 0.024421356483576424,\n",
    "        \"depth\": 4,\n",
    "        \"l2\": 11.788492530962955,\n",
    "        \"rand_str\": 1.8357264315461386,\n",
    "        \"min_data_leaf\": 22,\n",
    "        \"bootstrap\": \"Bernoulli\",\n",
    "        \"subsample\": 0.7250562968464499,\n",
    "        \"cv_f05\": 0.5649,\n",
    "        \"cv_precision\": 0.558,\n",
    "        \"cv_recall\": 0.592,\n",
    "        \"cv_f1\": 0.574\n",
    "    },\n",
    "    {\n",
    "        \"name\": \"Trial_57_High_F1\",\n",
    "        \"trial\": 57,\n",
    "        \"iterations\": 763,\n",
    "        \"lr\": 0.04563393175332064,\n",
    "        \"depth\": 4,\n",
    "        \"l2\": 5.629181221838124,\n",
    "        \"rand_str\": 1.2915802799684024,\n",
    "        \"min_data_leaf\": 14,\n",
    "        \"bootstrap\": \"Bayesian\",\n",
    "        \"bagging_temp\": 2.2171824555502404,\n",
    "        \"cv_f05\": 0.5642,\n",
    "        \"cv_precision\": 0.552,\n",
    "        \"cv_recall\": 0.634,\n",
    "        \"cv_f1\": 0.590\n",
    "    },\n",
    "    {\n",
    "        \"name\": \"Trial_53_Top_Precision\",\n",
    "        \"trial\": 53,\n",
    "        \"iterations\": 637,\n",
    "        \"lr\": 0.035671612771177995,\n",
    "        \"depth\": 4,\n",
    "        \"l2\": 8.079433096935066,\n",
    "        \"rand_str\": 1.7339338804777007,\n",
    "        \"min_data_leaf\": 14,\n",
    "        \"bootstrap\": \"Bernoulli\",\n",
    "        \"subsample\": 0.7223730517623818,\n",
    "        \"cv_f05\": 0.5638,\n",
    "        \"cv_precision\": 0.565,\n",
    "        \"cv_recall\": 0.594,\n",
    "        \"cv_f1\": 0.579\n",
    "    },\n",
    "    {\n",
    "        \"name\": \"Trial_90_Max_Precision\",\n",
    "        \"trial\": 90,\n",
    "        \"iterations\": 851,\n",
    "        \"lr\": 0.05589556359158724,\n",
    "        \"depth\": 4,\n",
    "        \"l2\": 11.116885429251306,\n",
    "        \"rand_str\": 2.4489985121801245,\n",
    "        \"min_data_leaf\": 25,\n",
    "        \"bootstrap\": \"Bernoulli\",\n",
    "        \"subsample\": 0.8525508049455583,\n",
    "        \"cv_f05\": 0.5626,\n",
    "        \"cv_precision\": 0.566,\n",
    "        \"cv_recall\": 0.552,\n",
    "        \"cv_f1\": 0.559\n",
    "    },\n",
    "    {\n",
    "        \"name\": \"Trial_35_Conservative\",\n",
    "        \"trial\": 35,\n",
    "        \"iterations\": 621,\n",
    "        \"lr\": 0.033756991755374714,\n",
    "        \"depth\": 4,\n",
    "        \"l2\": 12.977478540926173,\n",
    "        \"rand_str\": 2.058560862981183,\n",
    "        \"min_data_leaf\": 20,\n",
    "        \"bootstrap\": \"Bernoulli\",\n",
    "        \"subsample\": 0.750613817369306,\n",
    "        \"cv_f05\": 0.5629,\n",
    "        \"cv_precision\": 0.562,\n",
    "        \"cv_recall\": 0.587,\n",
    "        \"cv_f1\": 0.574\n",
    "    },\n",
    "    {\n",
    "        \"name\": \"Trial_43_High_Recall\",\n",
    "        \"trial\": 43,\n",
    "        \"iterations\": 683,\n",
    "        \"lr\": 0.04304321773202563,\n",
    "        \"depth\": 4,\n",
    "        \"l2\": 12.555495688003719,\n",
    "        \"rand_str\": 2.778037803783163,\n",
    "        \"min_data_leaf\": 18,\n",
    "        \"bootstrap\": \"Bernoulli\",\n",
    "        \"subsample\": 0.7774776609307122,\n",
    "        \"cv_f05\": 0.5629,\n",
    "        \"cv_precision\": 0.536,\n",
    "        \"cv_recall\": 0.697,\n",
    "        \"cv_f1\": 0.606\n",
    "    },\n",
    "    {\n",
    "        \"name\": \"Trial_54_Stable\",\n",
    "        \"trial\": 54,\n",
    "        \"iterations\": 632,\n",
    "        \"lr\": 0.035144891267128345,\n",
    "        \"depth\": 4,\n",
    "        \"l2\": 6.489802684741546,\n",
    "        \"rand_str\": 1.684970724115755,\n",
    "        \"min_data_leaf\": 13,\n",
    "        \"bootstrap\": \"Bernoulli\",\n",
    "        \"subsample\": 0.7147121803375743,\n",
    "        \"cv_f05\": 0.5631,\n",
    "        \"cv_precision\": 0.557,\n",
    "        \"cv_recall\": 0.571,\n",
    "        \"cv_f1\": 0.564\n",
    "    },\n",
    "    {\n",
    "        \"name\": \"Trial_66_Alternative\",\n",
    "        \"trial\": 66,\n",
    "        \"iterations\": 634,\n",
    "        \"lr\": 0.03590178982335925,\n",
    "        \"depth\": 4,\n",
    "        \"l2\": 9.860110251607157,\n",
    "        \"rand_str\": 1.9680368933611923,\n",
    "        \"min_data_leaf\": 14,\n",
    "        \"bootstrap\": \"Bernoulli\",\n",
    "        \"subsample\": 0.7299161795768209,\n",
    "        \"cv_f05\": 0.5628,\n",
    "        \"cv_precision\": 0.562,\n",
    "        \"cv_recall\": 0.589,\n",
    "        \"cv_f1\": 0.575\n",
    "    }\n",
    "]\n",
    "\n",
    "print(\"🚀 MULTI-TRIAL CATBOOST EVALUATION\")\n",
    "print(f\"📊 Testing {len(TOP_TRIALS)} top configurations on validation data\")\n",
    "print(\"=\"*80)\n",
    "\n",
    "# ─── DATA PREPARATION (IDENTICAL TO OPTIMIZATION) ───────────\n",
    "df = pd.read_csv(CSV_PATH, index_col=0, parse_dates=True)\n",
    "df = df[df.index >= \"2018-01-01\"]\n",
    "\n",
    "if \"target\" not in df.columns:\n",
    "    raise ValueError(\"❌ Missing 'target' column!\")\n",
    "\n",
    "categoricals = df.select_dtypes(include=[\"object\", \"category\"]).columns.tolist()\n",
    "categoricals = [c for c in categoricals if c != \"target\"]\n",
    "\n",
    "df.drop(columns=[c for c in DROP_COLS if c in df.columns], inplace=True)\n",
    "df.dropna(inplace=True)\n",
    "\n",
    "X = df.drop(columns=\"target\")\n",
    "y = df[\"target\"].astype(int)\n",
    "\n",
    "cat_indices = [X.columns.get_loc(c) for c in categoricals if c in X.columns]\n",
    "\n",
    "print(f\"✅ Data shape: {X.shape}\")\n",
    "print(f\"✅ Class distribution: {np.bincount(y)}\")\n",
    "print(f\"✅ Categorical features: {len(cat_indices)}\")\n",
    "\n",
    "# ─── TRAIN/VALIDATION SPLIT ─────────────────────────────────\n",
    "cut = int(len(df) * (1 - VAL_FRAC))\n",
    "X_train, X_val = X.iloc[:cut], X.iloc[cut:]\n",
    "y_train, y_val = y.iloc[:cut], y.iloc[cut:]\n",
    "\n",
    "print(f\"✅ Train size: {len(X_train):,}\")\n",
    "print(f\"✅ Validation size: {len(X_val):,}\")\n",
    "\n",
    "# ─── EVALUATE EACH TRIAL CONFIGURATION ──────────────────────\n",
    "results = []\n",
    "best_model = None\n",
    "best_score = 0\n",
    "best_predictions = None\n",
    "\n",
    "print(f\"\\n{'='*80}\")\n",
    "print(\"EVALUATING TOP TRIAL CONFIGURATIONS\")\n",
    "print(f\"{'='*80}\")\n",
    "\n",
    "for i, trial_config in enumerate(TOP_TRIALS, 1):\n",
    "    print(f\"\\n🔬 [{i}/{len(TOP_TRIALS)}] {trial_config['name']}\")\n",
    "    print(f\"   Expected CV: P={trial_config['cv_precision']:.3f}, R={trial_config['cv_recall']:.3f}, F1={trial_config['cv_f1']:.3f}, F0.5={trial_config['cv_f05']:.3f}\")\n",
    "    \n",
    "    start_time = time.time()\n",
    "    \n",
    "    try:\n",
    "        # Build parameters for this trial\n",
    "        params = {\n",
    "            \"iterations\": trial_config[\"iterations\"],\n",
    "            \"learning_rate\": trial_config[\"lr\"],\n",
    "            \"depth\": trial_config[\"depth\"],\n",
    "            \"l2_leaf_reg\": trial_config[\"l2\"],\n",
    "            \"random_strength\": trial_config[\"rand_str\"],\n",
    "            \"min_data_in_leaf\": trial_config[\"min_data_leaf\"],\n",
    "            \"bootstrap_type\": trial_config[\"bootstrap\"],\n",
    "            \"random_seed\": SEED,\n",
    "            \"task_type\": \"GPU\",\n",
    "            \"verbose\": False,\n",
    "            \"use_best_model\": True,\n",
    "            \"loss_function\": \"Logloss\",\n",
    "            \"eval_metric\": \"F1\",\n",
    "            \"early_stopping_rounds\": min(100, trial_config[\"iterations\"] // 4)\n",
    "        }\n",
    "        \n",
    "        # Add bootstrap-specific parameters\n",
    "        if trial_config[\"bootstrap\"] == \"Bernoulli\":\n",
    "            params[\"subsample\"] = trial_config[\"subsample\"]\n",
    "        elif trial_config[\"bootstrap\"] == \"Bayesian\":\n",
    "            params[\"bagging_temperature\"] = trial_config[\"bagging_temp\"]\n",
    "        \n",
    "        # Train model\n",
    "        model = CatBoostClassifier(**params)\n",
    "        \n",
    "        train_pool = Pool(X_train, y_train, cat_features=cat_indices if cat_indices else None)\n",
    "        val_pool = Pool(X_val, y_val, cat_features=cat_indices if cat_indices else None)\n",
    "        \n",
    "        model.fit(train_pool, eval_set=val_pool)\n",
    "        \n",
    "        # Get predictions\n",
    "        y_prob = model.predict_proba(X_val)[:, 1]\n",
    "        y_pred_50 = (y_prob >= 0.5).astype(int)\n",
    "        \n",
    "        # Calculate metrics at 0.5 threshold\n",
    "        precision_50 = precision_score(y_val, y_pred_50, zero_division=0)\n",
    "        recall_50 = recall_score(y_val, y_pred_50, zero_division=0)\n",
    "        f1_50 = f1_score(y_val, y_pred_50, zero_division=0)\n",
    "        f05_50 = fbeta_score(y_val, y_pred_50, beta=BETA, zero_division=0)\n",
    "        \n",
    "        # Find optimal threshold for F0.5\n",
    "        thresholds = np.arange(0.1, 0.9, 0.05)\n",
    "        best_thresh = 0.5\n",
    "        best_f05 = f05_50\n",
    "        \n",
    "        for thresh in thresholds:\n",
    "            y_pred_thresh = (y_prob >= thresh).astype(int)\n",
    "            f05_thresh = fbeta_score(y_val, y_pred_thresh, beta=BETA, zero_division=0)\n",
    "            if f05_thresh > best_f05:\n",
    "                best_f05 = f05_thresh\n",
    "                best_thresh = thresh\n",
    "        \n",
    "        # Calculate metrics at optimal threshold\n",
    "        y_pred_opt = (y_prob >= best_thresh).astype(int)\n",
    "        precision_opt = precision_score(y_val, y_pred_opt, zero_division=0)\n",
    "        recall_opt = recall_score(y_val, y_pred_opt, zero_division=0)\n",
    "        f1_opt = f1_score(y_val, y_pred_opt, zero_division=0)\n",
    "        f05_opt = fbeta_score(y_val, y_pred_opt, beta=BETA, zero_division=0)\n",
    "        \n",
    "        accuracy = accuracy_score(y_val, y_pred_opt)\n",
    "        auc = roc_auc_score(y_val, y_prob)\n",
    "        \n",
    "        train_time = time.time() - start_time\n",
    "        \n",
    "        # Store results\n",
    "        result = {\n",
    "            \"name\": trial_config[\"name\"],\n",
    "            \"trial\": trial_config[\"trial\"],\n",
    "            \"train_time\": train_time,\n",
    "            # CV metrics for comparison\n",
    "            \"cv_precision\": trial_config[\"cv_precision\"],\n",
    "            \"cv_recall\": trial_config[\"cv_recall\"],\n",
    "            \"cv_f1\": trial_config[\"cv_f1\"],\n",
    "            \"cv_f05\": trial_config[\"cv_f05\"],\n",
    "            # Validation metrics at 0.5 threshold\n",
    "            \"val_precision_50\": precision_50,\n",
    "            \"val_recall_50\": recall_50,\n",
    "            \"val_f1_50\": f1_50,\n",
    "            \"val_f05_50\": f05_50,\n",
    "            # Validation metrics at optimal threshold\n",
    "            \"optimal_threshold\": best_thresh,\n",
    "            \"val_precision_opt\": precision_opt,\n",
    "            \"val_recall_opt\": recall_opt,\n",
    "            \"val_f1_opt\": f1_opt,\n",
    "            \"val_f05_opt\": f05_opt,\n",
    "            \"val_accuracy\": accuracy,\n",
    "            \"val_auc\": auc,\n",
    "            \"predictions\": y_prob,\n",
    "            \"predictions_binary\": y_pred_opt\n",
    "        }\n",
    "        \n",
    "        results.append(result)\n",
    "        \n",
    "        print(f\"   ⏱️ Training time: {train_time:.1f}s\")\n",
    "        print(f\"   📊 Val @ 0.5   : P={precision_50:.3f}, R={recall_50:.3f}, F1={f1_50:.3f}, F0.5={f05_50:.3f}\")\n",
    "        print(f\"   🎯 Val @ {best_thresh:.2f}  : P={precision_opt:.3f}, R={recall_opt:.3f}, F1={f1_opt:.3f}, F0.5={f05_opt:.3f}\")\n",
    "        print(f\"   ✅ AUC: {auc:.3f}, Accuracy: {accuracy:.3f}\")\n",
    "        \n",
    "        # Track best model\n",
    "        if f05_opt > best_score:\n",
    "            best_score = f05_opt\n",
    "            best_model = result\n",
    "            best_predictions = y_prob\n",
    "            \n",
    "    except Exception as e:\n",
    "        print(f\"   ❌ Training failed: {str(e)[:50]}...\")\n",
    "        continue\n",
    "\n",
    "# ─── RESULTS SUMMARY ────────────────────────────────────────\n",
    "print(f\"\\n{'='*80}\")\n",
    "print(\"FINAL RESULTS SUMMARY\")\n",
    "print(f\"{'='*80}\")\n",
    "\n",
    "if results:\n",
    "    # Sort by F0.5 score\n",
    "    results_df = pd.DataFrame(results)\n",
    "    results_df = results_df.sort_values('val_f05_opt', ascending=False)\n",
    "    \n",
    "    print(f\"\\n🏆 RANKING BY VALIDATION F0.5 SCORE:\")\n",
    "    print(\"-\" * 120)\n",
    "    print(f\"{'Rank':<4} {'Trial':<25} {'Val F0.5':<8} {'Val Prec':<9} {'Val Rec':<8} {'Val F1':<7} {'Thresh':<7} {'CV F0.5':<7} {'Δ F0.5':<7}\")\n",
    "    print(\"-\" * 120)\n",
    "    \n",
    "    for rank, (_, row) in enumerate(results_df.iterrows(), 1):\n",
    "        delta_f05 = row['val_f05_opt'] - row['cv_f05']\n",
    "        print(f\"{rank:<4} {row['name']:<25} {row['val_f05_opt']:<8.3f} {row['val_precision_opt']:<9.3f} {row['val_recall_opt']:<8.3f} {row['val_f1_opt']:<7.3f} {row['optimal_threshold']:<7.2f} {row['cv_f05']:<7.3f} {delta_f05:+.3f}\")\n",
    "    \n",
    "    print(\"-\" * 120)\n",
    "    \n",
    "    # Best model details\n",
    "    best_trial = results_df.iloc[0]\n",
    "    print(f\"\\n🥇 BEST MODEL: {best_trial['name']}\")\n",
    "    print(f\"   📈 Validation F0.5: {best_trial['val_f05_opt']:.4f}\")\n",
    "    print(f\"   🎯 Optimal threshold: {best_trial['optimal_threshold']:.3f}\")\n",
    "    print(f\"   📊 Precision: {best_trial['val_precision_opt']:.3f}\")\n",
    "    print(f\"   📊 Recall: {best_trial['val_recall_opt']:.3f}\")\n",
    "    print(f\"   📊 F1 Score: {best_trial['val_f1_opt']:.3f}\")\n",
    "    print(f\"   📊 Accuracy: {best_trial['val_accuracy']:.3f}\")\n",
    "    print(f\"   📊 AUC-ROC: {best_trial['val_auc']:.3f}\")\n",
    "    \n",
    "    # Performance vs CV comparison\n",
    "    print(f\"\\n📊 CV vs VALIDATION COMPARISON:\")\n",
    "    avg_cv_f05 = results_df['cv_f05'].mean()\n",
    "    avg_val_f05 = results_df['val_f05_opt'].mean()\n",
    "    print(f\"   Average CV F0.5: {avg_cv_f05:.3f}\")\n",
    "    print(f\"   Average Val F0.5: {avg_val_f05:.3f}\")\n",
    "    print(f\"   Overall difference: {avg_val_f05 - avg_cv_f05:+.3f}\")\n",
    "    \n",
    "    # Save best predictions\n",
    "    best_pred_df = pd.DataFrame({\n",
    "        \"prob_up\": best_trial['predictions'],\n",
    "        f\"pred_{best_trial['optimal_threshold']:.2f}\": best_trial['predictions_binary'],\n",
    "        \"actual\": y_val.values\n",
    "    }, index=X_val.index)\n",
    "    \n",
    "    save_path = SAVE_DIR / \"catboost_best_trial_predictions.csv\"\n",
    "    best_pred_df[[\"prob_up\", f\"pred_{best_trial['optimal_threshold']:.2f}\"]].to_csv(save_path)\n",
    "    print(f\"\\n💾 Best model predictions saved: {save_path}\")\n",
    "    \n",
    "    # Save all results\n",
    "    results_summary = {\n",
    "        \"best_trial\": best_trial['name'],\n",
    "        \"best_f05\": best_trial['val_f05_opt'],\n",
    "        \"all_results\": results_df.to_dict('records'),\n",
    "        \"summary_stats\": {\n",
    "            \"avg_cv_f05\": avg_cv_f05,\n",
    "            \"avg_val_f05\": avg_val_f05,\n",
    "            \"best_improvement\": results_df['val_f05_opt'].max() - results_df['cv_f05'].max(),\n",
    "            \"trials_completed\": len(results)\n",
    "        }\n",
    "    }\n",
    "    \n",
    "    joblib.dump(results_summary, SAVE_DIR / \"multi_trial_results.pkl\")\n",
    "    print(f\"📁 Detailed results saved: {SAVE_DIR / 'multi_trial_results.pkl'}\")\n",
    "    \n",
    "else:\n",
    "    print(\"❌ No trials completed successfully!\")\n",
    "\n",
    "print(f\"\\n🎉 EVALUATION COMPLETED!\")\n",
    "print(f\"✅ {len(results)} out of {len(TOP_TRIALS)} trials completed successfully\")"
   ]
  },
  {
   "cell_type": "code",
   "execution_count": 16,
   "id": "6caa213a",
   "metadata": {},
   "outputs": [
    {
     "name": "stdout",
     "output_type": "stream",
     "text": [
      "Rank Trial                     F0.5@0.5 Prec@0.5  Rec@0.5  F1@0.5  CV F0.5 Δ F0.5 \n",
      "1    Trial_98_Best_Overall     0.563    0.558     0.588    0.572   0.567   -0.003\n",
      "2    Trial_22_High_Precision   0.558    0.546     0.612    0.577   0.566   -0.008\n",
      "3    Trial_73_Balanced         0.558    0.546     0.612    0.577   0.565   -0.007\n",
      "4    Trial_57_High_F1          0.557    0.575     0.495    0.532   0.564   -0.008\n",
      "5    Trial_53_Top_Precision    0.558    0.546     0.612    0.577   0.564   -0.006\n",
      "6    Trial_90_Max_Precision    0.558    0.546     0.612    0.577   0.563   -0.005\n",
      "7    Trial_35_Conservative     0.558    0.546     0.612    0.577   0.563   -0.005\n",
      "8    Trial_43_High_Recall      0.558    0.546     0.612    0.577   0.563   -0.005\n",
      "9    Trial_54_Stable           0.558    0.546     0.612    0.577   0.563   -0.006\n",
      "10   Trial_66_Alternative      0.558    0.546     0.612    0.577   0.563   -0.005\n"
     ]
    }
   ],
   "source": [
    "print(f\"{'Rank':<4} {'Trial':<25} {'F0.5@0.5':<8} {'Prec@0.5':<9} {'Rec@0.5':<8} {'F1@0.5':<7} {'CV F0.5':<7} {'Δ F0.5':<7}\")\n",
    "...\n",
    "for rank, (_, row) in enumerate(results_df.iterrows(), 1):\n",
    "    delta_f05 = row['val_f05_50'] - row['cv_f05']\n",
    "    print(f\"{rank:<4} {row['name']:<25} {row['val_f05_50']:<8.3f} {row['val_precision_50']:<9.3f} {row['val_recall_50']:<8.3f} {row['val_f1_50']:<7.3f} {row['cv_f05']:<7.3f} {delta_f05:+.3f}\")\n"
   ]
  },
  {
   "cell_type": "code",
   "execution_count": 2,
   "id": "79abe650",
   "metadata": {},
   "outputs": [
    {
     "name": "stdout",
     "output_type": "stream",
     "text": [
      "🏆 BEST PRECISION MODEL TRAINING\n",
      "==================================================\n",
      "📂 Loading data from: C:\\Users\\ADMIN\\Desktop\\Coding_projects\\stock_market_prediction\\Stock-Market-Prediction\\data\\processed\\gemini_btc_with_features_4h.csv\n",
      "📊 Dataset shape: (15855, 46)\n",
      "📈 Date range: 2018-01-01 00:00:00 to 2025-03-28 00:00:00\n",
      "🎯 Target distribution: {1: 8097, 0: 7758}\n",
      "\n",
      "📊 TRAIN/TEST SPLIT:\n",
      "-------------------------\n",
      "   Train: 12,684 samples\n",
      "   Test:  3,171 samples\n",
      "   Train period: 2018-01-01 00:00:00 to 2023-10-16 12:00:00\n",
      "   Test period:  2023-10-16 16:00:00 to 2025-03-28 00:00:00\n",
      "\n",
      "🔧 Preprocessing features...\n",
      "⚠️ Removed 2 low-variance features\n",
      "✅ Final feature count: 44\n",
      "\n",
      "🎯 TRAINING BEST PRECISION MODEL\n",
      "=============================================\n",
      "🏆 Using best precision parameters:\n",
      "   C              : 0.0016351310838425184\n",
      "   class_weight   : None\n",
      "   l1_ratio       : 0.2636043819680166\n",
      "   penalty        : elasticnet\n",
      "   solver         : saga\n",
      "   max_iter       : 5000\n",
      "   random_state   : 42\n",
      "\n",
      "⏱️ Training model...\n",
      "✅ Model trained in 0.10 seconds\n",
      "✅ Model converged in 15 iterations\n",
      "\n",
      "📊 MODEL EVALUATION\n",
      "==============================\n",
      "📈 TEST SET METRICS:\n",
      "-------------------------\n",
      "   accuracy    : 0.5348\n",
      "   precision   : 0.5506\n",
      "   recall      : 0.5948\n",
      "   f1          : 0.5718\n",
      "   f_beta_0.5  : 0.5589\n",
      "   roc_auc     : 0.5479\n",
      "\n",
      "🎯 CONFUSION MATRIX:\n",
      "-------------------------\n",
      "True Negatives:     711\n",
      "False Positives:    804\n",
      "False Negatives:    671\n",
      "True Positives:     985\n",
      "\n",
      "💾 GENERATING VALIDATION PREDICTIONS CSV\n",
      "=============================================\n",
      "✅ Validation predictions saved to: C:\\Users\\ADMIN\\Desktop\\Coding_projects\\stock_market_prediction\\Stock-Market-Prediction\\Predictions_folder\\validation_predictions.csv\n",
      "📊 Total validation predictions: 3,171\n",
      "\n",
      "📋 SAMPLE PREDICTIONS (First 10 rows in your format):\n",
      "--------------------------------------------------------------------------------\n",
      "timestamp            prob_up  prob_down winning_prob prediction actual\n",
      "--------------------------------------------------------------------------------\n",
      "16/10/2023 16:00     0.529161 0.470839 0.529161 1          1\n",
      "16/10/2023 20:00     0.506090 0.493910 0.506090 1          0\n",
      "17/10/2023 00:00     0.537758 0.462242 0.537758 1          0\n",
      "17/10/2023 04:00     0.526984 0.473016 0.526984 1          1\n",
      "17/10/2023 08:00     0.479448 0.520552 0.520552 0          0\n",
      "17/10/2023 12:00     0.546537 0.453463 0.546537 1          1\n",
      "17/10/2023 16:00     0.449245 0.550755 0.550755 0          0\n",
      "17/10/2023 20:00     0.503812 0.496188 0.503812 1          0\n",
      "18/10/2023 00:00     0.535821 0.464179 0.535821 1          1\n",
      "18/10/2023 04:00     0.483338 0.516662 0.516662 0          0\n",
      "\n",
      "📈 VALIDATION SUMMARY:\n",
      "-------------------------\n",
      "Validation accuracy: 0.5348\n",
      "Average winning probability: 0.5266\n",
      "High confidence predictions (>0.7): 0\n",
      "Correct high confidence predictions: 0\n",
      "\n",
      "💾 SAVING BEST PRECISION MODEL\n",
      "===================================\n",
      "✅ Model saved to: C:\\Users\\ADMIN\\Desktop\\Coding_projects\\stock_market_prediction\\Stock-Market-Prediction\\Predictions_folder\\best_precision_model.pkl\n",
      "\n",
      "🎉 BEST PRECISION MODEL TRAINING COMPLETED!\n",
      "==================================================\n",
      "📁 Files Generated:\n",
      "   🔸 Predictions: validation_predictions.csv\n",
      "   🔸 Model:       best_precision_model.pkl\n",
      "\n",
      "🏆 Final Test Precision: 0.5506\n",
      "🎯 Final Test F1-Score:  0.5718\n"
     ]
    }
   ],
   "source": [
    "# =============================================================\n",
    "#  BEST PRECISION MODEL TRAINER & PREDICTION CSV GENERATOR\n",
    "# =============================================================\n",
    "import numpy as np\n",
    "import pandas as pd\n",
    "import time\n",
    "import sys\n",
    "import warnings\n",
    "from pathlib import Path\n",
    "from sklearn.pipeline import Pipeline\n",
    "from sklearn.preprocessing import StandardScaler\n",
    "from sklearn.linear_model import LogisticRegression\n",
    "from sklearn.metrics import (\n",
    "    precision_score, recall_score, accuracy_score, \n",
    "    f1_score, roc_auc_score, classification_report, confusion_matrix\n",
    ")\n",
    "from sklearn.feature_selection import VarianceThreshold\n",
    "import joblib\n",
    "\n",
    "warnings.filterwarnings(\"ignore\")\n",
    "np.random.seed(42)\n",
    "\n",
    "# ──────────────────────────────────────────────────────────────\n",
    "# 1) CONFIGURATION\n",
    "# ──────────────────────────────────────────────────────────────\n",
    "CSV_FILE = Path(r\"C:\\Users\\ADMIN\\Desktop\\Coding_projects\\stock_market_prediction\\Stock-Market-Prediction\\data\\processed\\gemini_btc_with_features_4h.csv\")\n",
    "TIME_COL = \"timestamp\"\n",
    "TARGET_COL = \"target\"\n",
    "START_DATE = \"2018-01-01\"\n",
    "TEST_FRAC = 0.20\n",
    "RANDOM_STATE = 42\n",
    "\n",
    "# Output paths\n",
    "OUTPUT_DIR = Path(r\"C:\\Users\\ADMIN\\Desktop\\Coding_projects\\stock_market_prediction\\Stock-Market-Prediction\\Predictions_folder\")\n",
    "OUTPUT_DIR.mkdir(exist_ok=True)\n",
    "PREDICTIONS_CSV = OUTPUT_DIR / \"validation_predictions.csv\"\n",
    "MODEL_PATH = OUTPUT_DIR / \"best_precision_model.pkl\"\n",
    "\n",
    "# BEST PRECISION PARAMETERS (Original_Best_ElasticNet)\n",
    "BEST_PRECISION_PARAMS = {\n",
    "    'C': 0.0016351310838425184,\n",
    "    'class_weight': None,\n",
    "    'l1_ratio': 0.2636043819680166,\n",
    "    'penalty': 'elasticnet',\n",
    "    'solver': 'saga',\n",
    "    'max_iter': 5000,\n",
    "    'random_state': RANDOM_STATE\n",
    "}\n",
    "\n",
    "DROP_COLS = [\n",
    "    'open', 'high', 'low', 'high_low', 'high_close', 'low_close', 'typical_price',\n",
    "    'volume_breakout', 'volume_breakdown', 'break_upper_band', 'break_lower_band',\n",
    "    'vol_spike_1_5x', 'overbought_reversal', 'oversold_reversal', 'macd_cross_up',\n",
    "    'macd_cross_down', 'macd_rising', 'bollinger_upper', 'bollinger_lower',\n",
    "    'MACD_line', 'MACD_signal', 'stoch_%D', 'momentum_alignment',\n",
    "    'bullish_scenario_1', 'bullish_scenario_5', 'bearish_scenario_1'\n",
    "]\n",
    "\n",
    "# ──────────────────────────────────────────────────────────────\n",
    "# 2) DATA LOADING & PREPROCESSING\n",
    "# ──────────────────────────────────────────────────────────────\n",
    "def load_and_prepare_data():\n",
    "    \"\"\"Load and prepare data for best precision model training.\"\"\"\n",
    "    print(\"🏆 BEST PRECISION MODEL TRAINING\")\n",
    "    print(\"=\" * 50)\n",
    "    \n",
    "    if not CSV_FILE.exists():\n",
    "        sys.exit(f\"❌ File not found: {CSV_FILE}\")\n",
    "    \n",
    "    print(f\"📂 Loading data from: {CSV_FILE}\")\n",
    "    df = pd.read_csv(CSV_FILE, parse_dates=[TIME_COL]).set_index(TIME_COL).sort_index()\n",
    "    df = df.loc[START_DATE:].copy()\n",
    "    \n",
    "    if TARGET_COL not in df.columns:\n",
    "        sys.exit(f\"❌ '{TARGET_COL}' column missing!\")\n",
    "    \n",
    "    # Remove specified columns\n",
    "    X = df.drop(columns=[c for c in DROP_COLS if c in df.columns] + [TARGET_COL], errors=\"ignore\")\n",
    "    y = df[TARGET_COL]\n",
    "    \n",
    "    print(f\"📊 Dataset shape: {X.shape}\")\n",
    "    print(f\"📈 Date range: {df.index.min()} to {df.index.max()}\")\n",
    "    print(f\"🎯 Target distribution: {y.value_counts().to_dict()}\")\n",
    "    \n",
    "    # Handle missing and infinite values\n",
    "    original_size = len(X)\n",
    "    \n",
    "    # Check for missing values\n",
    "    missing_vals = X.isnull().sum()\n",
    "    if missing_vals.sum() > 0:\n",
    "        print(f\"⚠️ Handling {missing_vals.sum()} missing values...\")\n",
    "        mask = ~(X.isnull().any(axis=1) | y.isnull())\n",
    "        X, y = X[mask], y[mask]\n",
    "        print(f\"📊 Shape after removing missing: {X.shape}\")\n",
    "    \n",
    "    # Check for infinite values\n",
    "    inf_mask = np.isinf(X.select_dtypes(include=[np.number])).any(axis=1)\n",
    "    if inf_mask.sum() > 0:\n",
    "        print(f\"⚠️ Handling {inf_mask.sum()} infinite values...\")\n",
    "        X, y = X[~inf_mask], y[~inf_mask]\n",
    "        print(f\"📊 Final shape: {X.shape}\")\n",
    "    \n",
    "    # Keep track of valid indices for timestamps\n",
    "    if missing_vals.sum() > 0 or inf_mask.sum() > 0:\n",
    "        if missing_vals.sum() > 0:\n",
    "            valid_mask = ~(df.drop(columns=[c for c in DROP_COLS if c in df.columns] + [TARGET_COL], errors=\"ignore\").isnull().any(axis=1) | df[TARGET_COL].isnull())\n",
    "        else:\n",
    "            valid_mask = slice(None)\n",
    "        \n",
    "        if inf_mask.sum() > 0:\n",
    "            if isinstance(valid_mask, slice):\n",
    "                valid_mask = ~inf_mask\n",
    "            else:\n",
    "                valid_mask = valid_mask & ~inf_mask\n",
    "        \n",
    "        timestamps = df.index[valid_mask]\n",
    "    else:\n",
    "        timestamps = df.index\n",
    "    \n",
    "    removed_samples = original_size - len(X)\n",
    "    if removed_samples > 0:\n",
    "        print(f\"📉 Removed {removed_samples} samples due to missing/infinite values\")\n",
    "    \n",
    "    return X, y, timestamps\n",
    "\n",
    "def preprocess_features(X_train, X_test):\n",
    "    \"\"\"Preprocess features with variance filtering.\"\"\"\n",
    "    print(\"\\n🔧 Preprocessing features...\")\n",
    "    \n",
    "    # Remove constant features\n",
    "    constant_cols = X_train.columns[X_train.std() == 0]\n",
    "    if len(constant_cols) > 0:\n",
    "        print(f\"⚠️ Removing {len(constant_cols)} constant features\")\n",
    "        X_train = X_train.drop(columns=constant_cols)\n",
    "        X_test = X_test.drop(columns=constant_cols)\n",
    "    \n",
    "    # Remove low-variance features\n",
    "    variance_selector = VarianceThreshold(threshold=0.01)\n",
    "    n_features_before = X_train.shape[1]\n",
    "    \n",
    "    X_train_selected = pd.DataFrame(\n",
    "        variance_selector.fit_transform(X_train),\n",
    "        index=X_train.index,\n",
    "        columns=X_train.columns[variance_selector.get_support()]\n",
    "    )\n",
    "    X_test_selected = pd.DataFrame(\n",
    "        variance_selector.transform(X_test),\n",
    "        index=X_test.index,\n",
    "        columns=X_train.columns[variance_selector.get_support()]\n",
    "    )\n",
    "    \n",
    "    n_features_after = X_train_selected.shape[1]\n",
    "    if n_features_before != n_features_after:\n",
    "        print(f\"⚠️ Removed {n_features_before - n_features_after} low-variance features\")\n",
    "    \n",
    "    print(f\"✅ Final feature count: {n_features_after}\")\n",
    "    return X_train_selected, X_test_selected, variance_selector\n",
    "\n",
    "# ──────────────────────────────────────────────────────────────\n",
    "# 3) MODEL TRAINING\n",
    "# ──────────────────────────────────────────────────────────────\n",
    "def create_best_precision_pipeline():\n",
    "    \"\"\"Create pipeline with best precision parameters.\"\"\"\n",
    "    return Pipeline([\n",
    "        ('scaler', StandardScaler()),\n",
    "        ('logreg', LogisticRegression(**BEST_PRECISION_PARAMS))\n",
    "    ])\n",
    "\n",
    "def train_best_precision_model(X_train, y_train):\n",
    "    \"\"\"Train the best precision model.\"\"\"\n",
    "    print(\"\\n🎯 TRAINING BEST PRECISION MODEL\")\n",
    "    print(\"=\" * 45)\n",
    "    \n",
    "    pipeline = create_best_precision_pipeline()\n",
    "    \n",
    "    print(\"🏆 Using best precision parameters:\")\n",
    "    for param, value in BEST_PRECISION_PARAMS.items():\n",
    "        print(f\"   {param:<15}: {value}\")\n",
    "    \n",
    "    print(\"\\n⏱️ Training model...\")\n",
    "    start_time = time.time()\n",
    "    pipeline.fit(X_train, y_train)\n",
    "    training_time = time.time() - start_time\n",
    "    \n",
    "    print(f\"✅ Model trained in {training_time:.2f} seconds\")\n",
    "    \n",
    "    # Check convergence\n",
    "    logreg = pipeline.named_steps['logreg']\n",
    "    if hasattr(logreg, 'n_iter_'):\n",
    "        n_iter = logreg.n_iter_[0] if isinstance(logreg.n_iter_, np.ndarray) else logreg.n_iter_\n",
    "        if n_iter >= logreg.max_iter:\n",
    "            print(f\"⚠️ Model may not have converged (used {n_iter}/{logreg.max_iter} iterations)\")\n",
    "        else:\n",
    "            print(f\"✅ Model converged in {n_iter} iterations\")\n",
    "    \n",
    "    return pipeline, training_time\n",
    "\n",
    "# ──────────────────────────────────────────────────────────────\n",
    "# 4) MODEL EVALUATION\n",
    "# ──────────────────────────────────────────────────────────────\n",
    "def f_beta_half(y_true, y_pred):\n",
    "    \"\"\"Custom F-beta score with beta=0.5 (precision-weighted).\"\"\"\n",
    "    p = precision_score(y_true, y_pred, zero_division=0)\n",
    "    r = recall_score(y_true, y_pred, zero_division=0)\n",
    "    beta = 0.5\n",
    "    if (p + r) == 0:\n",
    "        return 0.0\n",
    "    return (1 + beta**2) * p * r / (beta**2 * p + r)\n",
    "\n",
    "def evaluate_best_precision_model(model, X_train, y_train, X_test, y_test):\n",
    "    \"\"\"Evaluate the best precision model.\"\"\"\n",
    "    print(\"\\n📊 MODEL EVALUATION\")\n",
    "    print(\"=\" * 30)\n",
    "    \n",
    "    # Make predictions\n",
    "    y_train_pred = model.predict(X_train)\n",
    "    y_train_prob = model.predict_proba(X_train)\n",
    "    \n",
    "    y_test_pred = model.predict(X_test)\n",
    "    y_test_prob = model.predict_proba(X_test)\n",
    "    \n",
    "    # Calculate metrics for test set\n",
    "    test_metrics = {\n",
    "        'accuracy': accuracy_score(y_test, y_test_pred),\n",
    "        'precision': precision_score(y_test, y_test_pred, zero_division=0),\n",
    "        'recall': recall_score(y_test, y_test_pred, zero_division=0),\n",
    "        'f1': f1_score(y_test, y_test_pred, zero_division=0),\n",
    "        'f_beta_0.5': f_beta_half(y_test, y_test_pred),\n",
    "        'roc_auc': roc_auc_score(y_test, y_test_prob[:, 1]) if len(np.unique(y_test)) > 1 else 0.0\n",
    "    }\n",
    "    \n",
    "    print(\"📈 TEST SET METRICS:\")\n",
    "    print(\"-\" * 25)\n",
    "    for metric_name, value in test_metrics.items():\n",
    "        print(f\"   {metric_name:<12}: {value:.4f}\")\n",
    "    \n",
    "    # Confusion matrix\n",
    "    cm = confusion_matrix(y_test, y_test_pred)\n",
    "    print(f\"\\n🎯 CONFUSION MATRIX:\")\n",
    "    print(\"-\" * 25)\n",
    "    print(f\"True Negatives:  {cm[0,0]:>6}\")\n",
    "    print(f\"False Positives: {cm[0,1]:>6}\")\n",
    "    print(f\"False Negatives: {cm[1,0]:>6}\")\n",
    "    print(f\"True Positives:  {cm[1,1]:>6}\")\n",
    "    \n",
    "    return {\n",
    "        'test_metrics': test_metrics,\n",
    "        'train_predictions': y_train_pred,\n",
    "        'train_probabilities': y_train_prob,\n",
    "        'test_predictions': y_test_pred,\n",
    "        'test_probabilities': y_test_prob\n",
    "    }\n",
    "\n",
    "# ──────────────────────────────────────────────────────────────\n",
    "# 5) PREDICTION CSV GENERATION\n",
    "# ──────────────────────────────────────────────────────────────\n",
    "def generate_predictions_csv(X_test, y_test, results, test_timestamps):\n",
    "    \"\"\"Generate CSV with ONLY validation (test) predictions in exact requested format.\"\"\"\n",
    "    print(\"\\n💾 GENERATING VALIDATION PREDICTIONS CSV\")\n",
    "    print(\"=\" * 45)\n",
    "    \n",
    "    # Get test predictions and probabilities\n",
    "    test_predictions = results['test_predictions']\n",
    "    test_probabilities = results['test_probabilities']\n",
    "    \n",
    "    # Create DataFrame in exact requested format\n",
    "    predictions_df = pd.DataFrame({\n",
    "        'timestamp': test_timestamps,\n",
    "        'prob_up': test_probabilities[:, 1],      # Probability of class 1 (up)\n",
    "        'prob_down': test_probabilities[:, 0],    # Probability of class 0 (down)\n",
    "        'winning_prob': np.maximum(test_probabilities[:, 1], test_probabilities[:, 0]),  # Maximum probability\n",
    "        'prediction': test_predictions,           # Final prediction (0 or 1)\n",
    "        'actual': y_test.values                   # Actual target value (0 or 1)\n",
    "    })\n",
    "    \n",
    "    # Sort by timestamp\n",
    "    predictions_df = predictions_df.sort_values('timestamp').reset_index(drop=True)\n",
    "    \n",
    "    # Format timestamp to match your example (DD/MM/YYYY HH:MM)\n",
    "    predictions_df['timestamp'] = predictions_df['timestamp'].dt.strftime('%d/%m/%Y %H:%M')\n",
    "    \n",
    "    # Save to CSV\n",
    "    predictions_df.to_csv(PREDICTIONS_CSV, index=False)\n",
    "    \n",
    "    print(f\"✅ Validation predictions saved to: {PREDICTIONS_CSV}\")\n",
    "    print(f\"📊 Total validation predictions: {len(predictions_df):,}\")\n",
    "    \n",
    "    # Display sample predictions in your exact format\n",
    "    print(f\"\\n📋 SAMPLE PREDICTIONS (First 10 rows in your format):\")\n",
    "    print(\"-\" * 80)\n",
    "    print(\"timestamp            prob_up  prob_down winning_prob prediction actual\")\n",
    "    print(\"-\" * 80)\n",
    "    for idx, row in predictions_df.head(10).iterrows():\n",
    "        print(f\"{row['timestamp']:<20} {row['prob_up']:.6f} {row['prob_down']:.6f} {row['winning_prob']:.6f} {row['prediction']:<10} {row['actual']}\")\n",
    "    \n",
    "    # Calculate validation accuracy\n",
    "    accuracy = (predictions_df['prediction'] == predictions_df['actual']).mean()\n",
    "    \n",
    "    # Summary statistics\n",
    "    print(f\"\\n📈 VALIDATION SUMMARY:\")\n",
    "    print(\"-\" * 25)\n",
    "    print(f\"Validation accuracy: {accuracy:.4f}\")\n",
    "    print(f\"Average winning probability: {predictions_df['winning_prob'].mean():.4f}\")\n",
    "    print(f\"High confidence predictions (>0.7): {(predictions_df['winning_prob'] > 0.7).sum():,}\")\n",
    "    print(f\"Correct high confidence predictions: {((predictions_df['winning_prob'] > 0.7) & (predictions_df['prediction'] == predictions_df['actual'])).sum():,}\")\n",
    "    \n",
    "    return predictions_df\n",
    "\n",
    "# ──────────────────────────────────────────────────────────────\n",
    "# 6) MODEL SAVING\n",
    "# ──────────────────────────────────────────────────────────────\n",
    "def save_best_precision_model(model, variance_selector, feature_names, results, training_time):\n",
    "    \"\"\"Save the complete best precision model.\"\"\"\n",
    "    print(f\"\\n💾 SAVING BEST PRECISION MODEL\")\n",
    "    print(\"=\" * 35)\n",
    "    \n",
    "    model_package = {\n",
    "        'model': model,\n",
    "        'variance_selector': variance_selector,\n",
    "        'feature_names': feature_names,\n",
    "        'parameters': BEST_PRECISION_PARAMS,\n",
    "        'performance_metrics': results['test_metrics'],\n",
    "        'training_info': {\n",
    "            'training_date': pd.Timestamp.now(),\n",
    "            'training_time_seconds': training_time,\n",
    "            'algorithm': 'LogisticRegression ElasticNet (Best Precision)',\n",
    "            'total_features': len(feature_names),\n",
    "            'preprocessing_steps': ['StandardScaler', 'VarianceThreshold'],\n",
    "            'model_description': 'Highest precision model from parameter comparison'\n",
    "        }\n",
    "    }\n",
    "    \n",
    "    joblib.dump(model_package, MODEL_PATH)\n",
    "    print(f\"✅ Model saved to: {MODEL_PATH}\")\n",
    "    \n",
    "    return model_package\n",
    "\n",
    "# ──────────────────────────────────────────────────────────────\n",
    "# 7) MAIN EXECUTION\n",
    "# ──────────────────────────────────────────────────────────────\n",
    "def main():\n",
    "    \"\"\"Main execution function.\"\"\"\n",
    "    \n",
    "    # Load and prepare data\n",
    "    X, y, timestamps = load_and_prepare_data()\n",
    "    \n",
    "    # Chronological split\n",
    "    split_idx = int(len(X) * (1 - TEST_FRAC))\n",
    "    X_train, X_test = X.iloc[:split_idx], X.iloc[split_idx:]\n",
    "    y_train, y_test = y.iloc[:split_idx], y.iloc[split_idx:]\n",
    "    train_timestamps = timestamps[:split_idx]\n",
    "    test_timestamps = timestamps[split_idx:]\n",
    "    \n",
    "    print(f\"\\n📊 TRAIN/TEST SPLIT:\")\n",
    "    print(\"-\" * 25)\n",
    "    print(f\"   Train: {X_train.shape[0]:,} samples\")\n",
    "    print(f\"   Test:  {X_test.shape[0]:,} samples\")\n",
    "    print(f\"   Train period: {train_timestamps.min()} to {train_timestamps.max()}\")\n",
    "    print(f\"   Test period:  {test_timestamps.min()} to {test_timestamps.max()}\")\n",
    "    \n",
    "    # Preprocess features\n",
    "    X_train_processed, X_test_processed, variance_selector = preprocess_features(X_train, X_test)\n",
    "    \n",
    "    # Train best precision model\n",
    "    best_model, training_time = train_best_precision_model(X_train_processed, y_train)\n",
    "    \n",
    "    # Evaluate model\n",
    "    results = evaluate_best_precision_model(best_model, X_train_processed, y_train, X_test_processed, y_test)\n",
    "    \n",
    "    # Generate validation predictions CSV (test set only)\n",
    "    predictions_df = generate_predictions_csv(\n",
    "        X_test_processed, y_test, results, test_timestamps\n",
    "    )\n",
    "    \n",
    "    # Save model\n",
    "    model_package = save_best_precision_model(\n",
    "        best_model, variance_selector, list(X_train_processed.columns), \n",
    "        results, training_time\n",
    "    )\n",
    "    \n",
    "    print(f\"\\n🎉 BEST PRECISION MODEL TRAINING COMPLETED!\")\n",
    "    print(\"=\" * 50)\n",
    "    print(f\"📁 Files Generated:\")\n",
    "    print(f\"   🔸 Predictions: {PREDICTIONS_CSV.name}\")\n",
    "    print(f\"   🔸 Model:       {MODEL_PATH.name}\")\n",
    "    print(f\"\\n🏆 Final Test Precision: {results['test_metrics']['precision']:.4f}\")\n",
    "    print(f\"🎯 Final Test F1-Score:  {results['test_metrics']['f1']:.4f}\")\n",
    "    \n",
    "    return {\n",
    "        'model': best_model,\n",
    "        'predictions_df': predictions_df,\n",
    "        'results': results,\n",
    "        'model_package': model_package\n",
    "    }\n",
    "\n",
    "# ──────────────────────────────────────────────────────────────\n",
    "# 8) SCRIPT EXECUTION\n",
    "# ──────────────────────────────────────────────────────────────\n",
    "if __name__ == \"__main__\":\n",
    "    final_results = main()"
   ]
  },
  {
   "cell_type": "code",
   "execution_count": 24,
   "id": "10ae1170",
   "metadata": {},
   "outputs": [
    {
     "name": "stdout",
     "output_type": "stream",
     "text": [
      "📊 Evaluation at threshold 0.5:\n",
      "Precision: 0.575\n",
      "Recall   : 0.495\n",
      "F1 Score : 0.532\n"
     ]
    }
   ],
   "source": [
    "import pandas as pd\n",
    "from sklearn.metrics import precision_score, recall_score, f1_score\n",
    "\n",
    "# Load the predictions CSV\n",
    "csv_path = r\"C:\\Users\\ADMIN\\Desktop\\Coding_projects\\stock_market_prediction\\Stock-Market-Prediction\\src\\Models\\models\\models\\catboost_trial57_predictions.csv\"\n",
    "df = pd.read_csv(csv_path)\n",
    "\n",
    "# Ensure column names are correct and lowercase\n",
    "df.columns = df.columns.str.strip().str.lower()\n",
    "\n",
    "# Extract actual and predicted values\n",
    "y_true = df['actual']\n",
    "y_pred = df['prediction']  # prediction at threshold 0.5\n",
    "\n",
    "# Calculate metrics\n",
    "precision = precision_score(y_true, y_pred, zero_division=0)\n",
    "recall = recall_score(y_true, y_pred, zero_division=0)\n",
    "f1 = f1_score(y_true, y_pred, zero_division=0)\n",
    "\n",
    "# Print results\n",
    "print(\"📊 Evaluation at threshold 0.5:\")\n",
    "print(f\"Precision: {precision:.3f}\")\n",
    "print(f\"Recall   : {recall:.3f}\")\n",
    "print(f\"F1 Score : {f1:.3f}\")\n"
   ]
  }
 ],
 "metadata": {
  "kernelspec": {
   "display_name": ".venv",
   "language": "python",
   "name": "python3"
  },
  "language_info": {
   "codemirror_mode": {
    "name": "ipython",
    "version": 3
   },
   "file_extension": ".py",
   "mimetype": "text/x-python",
   "name": "python",
   "nbconvert_exporter": "python",
   "pygments_lexer": "ipython3",
   "version": "3.10.6"
  }
 },
 "nbformat": 4,
 "nbformat_minor": 5
}
