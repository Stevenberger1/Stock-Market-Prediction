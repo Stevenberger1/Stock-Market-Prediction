{
 "cells": [
  {
   "cell_type": "code",
   "execution_count": null,
   "id": "75a0902f",
   "metadata": {},
   "outputs": [],
   "source": [
    "keep \n",
    "atr_14  , OBV\n",
    "\n",
    "drop\n",
    "\n",
    "'ema_cross_up', 'macd_cross_up', 'oversold_reversal', 'overbought_reversal', 'trending_market'"
   ]
  },
  {
   "cell_type": "code",
   "execution_count": null,
   "id": "11b25d2b",
   "metadata": {},
   "outputs": [],
   "source": [
    "drop_tcn = [\n",
    "    'open', 'high', 'low', 'typical_price', 'EMA_21', 'SMA_20',\n",
    "    'vwap_24h', 'close_4h', 'bollinger_upper', 'bollinger_lower',\n",
    "    'resistance_level', 'support_level', 'high_low', 'high_close', 'low_close',\n",
    "    'true_range', 'volume_mean_20', 'MACD_line', 'MACD_signal',\n",
    "    'volatility_regime', 'trending_market', 'above_sma50', 'ema7_above_ema21',\n",
    "    'vol_spike_1_5x', 'near_upper_band', 'near_lower_band',\n",
    "    'break_upper_band', 'break_lower_band', 'rsi_oversold',\n",
    "    'above_sma20', 'macd_positive', 'volume_breakout', 'volume_breakdown',\n",
    "    'bullish_scenario_1', 'bullish_scenario_2', 'bullish_scenario_3',\n",
    "    'bullish_scenario_4', 'bullish_scenario_5', 'bullish_scenario_6',\n",
    "    'bearish_scenario_1', 'bearish_scenario_2', 'bearish_scenario_3',\n",
    "    'bearish_scenario_4', 'bearish_scenario_6','ema_cross_up', 'macd_cross_up', 'oversold_reversal', 'overbought_reversal',\n",
    "]"
   ]
  },
  {
   "cell_type": "code",
   "execution_count": 21,
   "id": "85e8b85b",
   "metadata": {},
   "outputs": [
    {
     "name": "stdout",
     "output_type": "stream",
     "text": [
      "📊 Loading data …\n",
      "Shape  : (15855, 59)\n",
      "Classes:\n",
      " target\n",
      "1    8097\n",
      "0    7758\n",
      "Name: count, dtype: int64 \n",
      "\n",
      "Class-weights 0 / 1 → 1.00 / 0.97\n"
     ]
    },
    {
     "name": "stderr",
     "output_type": "stream",
     "text": [
      "[I 2025-06-09 18:52:10,220] A new study created in memory with name: no-name-5d78d030-0093-439e-a2ba-35523e4ee0ab\n"
     ]
    },
    {
     "name": "stdout",
     "output_type": "stream",
     "text": [
      "\n",
      "🚀 Optimising  40 trials  |  80 min wall-time …\n"
     ]
    },
    {
     "name": "stderr",
     "output_type": "stream",
     "text": [
      "  0%|          | 0/40 [00:00<?, ?it/s]"
     ]
    },
    {
     "name": "stdout",
     "output_type": "stream",
     "text": [
      "Trial  0  Fα2=0.1605  P=0.509 R=0.120  cfg={'window': 30, 'filters': 32, 'kernel': 2, 'nb_stacks': 1, 'blocks_per_stack': 2, 'dropout': 0.23033450352296264, 'dense': 128, 'act': 'relu', 'lr': 0.00017376356936978755, 'batch': 32, 'norm': 'batch'}\n"
     ]
    },
    {
     "name": "stderr",
     "output_type": "stream",
     "text": [
      "  0%|          | 0/40 [01:10<?, ?it/s]"
     ]
    },
    {
     "name": "stdout",
     "output_type": "stream",
     "text": [
      "[I 2025-06-09 18:53:20,599] Trial 0 finished with value: -0.1605241605241605 and parameters: {'window': 30, 'filters': 32, 'kernel': 2, 'nb_stacks': 1, 'blocks_per_stack': 2, 'dropout': 0.23033450352296264, 'dense': 128, 'act': 'relu', 'lr': 0.00017376356936978755, 'batch': 32, 'norm': 'batch'}. Best is trial 0 with value: -0.1605241605241605.\n"
     ]
    },
    {
     "name": "stderr",
     "output_type": "stream",
     "text": [
      "Best trial: 0. Best value: -0.160524:   2%|▎         | 1/40 [01:11<46:34, 71.66s/it, 71.66/4800 seconds]"
     ]
    },
    {
     "name": "stdout",
     "output_type": "stream",
     "text": [
      "Trial  1  Fα2=0.0000  P=0.000 R=0.000  cfg={'window': 24, 'filters': 64, 'kernel': 4, 'nb_stacks': 2, 'blocks_per_stack': 1, 'dropout': 0.2322634555704315, 'dense': 128, 'act': 'relu', 'lr': 0.0008234548958371457, 'batch': 32, 'norm': 'layer'}\n"
     ]
    },
    {
     "name": "stderr",
     "output_type": "stream",
     "text": [
      "Best trial: 0. Best value: -0.160524:   2%|▎         | 1/40 [02:52<46:34, 71.66s/it, 71.66/4800 seconds]"
     ]
    },
    {
     "name": "stdout",
     "output_type": "stream",
     "text": [
      "[I 2025-06-09 18:55:02,851] Trial 1 finished with value: -0.0 and parameters: {'window': 24, 'filters': 64, 'kernel': 4, 'nb_stacks': 2, 'blocks_per_stack': 1, 'dropout': 0.2322634555704315, 'dense': 128, 'act': 'relu', 'lr': 0.0008234548958371457, 'batch': 32, 'norm': 'layer'}. Best is trial 0 with value: -0.1605241605241605.\n"
     ]
    },
    {
     "name": "stderr",
     "output_type": "stream",
     "text": [
      "Best trial: 0. Best value: -0.160524:   5%|▌         | 2/40 [02:53<56:47, 89.67s/it, 173.94/4800 seconds]"
     ]
    },
    {
     "name": "stdout",
     "output_type": "stream",
     "text": [
      "Trial  2  Fα2=0.4784  P=0.532 R=0.456  cfg={'window': 24, 'filters': 32, 'kernel': 2, 'nb_stacks': 3, 'blocks_per_stack': 2, 'dropout': 0.3318496824692567, 'dense': 128, 'act': <function swish at 0x0000025F5ECDAF80>, 'lr': 0.0002455257311459749, 'batch': 64, 'norm': 'layer'}\n"
     ]
    },
    {
     "name": "stderr",
     "output_type": "stream",
     "text": [
      "Best trial: 0. Best value: -0.160524:   5%|▌         | 2/40 [13:54<56:47, 89.67s/it, 173.94/4800 seconds]"
     ]
    },
    {
     "name": "stdout",
     "output_type": "stream",
     "text": [
      "[I 2025-06-09 19:06:04,741] Trial 2 finished with value: -0.4783904619970194 and parameters: {'window': 24, 'filters': 32, 'kernel': 2, 'nb_stacks': 3, 'blocks_per_stack': 2, 'dropout': 0.3318496824692567, 'dense': 128, 'act': <function swish at 0x0000025F5ECDAF80>, 'lr': 0.0002455257311459749, 'batch': 64, 'norm': 'layer'}. Best is trial 2 with value: -0.4783904619970194.\n"
     ]
    },
    {
     "name": "stderr",
     "output_type": "stream",
     "text": [
      "Best trial: 2. Best value: -0.47839:   8%|▊         | 3/40 [13:56<3:36:29, 351.07s/it, 836.07/4800 seconds]"
     ]
    },
    {
     "name": "stdout",
     "output_type": "stream",
     "text": [
      "Trial  3  Fα2=0.3502  P=0.527 R=0.300  cfg={'window': 18, 'filters': 64, 'kernel': 2, 'nb_stacks': 1, 'blocks_per_stack': 2, 'dropout': 0.26205720315428516, 'dense': 64, 'act': 'selu', 'lr': 0.00019380132456492117, 'batch': 64, 'norm': 'batch'}\n"
     ]
    },
    {
     "name": "stderr",
     "output_type": "stream",
     "text": [
      "Best trial: 2. Best value: -0.47839:   8%|▊         | 3/40 [14:42<3:36:29, 351.07s/it, 836.07/4800 seconds]"
     ]
    },
    {
     "name": "stdout",
     "output_type": "stream",
     "text": [
      "[I 2025-06-09 19:06:52,361] Trial 3 finished with value: -0.3501890359168242 and parameters: {'window': 18, 'filters': 64, 'kernel': 2, 'nb_stacks': 1, 'blocks_per_stack': 2, 'dropout': 0.26205720315428516, 'dense': 64, 'act': 'selu', 'lr': 0.00019380132456492117, 'batch': 64, 'norm': 'batch'}. Best is trial 2 with value: -0.4783904619970194.\n"
     ]
    },
    {
     "name": "stderr",
     "output_type": "stream",
     "text": [
      "Best trial: 2. Best value: -0.47839:  10%|█         | 4/40 [14:43<2:18:44, 231.23s/it, 883.60/4800 seconds]"
     ]
    },
    {
     "name": "stdout",
     "output_type": "stream",
     "text": [
      "Trial  4  Fα2=0.7657  P=0.521 R=1.000  cfg={'window': 54, 'filters': 96, 'kernel': 4, 'nb_stacks': 3, 'blocks_per_stack': 1, 'dropout': 0.2068198488145982, 'dense': 32, 'act': 'elu', 'lr': 0.0020547569815878254, 'batch': 64, 'norm': 'none'}\n"
     ]
    },
    {
     "name": "stderr",
     "output_type": "stream",
     "text": [
      "Best trial: 2. Best value: -0.47839:  10%|█         | 4/40 [33:13<2:18:44, 231.23s/it, 883.60/4800 seconds]"
     ]
    },
    {
     "name": "stdout",
     "output_type": "stream",
     "text": [
      "[I 2025-06-09 19:25:23,788] Trial 4 finished with value: -0.7656667190199467 and parameters: {'window': 54, 'filters': 96, 'kernel': 4, 'nb_stacks': 3, 'blocks_per_stack': 1, 'dropout': 0.2068198488145982, 'dense': 32, 'act': 'elu', 'lr': 0.0020547569815878254, 'batch': 64, 'norm': 'none'}. Best is trial 4 with value: -0.7656667190199467.\n"
     ]
    },
    {
     "name": "stderr",
     "output_type": "stream",
     "text": [
      "Best trial: 4. Best value: -0.765667:  12%|█▎        | 5/40 [33:35<5:20:04, 548.71s/it, 1995.21/4800 seconds]"
     ]
    },
    {
     "name": "stdout",
     "output_type": "stream",
     "text": [
      "[I 2025-06-09 19:25:45,368] Trial 5 pruned. Trial was pruned at epoch 1.\n"
     ]
    },
    {
     "name": "stderr",
     "output_type": "stream",
     "text": [
      "Best trial: 4. Best value: -0.765667:  15%|█▌        | 6/40 [33:50<3:29:22, 369.48s/it, 2016.78/4800 seconds]"
     ]
    },
    {
     "name": "stdout",
     "output_type": "stream",
     "text": [
      "[I 2025-06-09 19:26:01,051] Trial 6 pruned. Trial was pruned at epoch 0.\n"
     ]
    },
    {
     "name": "stderr",
     "output_type": "stream",
     "text": [
      "Best trial: 4. Best value: -0.765667:  18%|█▊        | 7/40 [34:14<2:19:36, 253.83s/it, 2032.52/4800 seconds]"
     ]
    },
    {
     "name": "stdout",
     "output_type": "stream",
     "text": [
      "[I 2025-06-09 19:26:24,480] Trial 7 pruned. Trial was pruned at epoch 0.\n"
     ]
    },
    {
     "name": "stderr",
     "output_type": "stream",
     "text": [
      "Best trial: 4. Best value: -0.765667:  20%|██        | 8/40 [34:16<1:36:15, 180.50s/it, 2056.00/4800 seconds]"
     ]
    },
    {
     "name": "stdout",
     "output_type": "stream",
     "text": [
      "Trial  8  Fα2=0.0000  P=0.000 R=0.000  cfg={'window': 48, 'filters': 48, 'kernel': 2, 'nb_stacks': 3, 'blocks_per_stack': 2, 'dropout': 0.12738248831454668, 'dense': 64, 'act': <function swish at 0x0000025F5ECDAF80>, 'lr': 0.001995489737195091, 'batch': 32, 'norm': 'layer'}\n"
     ]
    },
    {
     "name": "stderr",
     "output_type": "stream",
     "text": [
      "Best trial: 4. Best value: -0.765667:  20%|██        | 8/40 [38:46<1:36:15, 180.50s/it, 2056.00/4800 seconds]"
     ]
    },
    {
     "name": "stdout",
     "output_type": "stream",
     "text": [
      "[I 2025-06-09 19:30:56,774] Trial 8 finished with value: -0.0 and parameters: {'window': 48, 'filters': 48, 'kernel': 2, 'nb_stacks': 3, 'blocks_per_stack': 2, 'dropout': 0.12738248831454668, 'dense': 64, 'act': <function swish at 0x0000025F5ECDAF80>, 'lr': 0.001995489737195091, 'batch': 32, 'norm': 'layer'}. Best is trial 4 with value: -0.7656667190199467.\n"
     ]
    },
    {
     "name": "stderr",
     "output_type": "stream",
     "text": [
      "Best trial: 4. Best value: -0.765667:  22%|██▎       | 9/40 [38:58<1:48:05, 209.22s/it, 2328.39/4800 seconds]"
     ]
    },
    {
     "name": "stdout",
     "output_type": "stream",
     "text": [
      "[I 2025-06-09 19:31:08,443] Trial 9 pruned. Trial was pruned at epoch 0.\n"
     ]
    },
    {
     "name": "stderr",
     "output_type": "stream",
     "text": [
      "Best trial: 4. Best value: -0.765667:  25%|██▌       | 10/40 [47:12<1:14:07, 148.23s/it, 2340.05/4800 seconds]"
     ]
    },
    {
     "name": "stdout",
     "output_type": "stream",
     "text": [
      "[I 2025-06-09 19:39:22,883] Trial 10 pruned. Trial was pruned at epoch 22.\n"
     ]
    },
    {
     "name": "stderr",
     "output_type": "stream",
     "text": [
      "Best trial: 4. Best value: -0.765667:  28%|██▊       | 11/40 [47:47<2:02:50, 254.17s/it, 2834.41/4800 seconds]"
     ]
    },
    {
     "name": "stdout",
     "output_type": "stream",
     "text": [
      "[I 2025-06-09 19:39:57,582] Trial 11 pruned. Trial was pruned at epoch 0.\n"
     ]
    },
    {
     "name": "stderr",
     "output_type": "stream",
     "text": [
      "Best trial: 4. Best value: -0.765667:  30%|███       | 12/40 [48:21<1:27:29, 187.49s/it, 2869.41/4800 seconds]"
     ]
    },
    {
     "name": "stdout",
     "output_type": "stream",
     "text": [
      "[I 2025-06-09 19:40:31,286] Trial 12 pruned. Trial was pruned at epoch 0.\n"
     ]
    },
    {
     "name": "stderr",
     "output_type": "stream",
     "text": [
      "Best trial: 4. Best value: -0.765667:  32%|███▎      | 13/40 [48:51<1:03:22, 140.84s/it, 2902.88/4800 seconds]"
     ]
    },
    {
     "name": "stdout",
     "output_type": "stream",
     "text": [
      "[I 2025-06-09 19:41:01,988] Trial 13 pruned. Trial was pruned at epoch 0.\n"
     ]
    },
    {
     "name": "stderr",
     "output_type": "stream",
     "text": [
      "Best trial: 4. Best value: -0.765667:  35%|███▌      | 14/40 [49:38<46:37, 107.58s/it, 2933.62/4800 seconds]  "
     ]
    },
    {
     "name": "stdout",
     "output_type": "stream",
     "text": [
      "[I 2025-06-09 19:41:48,536] Trial 14 pruned. Trial was pruned at epoch 0.\n"
     ]
    },
    {
     "name": "stderr",
     "output_type": "stream",
     "text": [
      "Best trial: 4. Best value: -0.765667:  38%|███▊      | 15/40 [50:02<37:10, 89.21s/it, 2980.27/4800 seconds] "
     ]
    },
    {
     "name": "stdout",
     "output_type": "stream",
     "text": [
      "[I 2025-06-09 19:42:12,653] Trial 15 pruned. Trial was pruned at epoch 0.\n"
     ]
    },
    {
     "name": "stderr",
     "output_type": "stream",
     "text": [
      "Best trial: 4. Best value: -0.765667:  40%|████      | 16/40 [50:22<27:51, 69.63s/it, 3004.41/4800 seconds]"
     ]
    },
    {
     "name": "stdout",
     "output_type": "stream",
     "text": [
      "[I 2025-06-09 19:42:33,114] Trial 16 pruned. Trial was pruned at epoch 0.\n"
     ]
    },
    {
     "name": "stderr",
     "output_type": "stream",
     "text": [
      "Best trial: 4. Best value: -0.765667:  42%|████▎     | 17/40 [50:54<21:01, 54.83s/it, 3024.84/4800 seconds]"
     ]
    },
    {
     "name": "stdout",
     "output_type": "stream",
     "text": [
      "[I 2025-06-09 19:43:04,270] Trial 17 pruned. Trial was pruned at epoch 0.\n"
     ]
    },
    {
     "name": "stderr",
     "output_type": "stream",
     "text": [
      "Best trial: 4. Best value: -0.765667:  45%|████▌     | 18/40 [51:31<17:29, 47.71s/it, 3055.98/4800 seconds]"
     ]
    },
    {
     "name": "stdout",
     "output_type": "stream",
     "text": [
      "[I 2025-06-09 19:43:41,819] Trial 18 pruned. Trial was pruned at epoch 0.\n"
     ]
    },
    {
     "name": "stderr",
     "output_type": "stream",
     "text": [
      "Best trial: 4. Best value: -0.765667:  48%|████▊     | 19/40 [51:58<15:38, 44.69s/it, 3093.63/4800 seconds]"
     ]
    },
    {
     "name": "stdout",
     "output_type": "stream",
     "text": [
      "[I 2025-06-09 19:44:08,636] Trial 19 pruned. Trial was pruned at epoch 0.\n"
     ]
    },
    {
     "name": "stderr",
     "output_type": "stream",
     "text": [
      "Best trial: 4. Best value: -0.765667:  50%|█████     | 20/40 [52:32<13:06, 39.33s/it, 3120.48/4800 seconds]"
     ]
    },
    {
     "name": "stdout",
     "output_type": "stream",
     "text": [
      "[I 2025-06-09 19:44:42,949] Trial 20 pruned. Trial was pruned at epoch 0.\n"
     ]
    },
    {
     "name": "stderr",
     "output_type": "stream",
     "text": [
      "Best trial: 4. Best value: -0.765667:  52%|█████▎    | 21/40 [52:44<11:58, 37.83s/it, 3154.80/4800 seconds]"
     ]
    },
    {
     "name": "stdout",
     "output_type": "stream",
     "text": [
      "[I 2025-06-09 19:44:54,758] Trial 21 pruned. Trial was pruned at epoch 0.\n"
     ]
    },
    {
     "name": "stderr",
     "output_type": "stream",
     "text": [
      "Best trial: 4. Best value: -0.765667:  55%|█████▌    | 22/40 [52:56<09:00, 30.02s/it, 3166.61/4800 seconds]"
     ]
    },
    {
     "name": "stdout",
     "output_type": "stream",
     "text": [
      "[I 2025-06-09 19:45:06,538] Trial 22 pruned. Trial was pruned at epoch 0.\n"
     ]
    },
    {
     "name": "stderr",
     "output_type": "stream",
     "text": [
      "Best trial: 4. Best value: -0.765667:  57%|█████▊    | 23/40 [53:08<06:57, 24.54s/it, 3178.37/4800 seconds]"
     ]
    },
    {
     "name": "stdout",
     "output_type": "stream",
     "text": [
      "[I 2025-06-09 19:45:18,786] Trial 23 pruned. Trial was pruned at epoch 0.\n"
     ]
    },
    {
     "name": "stderr",
     "output_type": "stream",
     "text": [
      "Best trial: 4. Best value: -0.765667:  60%|██████    | 24/40 [53:32<05:33, 20.86s/it, 3190.65/4800 seconds]"
     ]
    },
    {
     "name": "stdout",
     "output_type": "stream",
     "text": [
      "[I 2025-06-09 19:45:42,569] Trial 24 pruned. Trial was pruned at epoch 0.\n"
     ]
    },
    {
     "name": "stderr",
     "output_type": "stream",
     "text": [
      "Best trial: 4. Best value: -0.765667:  62%|██████▎   | 25/40 [54:32<05:26, 21.76s/it, 3214.49/4800 seconds]"
     ]
    },
    {
     "name": "stdout",
     "output_type": "stream",
     "text": [
      "[I 2025-06-09 19:46:43,083] Trial 25 pruned. Trial was pruned at epoch 0.\n"
     ]
    },
    {
     "name": "stderr",
     "output_type": "stream",
     "text": [
      "Best trial: 4. Best value: -0.765667:  65%|██████▌   | 26/40 [54:44<07:48, 33.48s/it, 3275.34/4800 seconds]"
     ]
    },
    {
     "name": "stdout",
     "output_type": "stream",
     "text": [
      "[I 2025-06-09 19:46:54,500] Trial 26 pruned. Trial was pruned at epoch 0.\n"
     ]
    },
    {
     "name": "stderr",
     "output_type": "stream",
     "text": [
      "Best trial: 4. Best value: -0.765667:  68%|██████▊   | 27/40 [55:07<05:49, 26.85s/it, 3286.70/4800 seconds]"
     ]
    },
    {
     "name": "stdout",
     "output_type": "stream",
     "text": [
      "[I 2025-06-09 19:47:17,998] Trial 27 pruned. Trial was pruned at epoch 0.\n"
     ]
    },
    {
     "name": "stderr",
     "output_type": "stream",
     "text": [
      "Best trial: 4. Best value: -0.765667:  70%|███████   | 28/40 [55:51<05:10, 25.85s/it, 3310.21/4800 seconds]"
     ]
    },
    {
     "name": "stdout",
     "output_type": "stream",
     "text": [
      "[I 2025-06-09 19:48:02,045] Trial 28 pruned. Trial was pruned at epoch 0.\n"
     ]
    },
    {
     "name": "stderr",
     "output_type": "stream",
     "text": [
      "Best trial: 4. Best value: -0.765667:  72%|███████▎  | 29/40 [56:05<05:44, 31.33s/it, 3354.33/4800 seconds]"
     ]
    },
    {
     "name": "stdout",
     "output_type": "stream",
     "text": [
      "[I 2025-06-09 19:48:16,155] Trial 29 pruned. Trial was pruned at epoch 0.\n"
     ]
    },
    {
     "name": "stderr",
     "output_type": "stream",
     "text": [
      "Best trial: 4. Best value: -0.765667:  75%|███████▌  | 30/40 [56:20<04:21, 26.16s/it, 3368.45/4800 seconds]"
     ]
    },
    {
     "name": "stdout",
     "output_type": "stream",
     "text": [
      "[I 2025-06-09 19:48:31,058] Trial 30 pruned. Trial was pruned at epoch 0.\n"
     ]
    },
    {
     "name": "stderr",
     "output_type": "stream",
     "text": [
      "Best trial: 4. Best value: -0.765667:  78%|███████▊  | 31/40 [56:34<03:24, 22.77s/it, 3383.30/4800 seconds]"
     ]
    },
    {
     "name": "stdout",
     "output_type": "stream",
     "text": [
      "[I 2025-06-09 19:48:44,848] Trial 31 pruned. Trial was pruned at epoch 0.\n"
     ]
    },
    {
     "name": "stderr",
     "output_type": "stream",
     "text": [
      "Best trial: 4. Best value: -0.765667:  80%|████████  | 32/40 [56:51<02:40, 20.08s/it, 3397.11/4800 seconds]"
     ]
    },
    {
     "name": "stdout",
     "output_type": "stream",
     "text": [
      "[I 2025-06-09 19:49:01,379] Trial 32 pruned. Trial was pruned at epoch 1.\n"
     ]
    },
    {
     "name": "stderr",
     "output_type": "stream",
     "text": [
      "Best trial: 4. Best value: -0.765667:  82%|████████▎ | 33/40 [57:06<02:12, 18.97s/it, 3413.50/4800 seconds]"
     ]
    },
    {
     "name": "stdout",
     "output_type": "stream",
     "text": [
      "[I 2025-06-09 19:49:16,742] Trial 33 pruned. Trial was pruned at epoch 1.\n"
     ]
    },
    {
     "name": "stderr",
     "output_type": "stream",
     "text": [
      "Best trial: 4. Best value: -0.765667:  85%|████████▌ | 34/40 [57:08<01:47, 17.89s/it, 3428.87/4800 seconds]"
     ]
    },
    {
     "name": "stdout",
     "output_type": "stream",
     "text": [
      "Trial 34  Fα2=0.3297  P=0.497 R=0.282  cfg={'window': 24, 'filters': 48, 'kernel': 2, 'nb_stacks': 2, 'blocks_per_stack': 2, 'dropout': 0.31901512444749536, 'dense': 128, 'act': 'relu', 'lr': 0.0006474141743156096, 'batch': 32, 'norm': 'layer'}\n"
     ]
    },
    {
     "name": "stderr",
     "output_type": "stream",
     "text": [
      "Best trial: 4. Best value: -0.765667:  85%|████████▌ | 34/40 [1:01:16<01:47, 17.89s/it, 3428.87/4800 seconds]"
     ]
    },
    {
     "name": "stdout",
     "output_type": "stream",
     "text": [
      "[I 2025-06-09 19:53:27,074] Trial 34 finished with value: -0.3297015632401705 and parameters: {'window': 24, 'filters': 48, 'kernel': 2, 'nb_stacks': 2, 'blocks_per_stack': 2, 'dropout': 0.31901512444749536, 'dense': 128, 'act': 'relu', 'lr': 0.0006474141743156096, 'batch': 32, 'norm': 'layer'}. Best is trial 4 with value: -0.7656667190199467.\n"
     ]
    },
    {
     "name": "stderr",
     "output_type": "stream",
     "text": [
      "Best trial: 4. Best value: -0.765667:  88%|████████▊ | 35/40 [1:01:48<07:18, 87.63s/it, 3679.21/4800 seconds]"
     ]
    },
    {
     "name": "stdout",
     "output_type": "stream",
     "text": [
      "[I 2025-06-09 19:53:59,012] Trial 35 pruned. Trial was pruned at epoch 0.\n"
     ]
    },
    {
     "name": "stderr",
     "output_type": "stream",
     "text": [
      "Best trial: 4. Best value: -0.765667:  90%|█████████ | 36/40 [1:01:51<04:43, 70.99s/it, 3711.39/4800 seconds]"
     ]
    },
    {
     "name": "stdout",
     "output_type": "stream",
     "text": [
      "Trial 36  Fα2=0.7666  P=0.523 R=1.000  cfg={'window': 12, 'filters': 48, 'kernel': 5, 'nb_stacks': 3, 'blocks_per_stack': 2, 'dropout': 0.3118914406542517, 'dense': 128, 'act': 'relu', 'lr': 0.0005947328436650964, 'batch': 32, 'norm': 'layer'}\n"
     ]
    },
    {
     "name": "stderr",
     "output_type": "stream",
     "text": [
      "Best trial: 4. Best value: -0.765667:  90%|█████████ | 36/40 [1:21:31<04:43, 70.99s/it, 3711.39/4800 seconds]"
     ]
    },
    {
     "name": "stdout",
     "output_type": "stream",
     "text": [
      "[I 2025-06-09 20:13:41,748] Trial 36 finished with value: -0.766599597585513 and parameters: {'window': 12, 'filters': 48, 'kernel': 5, 'nb_stacks': 3, 'blocks_per_stack': 2, 'dropout': 0.3118914406542517, 'dense': 128, 'act': 'relu', 'lr': 0.0005947328436650964, 'batch': 32, 'norm': 'layer'}. Best is trial 36 with value: -0.766599597585513.\n"
     ]
    },
    {
     "name": "stderr",
     "output_type": "stream",
     "text": [
      "Best trial: 36. Best value: -0.7666:  92%|█████████▎| 37/40 [1:21:34<06:36, 132.27s/it, 4894.06/4800 seconds]\n"
     ]
    },
    {
     "name": "stdout",
     "output_type": "stream",
     "text": [
      "\n",
      "═══════════ BEST RESULT ═══════════\n",
      "weighted-F1 (α=2) : 0.7666\n",
      "precision         : 0.5226\n",
      "recall            : 1.0000\n",
      "best epoch        : 35\n",
      "hyper-parameters  :\n",
      "  window            : 12\n",
      "  filters           : 48\n",
      "  kernel            : 5\n",
      "  nb_stacks         : 3\n",
      "  blocks_per_stack  : 2\n",
      "  dropout           : 0.3118914406542517\n",
      "  dense             : 128\n",
      "  act               : relu\n",
      "  lr                : 0.0005947328436650964\n",
      "  batch             : 32\n",
      "  norm              : layer\n",
      "\n",
      "📝 Artefacts saved (timestamp 20250609_171344).  Scaler → tcn_scaler.pkl\n"
     ]
    }
   ],
   "source": [
    "\"\"\"\n",
    "tcn_optuna_search.py  —  Robust TCN hyper-parameter optimisation\n",
    "─────────────────────────────────────────────────────────────────\n",
    "• Objective  : weighted-F1 with α = 2  (precision has double weight)\n",
    "• Output     : scaler, best-params (.json), all trials (.csv), history plot\n",
    "• Tested on  : TensorFlow 2.16 · tcn 3.5 · Optuna 3.x  (CPU & single GPU)\n",
    "\"\"\"\n",
    "\n",
    "# ───────────────────────── imports ──────────────────────────\n",
    "import os, json, gc, warnings, optuna\n",
    "from datetime import datetime\n",
    "from pathlib import Path\n",
    "from typing import Dict, Tuple\n",
    "\n",
    "import numpy as np\n",
    "import pandas as pd\n",
    "import joblib\n",
    "from sklearn.preprocessing import StandardScaler\n",
    "from sklearn.metrics import precision_score, recall_score\n",
    "\n",
    "import tensorflow as tf\n",
    "from tensorflow import keras\n",
    "from tcn import TCN                       #  pip install tcn==3.*\n",
    "from optuna_integration.tfkeras import TFKerasPruningCallback\n",
    "\n",
    "# ───────────────────── runtime hygiene ──────────────────────\n",
    "warnings.filterwarnings(\"ignore\")\n",
    "os.environ[\"TF_CPP_MIN_LOG_LEVEL\"] = \"3\"\n",
    "\n",
    "SEED, VAL_FRAC, ALPHA = 42, 0.20, 2.0\n",
    "N_TRIALS, TIMEOUT = 40, 80 * 60  # seconds\n",
    "\n",
    "np.random.seed(SEED)\n",
    "tf.random.set_seed(SEED)\n",
    "for g in tf.config.experimental.list_physical_devices(\"GPU\"):\n",
    "    tf.config.experimental.set_memory_growth(g, True)\n",
    "\n",
    "# ──────────────────────── paths, drops ─────────────────────\n",
    "CSV_PATH = Path(r\"C:\\Users\\ADMIN\\Desktop\\Coding_projects\\stock_market_prediction\"\n",
    "                r\"\\Stock-Market-Prediction\\data\\processed\\gemini_btc_with_features_4h.csv\")\n",
    "SCALER_PKL = \"tcn_scaler.pkl\"\n",
    "\n",
    "DROP_COLS = [  # (shortened – add the rest of your leakage columns here)\n",
    "    \"close\", \"open\", \"high\", \"low\", \"typical_price\", \"high_low\",\n",
    "    \"high_close\", \"low_close\", \"EMA_21\", \"SMA_20\", \"vwap_24h\", \"close_4h\"\n",
    "]\n",
    "\n",
    "# ───────────────────────── data load ───────────────────────\n",
    "print(\"📊 Loading data …\")\n",
    "df = (\n",
    "    pd.read_csv(CSV_PATH, index_col=0, parse_dates=True)\n",
    "      .loc[\"2018-01-01\":]\n",
    "      .drop(columns=[c for c in DROP_COLS if c in df.columns])\n",
    "      .dropna(subset=[\"target\"])\n",
    "      .dropna()\n",
    ")\n",
    "print(f\"Shape  : {df.shape}\")\n",
    "print(\"Classes:\\n\", df[\"target\"].value_counts(), \"\\n\")\n",
    "\n",
    "X_raw, y_raw = df.drop(columns=\"target\").values, df[\"target\"].astype(int).values\n",
    "n_features   = X_raw.shape[1]\n",
    "\n",
    "split = int(len(df) * (1 - VAL_FRAC))\n",
    "scaler = StandardScaler().fit(X_raw[:split])\n",
    "joblib.dump(scaler, SCALER_PKL)\n",
    "\n",
    "X_tr_raw = scaler.transform(X_raw[:split]).astype(np.float32)\n",
    "X_va_raw = scaler.transform(X_raw[split:]).astype(np.float32)\n",
    "y_tr_raw, y_va_raw = y_raw[:split], y_raw[split:]\n",
    "\n",
    "pos_rate = y_tr_raw.mean()\n",
    "CLASS_W0 = np.float32(1.0)\n",
    "CLASS_W1 = np.float32((1 - pos_rate) / pos_rate if pos_rate else 1.0)\n",
    "print(f\"Class-weights 0 / 1 → {CLASS_W0:.2f} / {CLASS_W1:.2f}\")\n",
    "\n",
    "# ─────────────────── window cache helper ───────────────────\n",
    "_CACHE: Dict[Tuple[int, int, int], Tuple[np.ndarray, np.ndarray]] = {}\n",
    "\n",
    "def make_windows(arr: np.ndarray, labels: np.ndarray, win: int):\n",
    "    k = (id(arr), len(labels), win)\n",
    "    if k in _CACHE:\n",
    "        return _CACHE[k]\n",
    "\n",
    "    Xs, ys = [], []\n",
    "    for i in range(win, len(arr)):\n",
    "        Xs.append(arr[i - win:i])\n",
    "        ys.append(labels[i])\n",
    "    Xw, yw = np.asarray(Xs, np.float32), np.asarray(ys, np.int8)\n",
    "\n",
    "    if Xw.nbytes + yw.nbytes < 1_000_000_000:\n",
    "        _CACHE[k] = (Xw, yw)\n",
    "    return Xw, yw\n",
    "\n",
    "# ─────────────── metric: weighted-F1 (α=2) ────────────────\n",
    "def f1_alpha2(y_true, y_prob) -> float:\n",
    "    y_pred = (y_prob >= 0.5).astype(int)\n",
    "    p, r   = precision_score(y_true, y_pred, zero_division=0), \\\n",
    "             recall_score   (y_true, y_pred, zero_division=0)\n",
    "    return 0. if p+r == 0 else (1+ALPHA)*p*r / (ALPHA*p + r)\n",
    "\n",
    "# ──────────────── TCN model factory ───────────────────────\n",
    "def build_tcn(cfg: dict) -> keras.Model:\n",
    "    dilations = [2 ** i for i in range(cfg[\"nb_stacks\"] * cfg[\"blocks_per_stack\"])]\n",
    "\n",
    "    inp = keras.layers.Input(shape=(cfg[\"window\"], n_features))\n",
    "    x   = TCN(\n",
    "            nb_filters       = cfg[\"filters\"],\n",
    "            kernel_size      = cfg[\"kernel\"],\n",
    "            nb_stacks        = cfg[\"nb_stacks\"],\n",
    "            dilations        = dilations,\n",
    "            padding          = \"causal\",\n",
    "            dropout_rate     = cfg[\"dropout\"],\n",
    "            activation       = cfg[\"act\"],\n",
    "            use_skip_connections = True,\n",
    "            use_batch_norm   = cfg[\"norm\"] == \"batch\",\n",
    "            use_layer_norm   = cfg[\"norm\"] == \"layer\",\n",
    "            return_sequences = False\n",
    "         )(inp)\n",
    "\n",
    "    x   = keras.layers.Dense(cfg[\"dense\"], activation=cfg[\"act\"])(x)\n",
    "    x   = keras.layers.Dropout(cfg[\"dropout\"])(x)\n",
    "    out = keras.layers.Dense(1, activation=\"sigmoid\")(x)\n",
    "    model = keras.Model(inp, out)\n",
    "\n",
    "    # balanced BCE\n",
    "    def weighted_bce(y_t, y_p):\n",
    "        y_t = tf.cast(y_t, y_p.dtype)\n",
    "        w   = tf.where(tf.equal(y_t, 1), CLASS_W1, CLASS_W0)\n",
    "        w   = tf.cast(w, y_p.dtype)\n",
    "        return tf.reduce_mean(w * keras.losses.binary_crossentropy(y_t, y_p))\n",
    "\n",
    "    model.compile(keras.optimizers.Adam(cfg[\"lr\"]), loss=weighted_bce)\n",
    "    return model\n",
    "\n",
    "# ──────────────────── Optuna objective ────────────────────\n",
    "def objective(trial: optuna.trial.Trial):\n",
    "    cfg = dict(\n",
    "        window           = trial.suggest_int(\"window\", 12, 60, step=6),\n",
    "        filters          = trial.suggest_categorical(\"filters\", [32, 48, 64, 96]),\n",
    "        kernel           = trial.suggest_int(\"kernel\", 2, 6),\n",
    "        nb_stacks        = trial.suggest_int(\"nb_stacks\", 1, 3),\n",
    "        blocks_per_stack = trial.suggest_int(\"blocks_per_stack\", 1, 2),\n",
    "        dropout          = trial.suggest_float(\"dropout\", 0.05, 0.35),\n",
    "        dense            = trial.suggest_categorical(\"dense\", [32, 64, 128]),\n",
    "        act              = trial.suggest_categorical(\"act\", [\"relu\", \"elu\", \"selu\", tf.nn.swish]),\n",
    "        lr               = trial.suggest_float(\"lr\", 5e-5, 3e-3, log=True),\n",
    "        batch            = trial.suggest_categorical(\"batch\", [32, 64]),\n",
    "        norm             = trial.suggest_categorical(\"norm\", [\"none\", \"batch\", \"layer\"]),\n",
    "    )\n",
    "\n",
    "    X_tr, y_tr = make_windows(X_tr_raw, y_tr_raw, cfg[\"window\"])\n",
    "    X_va, y_va = make_windows(X_va_raw, y_va_raw, cfg[\"window\"])\n",
    "\n",
    "    if len(X_tr) < cfg[\"batch\"] * 10:      # too small → prune\n",
    "        return float(\"inf\")\n",
    "\n",
    "    tf.keras.backend.clear_session(); gc.collect()\n",
    "    model = build_tcn(cfg)\n",
    "\n",
    "    cb = [\n",
    "        keras.callbacks.EarlyStopping(patience=10, restore_best_weights=True, verbose=0),\n",
    "        keras.callbacks.ReduceLROnPlateau(patience=5, factor=.5, min_lr=1e-6, verbose=0),\n",
    "        TFKerasPruningCallback(trial, \"val_loss\")\n",
    "    ]\n",
    "\n",
    "    hist = model.fit(X_tr, y_tr,\n",
    "                     validation_data=(X_va, y_va),\n",
    "                     epochs=100,\n",
    "                     batch_size=cfg[\"batch\"],\n",
    "                     shuffle=False,\n",
    "                     callbacks=cb,\n",
    "                     verbose=0)\n",
    "\n",
    "    y_prob = model.predict(X_va, batch_size=cfg[\"batch\"], verbose=0).ravel()\n",
    "    score  = f1_alpha2(y_va, y_prob)\n",
    "\n",
    "    # store metrics to inspect later\n",
    "    trial.set_user_attr(\"precision\", precision_score(y_va, y_prob >= 0.5, zero_division=0))\n",
    "    trial.set_user_attr(\"recall\",    recall_score   (y_va, y_prob >= 0.5, zero_division=0))\n",
    "    trial.set_user_attr(\"best_epoch\", int(np.argmin(hist.history[\"val_loss\"]) + 1))\n",
    "\n",
    "    # print live metrics\n",
    "    print(f\"Trial {trial.number:2d}  \"\n",
    "          f\"Fα2={score:.4f}  P={trial.user_attrs['precision']:.3f} \"\n",
    "          f\"R={trial.user_attrs['recall']:.3f}  cfg={trial.params}\")\n",
    "\n",
    "    del model; tf.keras.backend.clear_session(); gc.collect()\n",
    "    return -score   # minimise\n",
    "\n",
    "# ─────────────────────────── main ──────────────────────────\n",
    "def main():\n",
    "    study = optuna.create_study(direction=\"minimize\",\n",
    "                                sampler=optuna.samplers.TPESampler(seed=SEED),\n",
    "                                pruner =optuna.pruners.MedianPruner(n_startup_trials=5))\n",
    "\n",
    "    print(f\"\\n🚀 Optimising  {N_TRIALS} trials  |  {TIMEOUT//60} min wall-time …\")\n",
    "    study.optimize(objective,\n",
    "                   n_trials=N_TRIALS,\n",
    "                   timeout=TIMEOUT,\n",
    "                   show_progress_bar=True,\n",
    "                   gc_after_trial=True)\n",
    "\n",
    "    best, ts = study.best_trial, datetime.utcnow().strftime(\"%Y%m%d_%H%M%S\")\n",
    "\n",
    "    print(\"\\n═══════════ BEST RESULT ═══════════\")\n",
    "    print(f\"weighted-F1 (α=2) : {-best.value:.4f}\")\n",
    "    print(f\"precision         : {best.user_attrs['precision']:.4f}\")\n",
    "    print(f\"recall            : {best.user_attrs['recall']:.4f}\")\n",
    "    print(f\"best epoch        : {best.user_attrs['best_epoch']}\")\n",
    "    print(\"hyper-parameters  :\")\n",
    "    for k, v in best.params.items():\n",
    "        print(f\"  {k:18s}: {v}\")\n",
    "\n",
    "    json.dump(best.params, open(f\"best_params_tcn_{ts}.json\", \"w\"), indent=2)\n",
    "    study.trials_dataframe().to_csv(f\"trials_tcn_{ts}.csv\", index=False)\n",
    "\n",
    "    try:\n",
    "        import matplotlib.pyplot as plt\n",
    "        optuna.visualization.matplotlib.plot_optimization_history(study)\n",
    "        plt.tight_layout()\n",
    "        plt.savefig(f\"optuna_tcn_history_{ts}.png\", dpi=300)\n",
    "        plt.close()\n",
    "    except Exception:\n",
    "        print(\"⚠️ matplotlib unavailable – history plot skipped.\")\n",
    "\n",
    "    print(f\"\\n📝 Artefacts saved (timestamp {ts}).  \"\n",
    "          f\"Scaler → {SCALER_PKL}\")\n",
    "\n",
    "# ───────────────────────────────────────────────────────────\n",
    "if __name__ == \"__main__\":\n",
    "    main()\n"
   ]
  },
  {
   "cell_type": "code",
   "execution_count": null,
   "id": "6ce7a36a",
   "metadata": {},
   "outputs": [],
   "source": [
    "[I 2025-06-09 18:05:11,711] A new study created in memory with name: no-name-0933098c-6339-4e53-ace1-0af2750e397a\n",
    "📊 Loading data …\n",
    "Shape  : (15855, 66)\n",
    "Classes:\n",
    " target\n",
    "1    8097\n",
    "0    7758\n",
    "Name: count, dtype: int64 \n",
    "\n",
    "Class-weights 0 / 1 → 1.00 / 0.97\n",
    "\n",
    "🚀 Optimising  40 trials  |  30 min wall-time …\n",
    "  0%|          | 0/40 [00:00<?, ?it/s]Trial  0  Fα2=0.4618  P=0.529 R=0.434  cfg={'window': 30, 'filters': 32, 'kernel': 2, 'nb_stacks': 1, 'blocks_per_stack': 2, 'dropout': 0.23033450352296264, 'dense': 128, 'act': 'relu', 'lr': 0.00017376356936978755, 'batch': 32, 'norm': 'batch'}\n",
    "  0%|          | 0/40 [00:44<?, ?it/s][I 2025-06-09 18:05:56,603] Trial 0 finished with value: -0.46183783783783783 and parameters: {'window': 30, 'filters': 32, 'kernel': 2, 'nb_stacks': 1, 'blocks_per_stack': 2, 'dropout': 0.23033450352296264, 'dense': 128, 'act': 'relu', 'lr': 0.00017376356936978755, 'batch': 32, 'norm': 'batch'}. Best is trial 0 with value: -0.46183783783783783.\n",
    "Best trial: 0. Best value: -0.461838:   2%|▎         | 1/40 [00:45<29:26, 45.29s/it, 45.29/1800 seconds]Trial  1  Fα2=0.2813  P=0.515 R=0.229  cfg={'window': 24, 'filters': 64, 'kernel': 4, 'nb_stacks': 2, 'blocks_per_stack': 1, 'dropout': 0.2322634555704315, 'dense': 128, 'act': 'relu', 'lr': 0.0008234548958371457, 'batch': 32, 'norm': 'layer'}\n",
    "Best trial: 0. Best value: -0.461838:   2%|▎         | 1/40 [02:14<29:26, 45.29s/it, 45.29/1800 seconds][I 2025-06-09 18:07:26,384] Trial 1 finished with value: -0.28134328358208954 and parameters: {'window': 24, 'filters': 64, 'kernel': 4, 'nb_stacks': 2, 'blocks_per_stack': 1, 'dropout': 0.2322634555704315, 'dense': 128, 'act': 'relu', 'lr': 0.0008234548958371457, 'batch': 32, 'norm': 'layer'}. Best is trial 0 with value: -0.46183783783783783.\n",
    "Best trial: 0. Best value: -0.461838:   5%|▌         | 2/40 [02:15<45:16, 71.48s/it, 135.10/1800 seconds]Trial  2  Fα2=0.5694  P=0.519 R=0.599  cfg={'window': 24, 'filters': 32, 'kernel': 2, 'nb_stacks': 3, 'blocks_per_stack': 2, 'dropout': 0.3318496824692567, 'dense': 128, 'act': <function swish at 0x0000025F5ECDAF80>, 'lr': 0.0002455257311459749, 'batch': 64, 'norm': 'layer'}\n",
    "Best trial: 0. Best value: -0.461838:   5%|▌         | 2/40 [13:03<45:16, 71.48s/it, 135.10/1800 seconds][I 2025-06-09 18:18:15,273] Trial 2 finished with value: -0.5694444444444443 and parameters: {'window': 24, 'filters': 32, 'kernel': 2, 'nb_stacks': 3, 'blocks_per_stack': 2, 'dropout': 0.3318496824692567, 'dense': 128, 'act': <function swish at 0x0000025F5ECDAF80>, 'lr': 0.0002455257311459749, 'batch': 64, 'norm': 'layer'}. Best is trial 2 with value: -0.5694444444444443.\n",
    "Best trial: 2. Best value: -0.569444:   8%|▊         | 3/40 [13:04<3:26:43, 335.23s/it, 784.19/1800 seconds]Trial  3  Fα2=0.4582  P=0.528 R=0.430  cfg={'window': 18, 'filters': 64, 'kernel': 2, 'nb_stacks': 1, 'blocks_per_stack': 2, 'dropout': 0.26205720315428516, 'dense': 64, 'act': 'selu', 'lr': 0.00019380132456492117, 'batch': 64, 'norm': 'batch'}\n",
    "Best trial: 2. Best value: -0.569444:   8%|▊         | 3/40 [13:50<3:26:43, 335.23s/it, 784.19/1800 seconds][I 2025-06-09 18:19:01,809] Trial 3 finished with value: -0.45815358067299394 and parameters: {'window': 18, 'filters': 64, 'kernel': 2, 'nb_stacks': 1, 'blocks_per_stack': 2, 'dropout': 0.26205720315428516, 'dense': 64, 'act': 'selu', 'lr': 0.00019380132456492117, 'batch': 64, 'norm': 'batch'}. Best is trial 2 with value: -0.5694444444444443.\n",
    "Best trial: 2. Best value: -0.569444:  10%|█         | 4/40 [13:50<2:12:44, 221.23s/it, 830.66/1800 seconds]Trial  4  Fα2=0.0734  P=0.464 R=0.052  cfg={'window': 54, 'filters': 96, 'kernel': 4, 'nb_stacks': 3, 'blocks_per_stack': 1, 'dropout': 0.2068198488145982, 'dense': 32, 'act': 'elu', 'lr': 0.0020547569815878254, 'batch': 64, 'norm': 'none'}\n",
    "Best trial: 2. Best value: -0.569444:  10%|█         | 4/40 [20:56<2:12:44, 221.23s/it, 830.66/1800 seconds][I 2025-06-09 18:26:07,757] Trial 4 finished with value: -0.07344797435150102 and parameters: {'window': 54, 'filters': 96, 'kernel': 4, 'nb_stacks': 3, 'blocks_per_stack': 1, 'dropout': 0.2068198488145982, 'dense': 32, 'act': 'elu', 'lr': 0.0020547569815878254, 'batch': 64, 'norm': 'none'}. Best is trial 2 with value: -0.5694444444444443.\n",
    "Best trial: 2. Best value: -0.569444:  12%|█▎        | 5/40 [21:44<2:52:07, 295.06s/it, 1256.64/1800 seconds][I 2025-06-09 18:26:56,640] Trial 5 pruned. Trial was pruned at epoch 2.\n",
    "Best trial: 2. Best value: -0.569444:  15%|█▌        | 6/40 [22:07<1:59:46, 211.37s/it, 1305.56/1800 seconds][I 2025-06-09 18:27:19,541] Trial 6 pruned. Trial was pruned at epoch 0.\n",
    "Best trial: 2. Best value: -0.569444:  18%|█▊        | 7/40 [22:51<1:22:22, 149.77s/it, 1328.51/1800 seconds][I 2025-06-09 18:28:03,649] Trial 7 pruned. Trial was pruned at epoch 0.\n",
    "Best trial: 2. Best value: -0.569444:  20%|██        | 8/40 [25:29<1:01:56, 116.16s/it, 1372.68/1800 seconds][I 2025-06-09 18:30:41,459] Trial 8 pruned. Trial was pruned at epoch 2.\n",
    "Best trial: 2. Best value: -0.569444:  22%|██▎       | 9/40 [25:45<1:06:46, 129.23s/it, 1530.66/1800 seconds][I 2025-06-09 18:30:57,079] Trial 9 pruned. Trial was pruned at epoch 0.\n",
    "Best trial: 2. Best value: -0.569444:  25%|██▌       | 10/40 [26:39<47:04, 94.15s/it, 1546.25/1800 seconds]  [I 2025-06-09 18:31:51,377] Trial 10 pruned. Trial was pruned at epoch 0.\n",
    "Best trial: 2. Best value: -0.569444:  28%|██▊       | 11/40 [26:48<39:37, 82.00s/it, 1600.71/1800 seconds][I 2025-06-09 18:32:00,674] Trial 11 pruned. Trial was pruned at epoch 0.\n",
    "Best trial: 2. Best value: -0.569444:  30%|███       | 12/40 [26:57<27:56, 59.86s/it, 1609.93/1800 seconds][I 2025-06-09 18:32:09,118] Trial 12 pruned. Trial was pruned at epoch 0.\n",
    "Best trial: 2. Best value: -0.569444:  32%|███▎      | 13/40 [27:06<19:56, 44.30s/it, 1618.42/1800 seconds][I 2025-06-09 18:32:18,590] Trial 13 pruned. Trial was pruned at epoch 0.\n",
    "Best trial: 2. Best value: -0.569444:  35%|███▌      | 14/40 [27:38<14:38, 33.78s/it, 1627.88/1800 seconds][I 2025-06-09 18:32:50,659] Trial 14 pruned. Trial was pruned at epoch 0.\n",
    "Best trial: 2. Best value: -0.569444:  38%|███▊      | 15/40 [27:39<13:51, 33.27s/it, 1659.99/1800 seconds]Trial 15  Fα2=0.5717  P=0.532 R=0.594  cfg={'window': 30, 'filters': 32, 'kernel': 3, 'nb_stacks': 1, 'blocks_per_stack': 2, 'dropout': 0.19135781227800264, 'dense': 32, 'act': 'relu', 'lr': 5.35786547006468e-05, 'batch': 32, 'norm': 'layer'}\n",
    "Best trial: 2. Best value: -0.569444:  38%|███▊      | 15/40 [28:35<13:51, 33.27s/it, 1659.99/1800 seconds][I 2025-06-09 18:33:47,413] Trial 15 finished with value: -0.5716803760282021 and parameters: {'window': 30, 'filters': 32, 'kernel': 3, 'nb_stacks': 1, 'blocks_per_stack': 2, 'dropout': 0.19135781227800264, 'dense': 32, 'act': 'relu', 'lr': 5.35786547006468e-05, 'batch': 32, 'norm': 'layer'}. Best is trial 15 with value: -0.5716803760282021.\n",
    "Best trial: 15. Best value: -0.57168:  40%|████      | 16/40 [29:14<16:08, 40.33s/it, 1716.72/1800 seconds][I 2025-06-09 18:34:26,236] Trial 16 pruned. Trial was pruned at epoch 0.\n",
    "Best trial: 15. Best value: -0.57168:  42%|████▎     | 17/40 [29:29<15:18, 39.93s/it, 1755.72/1800 seconds][I 2025-06-09 18:34:41,644] Trial 17 pruned. Trial was pruned at epoch 0.\n",
    "Best trial: 15. Best value: -0.57168:  45%|████▌     | 18/40 [32:38<11:56, 32.56s/it, 1771.12/1800 seconds][I 2025-06-09 18:37:50,265] Trial 18 pruned. Trial was pruned at epoch 1.\n",
    "Best trial: 15. Best value: -0.57168:  48%|████▊     | 19/40 [32:39<36:06, 103.15s/it, 1959.93/1800 seconds]\n",
    "\n",
    "═══════════ BEST RESULT ═══════════\n",
    "weighted-F1 (α=2) : 0.5717\n",
    "precision         : 0.5323\n",
    "recall            : 0.5937\n",
    "best epoch        : 7\n",
    "hyper-parameters  :\n",
    "  window            : 30\n",
    "  filters           : 32\n",
    "  kernel            : 3\n",
    "  nb_stacks         : 1\n",
    "  blocks_per_stack  : 2\n",
    "  dropout           : 0.19135781227800264\n",
    "  dense             : 32\n",
    "  act               : relu\n",
    "  lr                : 5.35786547006468e-05\n",
    "  batch             : 32\n",
    "  norm              : layer\n",
    "\n",
    "📝 Artefacts saved (timestamp 20250609_153751).  Scaler → tcn_scaler.pkl"
   ]
  }
 ],
 "metadata": {
  "kernelspec": {
   "display_name": ".venv",
   "language": "python",
   "name": "python3"
  },
  "language_info": {
   "codemirror_mode": {
    "name": "ipython",
    "version": 3
   },
   "file_extension": ".py",
   "mimetype": "text/x-python",
   "name": "python",
   "nbconvert_exporter": "python",
   "pygments_lexer": "ipython3",
   "version": "3.10.6"
  }
 },
 "nbformat": 4,
 "nbformat_minor": 5
}
